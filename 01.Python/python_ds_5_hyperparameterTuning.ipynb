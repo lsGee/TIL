{
  "nbformat": 4,
  "nbformat_minor": 0,
  "metadata": {
    "colab": {
      "name": "python_ds_5_hyperparameterTuning.ipynb",
      "provenance": [],
      "collapsed_sections": [
        "NW7TVaUfoIyD",
        "JQxN5Yaco7mV",
        "IF0bo-RcpAim",
        "jB6U_LKDpWBW",
        "XlfxHTTmqKjG",
        "S6IxknnmXnZf",
        "U9oqbXQLayd0",
        "dv5gZmZSf8Tp",
        "mGc3qrwHpzf1",
        "kzIatsBIf8Uc"
      ],
      "mount_file_id": "13dRxsoj6W9jKcyfN2ae9NeYvR0NR6rdz",
      "authorship_tag": "ABX9TyOnZ5ESMOyd9dYTddgVZ2mF",
      "include_colab_link": true
    },
    "kernelspec": {
      "name": "python3",
      "display_name": "Python 3"
    }
  },
  "cells": [
    {
      "cell_type": "markdown",
      "metadata": {
        "id": "view-in-github",
        "colab_type": "text"
      },
      "source": [
        "<a href=\"https://colab.research.google.com/github/lsGee/TIL/blob/master/01.Python/python_ds_5_hyperparameterTuning.ipynb\" target=\"_parent\"><img src=\"https://colab.research.google.com/assets/colab-badge.svg\" alt=\"Open In Colab\"/></a>"
      ]
    },
    {
      "cell_type": "markdown",
      "metadata": {
        "id": "NW7TVaUfoIyD"
      },
      "source": [
        "# Data Load"
      ]
    },
    {
      "cell_type": "markdown",
      "metadata": {
        "id": "JQxN5Yaco7mV"
      },
      "source": [
        "## train data"
      ]
    },
    {
      "cell_type": "code",
      "metadata": {
        "id": "oB_a2HEbns5I"
      },
      "source": [
        "import pandas as pd"
      ],
      "execution_count": null,
      "outputs": []
    },
    {
      "cell_type": "code",
      "metadata": {
        "id": "-RHwf2WvoHZx",
        "outputId": "abed4025-5d70-41b4-9aa4-b71da80cb2c9",
        "colab": {
          "base_uri": "https://localhost:8080/"
        }
      },
      "source": [
        "train = pd.read_csv(\"/content/drive/My Drive/Colab Notebooks/data/bike/train.csv\")\n",
        "\n",
        "print(train.shape)"
      ],
      "execution_count": null,
      "outputs": [
        {
          "output_type": "stream",
          "text": [
            "(10886, 12)\n"
          ],
          "name": "stdout"
        }
      ]
    },
    {
      "cell_type": "code",
      "metadata": {
        "id": "D0q_Tww_o0yn",
        "outputId": "438f39dd-f85e-4f96-e4d5-5184b6ff32b2",
        "colab": {
          "base_uri": "https://localhost:8080/"
        }
      },
      "source": [
        "train[\"datetime\"] = pd.to_datetime(train[\"datetime\"])\n",
        "\n",
        "train[\"datetime-year\"] = train[\"datetime\"].dt.year\n",
        "train[\"datetime-month\"] = train[\"datetime\"].dt.month\n",
        "train[\"datetime-day\"] = train[\"datetime\"].dt.day\n",
        "train[\"datetime-hour\"] = train[\"datetime\"].dt.hour\n",
        "train[\"datetime-minute\"] = train[\"datetime\"].dt.minute\n",
        "train[\"datetime-second\"] = train[\"datetime\"].dt.second\n",
        "\n",
        "print(train.shape)\n",
        "train.head()"
      ],
      "execution_count": null,
      "outputs": [
        {
          "output_type": "stream",
          "text": [
            "(10886, 18)\n"
          ],
          "name": "stdout"
        },
        {
          "output_type": "execute_result",
          "data": {
            "text/html": [
              "<div>\n",
              "<style scoped>\n",
              "    .dataframe tbody tr th:only-of-type {\n",
              "        vertical-align: middle;\n",
              "    }\n",
              "\n",
              "    .dataframe tbody tr th {\n",
              "        vertical-align: top;\n",
              "    }\n",
              "\n",
              "    .dataframe thead th {\n",
              "        text-align: right;\n",
              "    }\n",
              "</style>\n",
              "<table border=\"1\" class=\"dataframe\">\n",
              "  <thead>\n",
              "    <tr style=\"text-align: right;\">\n",
              "      <th></th>\n",
              "      <th>datetime</th>\n",
              "      <th>season</th>\n",
              "      <th>holiday</th>\n",
              "      <th>workingday</th>\n",
              "      <th>weather</th>\n",
              "      <th>temp</th>\n",
              "      <th>atemp</th>\n",
              "      <th>humidity</th>\n",
              "      <th>windspeed</th>\n",
              "      <th>casual</th>\n",
              "      <th>registered</th>\n",
              "      <th>count</th>\n",
              "      <th>datetime-year</th>\n",
              "      <th>datetime-month</th>\n",
              "      <th>datetime-day</th>\n",
              "      <th>datetime-hour</th>\n",
              "      <th>datetime-minute</th>\n",
              "      <th>datetime-second</th>\n",
              "    </tr>\n",
              "  </thead>\n",
              "  <tbody>\n",
              "    <tr>\n",
              "      <th>0</th>\n",
              "      <td>2011-01-01 00:00:00</td>\n",
              "      <td>1</td>\n",
              "      <td>0</td>\n",
              "      <td>0</td>\n",
              "      <td>1</td>\n",
              "      <td>9.84</td>\n",
              "      <td>14.395</td>\n",
              "      <td>81</td>\n",
              "      <td>0.0</td>\n",
              "      <td>3</td>\n",
              "      <td>13</td>\n",
              "      <td>16</td>\n",
              "      <td>2011</td>\n",
              "      <td>1</td>\n",
              "      <td>1</td>\n",
              "      <td>0</td>\n",
              "      <td>0</td>\n",
              "      <td>0</td>\n",
              "    </tr>\n",
              "    <tr>\n",
              "      <th>1</th>\n",
              "      <td>2011-01-01 01:00:00</td>\n",
              "      <td>1</td>\n",
              "      <td>0</td>\n",
              "      <td>0</td>\n",
              "      <td>1</td>\n",
              "      <td>9.02</td>\n",
              "      <td>13.635</td>\n",
              "      <td>80</td>\n",
              "      <td>0.0</td>\n",
              "      <td>8</td>\n",
              "      <td>32</td>\n",
              "      <td>40</td>\n",
              "      <td>2011</td>\n",
              "      <td>1</td>\n",
              "      <td>1</td>\n",
              "      <td>1</td>\n",
              "      <td>0</td>\n",
              "      <td>0</td>\n",
              "    </tr>\n",
              "    <tr>\n",
              "      <th>2</th>\n",
              "      <td>2011-01-01 02:00:00</td>\n",
              "      <td>1</td>\n",
              "      <td>0</td>\n",
              "      <td>0</td>\n",
              "      <td>1</td>\n",
              "      <td>9.02</td>\n",
              "      <td>13.635</td>\n",
              "      <td>80</td>\n",
              "      <td>0.0</td>\n",
              "      <td>5</td>\n",
              "      <td>27</td>\n",
              "      <td>32</td>\n",
              "      <td>2011</td>\n",
              "      <td>1</td>\n",
              "      <td>1</td>\n",
              "      <td>2</td>\n",
              "      <td>0</td>\n",
              "      <td>0</td>\n",
              "    </tr>\n",
              "    <tr>\n",
              "      <th>3</th>\n",
              "      <td>2011-01-01 03:00:00</td>\n",
              "      <td>1</td>\n",
              "      <td>0</td>\n",
              "      <td>0</td>\n",
              "      <td>1</td>\n",
              "      <td>9.84</td>\n",
              "      <td>14.395</td>\n",
              "      <td>75</td>\n",
              "      <td>0.0</td>\n",
              "      <td>3</td>\n",
              "      <td>10</td>\n",
              "      <td>13</td>\n",
              "      <td>2011</td>\n",
              "      <td>1</td>\n",
              "      <td>1</td>\n",
              "      <td>3</td>\n",
              "      <td>0</td>\n",
              "      <td>0</td>\n",
              "    </tr>\n",
              "    <tr>\n",
              "      <th>4</th>\n",
              "      <td>2011-01-01 04:00:00</td>\n",
              "      <td>1</td>\n",
              "      <td>0</td>\n",
              "      <td>0</td>\n",
              "      <td>1</td>\n",
              "      <td>9.84</td>\n",
              "      <td>14.395</td>\n",
              "      <td>75</td>\n",
              "      <td>0.0</td>\n",
              "      <td>0</td>\n",
              "      <td>1</td>\n",
              "      <td>1</td>\n",
              "      <td>2011</td>\n",
              "      <td>1</td>\n",
              "      <td>1</td>\n",
              "      <td>4</td>\n",
              "      <td>0</td>\n",
              "      <td>0</td>\n",
              "    </tr>\n",
              "  </tbody>\n",
              "</table>\n",
              "</div>"
            ],
            "text/plain": [
              "             datetime  season  ...  datetime-minute  datetime-second\n",
              "0 2011-01-01 00:00:00       1  ...                0                0\n",
              "1 2011-01-01 01:00:00       1  ...                0                0\n",
              "2 2011-01-01 02:00:00       1  ...                0                0\n",
              "3 2011-01-01 03:00:00       1  ...                0                0\n",
              "4 2011-01-01 04:00:00       1  ...                0                0\n",
              "\n",
              "[5 rows x 18 columns]"
            ]
          },
          "metadata": {
            "tags": []
          },
          "execution_count": 39
        }
      ]
    },
    {
      "cell_type": "markdown",
      "metadata": {
        "id": "IF0bo-RcpAim"
      },
      "source": [
        "## test data"
      ]
    },
    {
      "cell_type": "code",
      "metadata": {
        "id": "GaxrXJzKpBxd",
        "outputId": "6f9e960d-916b-43c0-ca13-997aa9c69262",
        "colab": {
          "base_uri": "https://localhost:8080/"
        }
      },
      "source": [
        "test = pd.read_csv(\"/content/drive/My Drive/Colab Notebooks/data/bike/test.csv\")\n",
        "\n",
        "print(test.shape)"
      ],
      "execution_count": null,
      "outputs": [
        {
          "output_type": "stream",
          "text": [
            "(6493, 9)\n"
          ],
          "name": "stdout"
        }
      ]
    },
    {
      "cell_type": "code",
      "metadata": {
        "id": "gdFC3zbmo6tu",
        "outputId": "266637e3-18e5-4479-f88d-d7e579789226",
        "colab": {
          "base_uri": "https://localhost:8080/"
        }
      },
      "source": [
        "test[\"datetime\"] = pd.to_datetime(test[\"datetime\"])\n",
        "\n",
        "test[\"datetime-year\"] = test[\"datetime\"].dt.year\n",
        "test[\"datetime-month\"] = test[\"datetime\"].dt.month\n",
        "test[\"datetime-day\"] = test[\"datetime\"].dt.day\n",
        "test[\"datetime-hour\"] = test[\"datetime\"].dt.hour\n",
        "test[\"datetime-minute\"] = test[\"datetime\"].dt.minute\n",
        "test[\"datetime-second\"] = test[\"datetime\"].dt.second\n",
        "\n",
        "print(test.shape)\n",
        "\n",
        "test.head()"
      ],
      "execution_count": null,
      "outputs": [
        {
          "output_type": "stream",
          "text": [
            "(6493, 15)\n"
          ],
          "name": "stdout"
        },
        {
          "output_type": "execute_result",
          "data": {
            "text/html": [
              "<div>\n",
              "<style scoped>\n",
              "    .dataframe tbody tr th:only-of-type {\n",
              "        vertical-align: middle;\n",
              "    }\n",
              "\n",
              "    .dataframe tbody tr th {\n",
              "        vertical-align: top;\n",
              "    }\n",
              "\n",
              "    .dataframe thead th {\n",
              "        text-align: right;\n",
              "    }\n",
              "</style>\n",
              "<table border=\"1\" class=\"dataframe\">\n",
              "  <thead>\n",
              "    <tr style=\"text-align: right;\">\n",
              "      <th></th>\n",
              "      <th>datetime</th>\n",
              "      <th>season</th>\n",
              "      <th>holiday</th>\n",
              "      <th>workingday</th>\n",
              "      <th>weather</th>\n",
              "      <th>temp</th>\n",
              "      <th>atemp</th>\n",
              "      <th>humidity</th>\n",
              "      <th>windspeed</th>\n",
              "      <th>datetime-year</th>\n",
              "      <th>datetime-month</th>\n",
              "      <th>datetime-day</th>\n",
              "      <th>datetime-hour</th>\n",
              "      <th>datetime-minute</th>\n",
              "      <th>datetime-second</th>\n",
              "    </tr>\n",
              "  </thead>\n",
              "  <tbody>\n",
              "    <tr>\n",
              "      <th>0</th>\n",
              "      <td>2011-01-20 00:00:00</td>\n",
              "      <td>1</td>\n",
              "      <td>0</td>\n",
              "      <td>1</td>\n",
              "      <td>1</td>\n",
              "      <td>10.66</td>\n",
              "      <td>11.365</td>\n",
              "      <td>56</td>\n",
              "      <td>26.0027</td>\n",
              "      <td>2011</td>\n",
              "      <td>1</td>\n",
              "      <td>20</td>\n",
              "      <td>0</td>\n",
              "      <td>0</td>\n",
              "      <td>0</td>\n",
              "    </tr>\n",
              "    <tr>\n",
              "      <th>1</th>\n",
              "      <td>2011-01-20 01:00:00</td>\n",
              "      <td>1</td>\n",
              "      <td>0</td>\n",
              "      <td>1</td>\n",
              "      <td>1</td>\n",
              "      <td>10.66</td>\n",
              "      <td>13.635</td>\n",
              "      <td>56</td>\n",
              "      <td>0.0000</td>\n",
              "      <td>2011</td>\n",
              "      <td>1</td>\n",
              "      <td>20</td>\n",
              "      <td>1</td>\n",
              "      <td>0</td>\n",
              "      <td>0</td>\n",
              "    </tr>\n",
              "    <tr>\n",
              "      <th>2</th>\n",
              "      <td>2011-01-20 02:00:00</td>\n",
              "      <td>1</td>\n",
              "      <td>0</td>\n",
              "      <td>1</td>\n",
              "      <td>1</td>\n",
              "      <td>10.66</td>\n",
              "      <td>13.635</td>\n",
              "      <td>56</td>\n",
              "      <td>0.0000</td>\n",
              "      <td>2011</td>\n",
              "      <td>1</td>\n",
              "      <td>20</td>\n",
              "      <td>2</td>\n",
              "      <td>0</td>\n",
              "      <td>0</td>\n",
              "    </tr>\n",
              "    <tr>\n",
              "      <th>3</th>\n",
              "      <td>2011-01-20 03:00:00</td>\n",
              "      <td>1</td>\n",
              "      <td>0</td>\n",
              "      <td>1</td>\n",
              "      <td>1</td>\n",
              "      <td>10.66</td>\n",
              "      <td>12.880</td>\n",
              "      <td>56</td>\n",
              "      <td>11.0014</td>\n",
              "      <td>2011</td>\n",
              "      <td>1</td>\n",
              "      <td>20</td>\n",
              "      <td>3</td>\n",
              "      <td>0</td>\n",
              "      <td>0</td>\n",
              "    </tr>\n",
              "    <tr>\n",
              "      <th>4</th>\n",
              "      <td>2011-01-20 04:00:00</td>\n",
              "      <td>1</td>\n",
              "      <td>0</td>\n",
              "      <td>1</td>\n",
              "      <td>1</td>\n",
              "      <td>10.66</td>\n",
              "      <td>12.880</td>\n",
              "      <td>56</td>\n",
              "      <td>11.0014</td>\n",
              "      <td>2011</td>\n",
              "      <td>1</td>\n",
              "      <td>20</td>\n",
              "      <td>4</td>\n",
              "      <td>0</td>\n",
              "      <td>0</td>\n",
              "    </tr>\n",
              "  </tbody>\n",
              "</table>\n",
              "</div>"
            ],
            "text/plain": [
              "             datetime  season  ...  datetime-minute  datetime-second\n",
              "0 2011-01-20 00:00:00       1  ...                0                0\n",
              "1 2011-01-20 01:00:00       1  ...                0                0\n",
              "2 2011-01-20 02:00:00       1  ...                0                0\n",
              "3 2011-01-20 03:00:00       1  ...                0                0\n",
              "4 2011-01-20 04:00:00       1  ...                0                0\n",
              "\n",
              "[5 rows x 15 columns]"
            ]
          },
          "metadata": {
            "tags": []
          },
          "execution_count": 41
        }
      ]
    },
    {
      "cell_type": "markdown",
      "metadata": {
        "id": "jB6U_LKDpWBW"
      },
      "source": [
        "# Random Forest"
      ]
    },
    {
      "cell_type": "markdown",
      "metadata": {
        "id": "XlfxHTTmqKjG"
      },
      "source": [
        "## Train"
      ]
    },
    {
      "cell_type": "code",
      "metadata": {
        "id": "ebdR71TfpUEf"
      },
      "source": [
        "feature_names = [\"season\", \"holiday\", \"workingday\", \"weather\", \n",
        "                 \"temp\", \"atemp\", \"humidity\", \"windspeed\",\n",
        "                 \"datetime-year\", \"datetime-month\", \"datetime-day\", \n",
        "                 \"datetime-hour\", \"datetime-minute\", \"datetime-second\"]"
      ],
      "execution_count": null,
      "outputs": []
    },
    {
      "cell_type": "code",
      "metadata": {
        "id": "kcDlh-jRZI20",
        "outputId": "e01e2c8f-fe96-4968-b2ed-c90d65b5bf6e",
        "colab": {
          "base_uri": "https://localhost:8080/",
          "height": 259
        }
      },
      "source": [
        "X_train = train[feature_names]\n",
        "print(X_train.shape)\n",
        "X_train.head()"
      ],
      "execution_count": null,
      "outputs": [
        {
          "output_type": "stream",
          "text": [
            "(10886, 14)\n"
          ],
          "name": "stdout"
        },
        {
          "output_type": "execute_result",
          "data": {
            "text/html": [
              "<div>\n",
              "<style scoped>\n",
              "    .dataframe tbody tr th:only-of-type {\n",
              "        vertical-align: middle;\n",
              "    }\n",
              "\n",
              "    .dataframe tbody tr th {\n",
              "        vertical-align: top;\n",
              "    }\n",
              "\n",
              "    .dataframe thead th {\n",
              "        text-align: right;\n",
              "    }\n",
              "</style>\n",
              "<table border=\"1\" class=\"dataframe\">\n",
              "  <thead>\n",
              "    <tr style=\"text-align: right;\">\n",
              "      <th></th>\n",
              "      <th>season</th>\n",
              "      <th>holiday</th>\n",
              "      <th>workingday</th>\n",
              "      <th>weather</th>\n",
              "      <th>temp</th>\n",
              "      <th>atemp</th>\n",
              "      <th>humidity</th>\n",
              "      <th>windspeed</th>\n",
              "      <th>datetime-year</th>\n",
              "      <th>datetime-month</th>\n",
              "      <th>datetime-day</th>\n",
              "      <th>datetime-hour</th>\n",
              "      <th>datetime-minute</th>\n",
              "      <th>datetime-second</th>\n",
              "    </tr>\n",
              "  </thead>\n",
              "  <tbody>\n",
              "    <tr>\n",
              "      <th>0</th>\n",
              "      <td>1</td>\n",
              "      <td>0</td>\n",
              "      <td>0</td>\n",
              "      <td>1</td>\n",
              "      <td>9.84</td>\n",
              "      <td>14.395</td>\n",
              "      <td>81</td>\n",
              "      <td>0.0</td>\n",
              "      <td>2011</td>\n",
              "      <td>1</td>\n",
              "      <td>1</td>\n",
              "      <td>0</td>\n",
              "      <td>0</td>\n",
              "      <td>0</td>\n",
              "    </tr>\n",
              "    <tr>\n",
              "      <th>1</th>\n",
              "      <td>1</td>\n",
              "      <td>0</td>\n",
              "      <td>0</td>\n",
              "      <td>1</td>\n",
              "      <td>9.02</td>\n",
              "      <td>13.635</td>\n",
              "      <td>80</td>\n",
              "      <td>0.0</td>\n",
              "      <td>2011</td>\n",
              "      <td>1</td>\n",
              "      <td>1</td>\n",
              "      <td>1</td>\n",
              "      <td>0</td>\n",
              "      <td>0</td>\n",
              "    </tr>\n",
              "    <tr>\n",
              "      <th>2</th>\n",
              "      <td>1</td>\n",
              "      <td>0</td>\n",
              "      <td>0</td>\n",
              "      <td>1</td>\n",
              "      <td>9.02</td>\n",
              "      <td>13.635</td>\n",
              "      <td>80</td>\n",
              "      <td>0.0</td>\n",
              "      <td>2011</td>\n",
              "      <td>1</td>\n",
              "      <td>1</td>\n",
              "      <td>2</td>\n",
              "      <td>0</td>\n",
              "      <td>0</td>\n",
              "    </tr>\n",
              "    <tr>\n",
              "      <th>3</th>\n",
              "      <td>1</td>\n",
              "      <td>0</td>\n",
              "      <td>0</td>\n",
              "      <td>1</td>\n",
              "      <td>9.84</td>\n",
              "      <td>14.395</td>\n",
              "      <td>75</td>\n",
              "      <td>0.0</td>\n",
              "      <td>2011</td>\n",
              "      <td>1</td>\n",
              "      <td>1</td>\n",
              "      <td>3</td>\n",
              "      <td>0</td>\n",
              "      <td>0</td>\n",
              "    </tr>\n",
              "    <tr>\n",
              "      <th>4</th>\n",
              "      <td>1</td>\n",
              "      <td>0</td>\n",
              "      <td>0</td>\n",
              "      <td>1</td>\n",
              "      <td>9.84</td>\n",
              "      <td>14.395</td>\n",
              "      <td>75</td>\n",
              "      <td>0.0</td>\n",
              "      <td>2011</td>\n",
              "      <td>1</td>\n",
              "      <td>1</td>\n",
              "      <td>4</td>\n",
              "      <td>0</td>\n",
              "      <td>0</td>\n",
              "    </tr>\n",
              "  </tbody>\n",
              "</table>\n",
              "</div>"
            ],
            "text/plain": [
              "   season  holiday  workingday  ...  datetime-hour  datetime-minute  datetime-second\n",
              "0       1        0           0  ...              0                0                0\n",
              "1       1        0           0  ...              1                0                0\n",
              "2       1        0           0  ...              2                0                0\n",
              "3       1        0           0  ...              3                0                0\n",
              "4       1        0           0  ...              4                0                0\n",
              "\n",
              "[5 rows x 14 columns]"
            ]
          },
          "metadata": {
            "tags": []
          },
          "execution_count": 18
        }
      ]
    },
    {
      "cell_type": "code",
      "metadata": {
        "id": "oUehqkQ8qWmb",
        "outputId": "2754f4ce-3e30-40f0-9691-b9db76009d3e",
        "colab": {
          "base_uri": "https://localhost:8080/",
          "height": 259
        }
      },
      "source": [
        "x_test = test[feature_names]\n",
        "\n",
        "# train과 test 서로 바꿔쓰는 실수 있으니 항상 확인해주기!\n",
        "print(x_test.shape)\n",
        "x_test.head()"
      ],
      "execution_count": null,
      "outputs": [
        {
          "output_type": "stream",
          "text": [
            "(6493, 14)\n"
          ],
          "name": "stdout"
        },
        {
          "output_type": "execute_result",
          "data": {
            "text/html": [
              "<div>\n",
              "<style scoped>\n",
              "    .dataframe tbody tr th:only-of-type {\n",
              "        vertical-align: middle;\n",
              "    }\n",
              "\n",
              "    .dataframe tbody tr th {\n",
              "        vertical-align: top;\n",
              "    }\n",
              "\n",
              "    .dataframe thead th {\n",
              "        text-align: right;\n",
              "    }\n",
              "</style>\n",
              "<table border=\"1\" class=\"dataframe\">\n",
              "  <thead>\n",
              "    <tr style=\"text-align: right;\">\n",
              "      <th></th>\n",
              "      <th>season</th>\n",
              "      <th>holiday</th>\n",
              "      <th>workingday</th>\n",
              "      <th>weather</th>\n",
              "      <th>temp</th>\n",
              "      <th>atemp</th>\n",
              "      <th>humidity</th>\n",
              "      <th>windspeed</th>\n",
              "      <th>datetime-year</th>\n",
              "      <th>datetime-month</th>\n",
              "      <th>datetime-day</th>\n",
              "      <th>datetime-hour</th>\n",
              "      <th>datetime-minute</th>\n",
              "      <th>datetime-second</th>\n",
              "    </tr>\n",
              "  </thead>\n",
              "  <tbody>\n",
              "    <tr>\n",
              "      <th>0</th>\n",
              "      <td>1</td>\n",
              "      <td>0</td>\n",
              "      <td>1</td>\n",
              "      <td>1</td>\n",
              "      <td>10.66</td>\n",
              "      <td>11.365</td>\n",
              "      <td>56</td>\n",
              "      <td>26.0027</td>\n",
              "      <td>2011</td>\n",
              "      <td>1</td>\n",
              "      <td>20</td>\n",
              "      <td>0</td>\n",
              "      <td>0</td>\n",
              "      <td>0</td>\n",
              "    </tr>\n",
              "    <tr>\n",
              "      <th>1</th>\n",
              "      <td>1</td>\n",
              "      <td>0</td>\n",
              "      <td>1</td>\n",
              "      <td>1</td>\n",
              "      <td>10.66</td>\n",
              "      <td>13.635</td>\n",
              "      <td>56</td>\n",
              "      <td>0.0000</td>\n",
              "      <td>2011</td>\n",
              "      <td>1</td>\n",
              "      <td>20</td>\n",
              "      <td>1</td>\n",
              "      <td>0</td>\n",
              "      <td>0</td>\n",
              "    </tr>\n",
              "    <tr>\n",
              "      <th>2</th>\n",
              "      <td>1</td>\n",
              "      <td>0</td>\n",
              "      <td>1</td>\n",
              "      <td>1</td>\n",
              "      <td>10.66</td>\n",
              "      <td>13.635</td>\n",
              "      <td>56</td>\n",
              "      <td>0.0000</td>\n",
              "      <td>2011</td>\n",
              "      <td>1</td>\n",
              "      <td>20</td>\n",
              "      <td>2</td>\n",
              "      <td>0</td>\n",
              "      <td>0</td>\n",
              "    </tr>\n",
              "    <tr>\n",
              "      <th>3</th>\n",
              "      <td>1</td>\n",
              "      <td>0</td>\n",
              "      <td>1</td>\n",
              "      <td>1</td>\n",
              "      <td>10.66</td>\n",
              "      <td>12.880</td>\n",
              "      <td>56</td>\n",
              "      <td>11.0014</td>\n",
              "      <td>2011</td>\n",
              "      <td>1</td>\n",
              "      <td>20</td>\n",
              "      <td>3</td>\n",
              "      <td>0</td>\n",
              "      <td>0</td>\n",
              "    </tr>\n",
              "    <tr>\n",
              "      <th>4</th>\n",
              "      <td>1</td>\n",
              "      <td>0</td>\n",
              "      <td>1</td>\n",
              "      <td>1</td>\n",
              "      <td>10.66</td>\n",
              "      <td>12.880</td>\n",
              "      <td>56</td>\n",
              "      <td>11.0014</td>\n",
              "      <td>2011</td>\n",
              "      <td>1</td>\n",
              "      <td>20</td>\n",
              "      <td>4</td>\n",
              "      <td>0</td>\n",
              "      <td>0</td>\n",
              "    </tr>\n",
              "  </tbody>\n",
              "</table>\n",
              "</div>"
            ],
            "text/plain": [
              "   season  holiday  workingday  ...  datetime-hour  datetime-minute  datetime-second\n",
              "0       1        0           1  ...              0                0                0\n",
              "1       1        0           1  ...              1                0                0\n",
              "2       1        0           1  ...              2                0                0\n",
              "3       1        0           1  ...              3                0                0\n",
              "4       1        0           1  ...              4                0                0\n",
              "\n",
              "[5 rows x 14 columns]"
            ]
          },
          "metadata": {
            "tags": []
          },
          "execution_count": 19
        }
      ]
    },
    {
      "cell_type": "code",
      "metadata": {
        "id": "TXLJzhEIp14W",
        "outputId": "373f7007-6286-4689-cd9f-639def9aa746",
        "colab": {
          "base_uri": "https://localhost:8080/",
          "height": 161
        }
      },
      "source": [
        "### count ###\n",
        "import numpy as np\n",
        "\n",
        "y_train_count = train[\"count\"]\n",
        "print(y_train_count.shape)\n",
        "\n",
        "# RMLSE 측정공식 사용하기 위해 log + 1\n",
        "y_train_log_count = np.log(y_train_count + 1)\n",
        "print(y_train_log_count.shape)\n",
        "y_train_log_count.head()"
      ],
      "execution_count": null,
      "outputs": [
        {
          "output_type": "stream",
          "text": [
            "(10886,)\n",
            "(10886,)\n"
          ],
          "name": "stdout"
        },
        {
          "output_type": "execute_result",
          "data": {
            "text/plain": [
              "0    2.833213\n",
              "1    3.713572\n",
              "2    3.496508\n",
              "3    2.639057\n",
              "4    0.693147\n",
              "Name: count, dtype: float64"
            ]
          },
          "metadata": {
            "tags": []
          },
          "execution_count": 20
        }
      ]
    },
    {
      "cell_type": "code",
      "metadata": {
        "id": "_5ZQPlTlY0DO",
        "outputId": "ca5b2c96-4cbd-4baa-91e7-02e94765717a",
        "colab": {
          "base_uri": "https://localhost:8080/",
          "height": 161
        }
      },
      "source": [
        "### causal ###\n",
        "y_train_casual = train[\"casual\"]\n",
        "print(y_train_casual.shape)\n",
        "y_train_casual.head()\n",
        "\n",
        "y_train_log_casual = np.log(y_train_casual + 1)\n",
        "print(y_train_log_casual.shape)\n",
        "y_train_log_casual.head()"
      ],
      "execution_count": null,
      "outputs": [
        {
          "output_type": "stream",
          "text": [
            "(10886,)\n",
            "(10886,)\n"
          ],
          "name": "stdout"
        },
        {
          "output_type": "execute_result",
          "data": {
            "text/plain": [
              "0    1.386294\n",
              "1    2.197225\n",
              "2    1.791759\n",
              "3    1.386294\n",
              "4    0.000000\n",
              "Name: casual, dtype: float64"
            ]
          },
          "metadata": {
            "tags": []
          },
          "execution_count": 21
        }
      ]
    },
    {
      "cell_type": "code",
      "metadata": {
        "id": "WQCK9f0TY6C_",
        "outputId": "fc109875-4038-4da4-bea1-1bf1ff34de9d",
        "colab": {
          "base_uri": "https://localhost:8080/",
          "height": 161
        }
      },
      "source": [
        "### registered ###\n",
        "y_train_registered = train[\"registered\"]\n",
        "print(y_train_registered.shape)\n",
        "y_train_registered.head()\n",
        "\n",
        "y_train_log_registered = np.log(y_train_registered + 1)\n",
        "print(y_train_log_registered.shape)\n",
        "y_train_log_registered.head()"
      ],
      "execution_count": null,
      "outputs": [
        {
          "output_type": "stream",
          "text": [
            "(10886,)\n",
            "(10886,)\n"
          ],
          "name": "stdout"
        },
        {
          "output_type": "execute_result",
          "data": {
            "text/plain": [
              "0    2.639057\n",
              "1    3.496508\n",
              "2    3.332205\n",
              "3    2.397895\n",
              "4    0.693147\n",
              "Name: registered, dtype: float64"
            ]
          },
          "metadata": {
            "tags": []
          },
          "execution_count": 22
        }
      ]
    },
    {
      "cell_type": "markdown",
      "metadata": {
        "id": "FaTYJfIT-dfY"
      },
      "source": [
        "[RandomForestRegressor](https://scikit-learn.org/stable/modules/generated/sklearn.ensemble.RandomForestRegressor.html?highlight=random%20forest%20regressor#sklearn.ensemble.RandomForestRegressor)의 파라미터를 조절해 성능을 더욱 향상시킬 수 있다.\n",
        "\n",
        "**[ Hyper Parameter]**\n",
        "* `n_estimators` :  트리의 개수\n",
        "* `max_depth` :  트리의 최대 깊이\n",
        "* `max_features` :  전체 features 중 사용할 최대 개수(%) 예) 0.5(50%)\n",
        "\n",
        "등등"
      ]
    },
    {
      "cell_type": "markdown",
      "metadata": {
        "id": "Apv3D0cOZ-mo"
      },
      "source": [
        "**참고) 랜덤포레스트 이외의 모델**\n",
        "* Gradient Boosting\n",
        "* XGBoost\n",
        "* LightGBM"
      ]
    },
    {
      "cell_type": "code",
      "metadata": {
        "id": "K0lupGI8p3Se",
        "outputId": "3a206e4c-b4ad-4558-bb92-eca2a56b5adc",
        "colab": {
          "base_uri": "https://localhost:8080/",
          "height": 143
        }
      },
      "source": [
        "from sklearn.ensemble import RandomForestRegressor\n",
        "\n",
        "model = RandomForestRegressor(n_estimators=10,\n",
        "                              n_jobs=-1,\n",
        "                              random_state=37)\n",
        "model"
      ],
      "execution_count": null,
      "outputs": [
        {
          "output_type": "execute_result",
          "data": {
            "text/plain": [
              "RandomForestRegressor(bootstrap=True, ccp_alpha=0.0, criterion='mse',\n",
              "                      max_depth=None, max_features='auto', max_leaf_nodes=None,\n",
              "                      max_samples=None, min_impurity_decrease=0.0,\n",
              "                      min_impurity_split=None, min_samples_leaf=1,\n",
              "                      min_samples_split=2, min_weight_fraction_leaf=0.0,\n",
              "                      n_estimators=10, n_jobs=-1, oob_score=False,\n",
              "                      random_state=37, verbose=0, warm_start=False)"
            ]
          },
          "metadata": {
            "tags": []
          },
          "execution_count": 23
        }
      ]
    },
    {
      "cell_type": "markdown",
      "metadata": {
        "id": "S6IxknnmXnZf"
      },
      "source": [
        "## Hyperparameter Tuning"
      ]
    },
    {
      "cell_type": "markdown",
      "metadata": {
        "id": "U9oqbXQLayd0"
      },
      "source": [
        "### Random Search\n",
        ": 일반적으로 가장 많이 쓰이는 Hyperparameter Tuning 방식"
      ]
    },
    {
      "cell_type": "code",
      "metadata": {
        "id": "Co-JXb9DLUiO",
        "outputId": "afc1d8ae-6d06-4baa-bd9e-3fe3a2326023",
        "colab": {
          "base_uri": "https://localhost:8080/",
          "height": 197
        }
      },
      "source": [
        "from sklearn.ensemble import RandomForestRegressor\n",
        "from sklearn.model_selection import cross_val_predict\n",
        "from sklearn.metrics import mean_squared_log_error\n",
        "\n",
        "n_estimators = 10\n",
        "num_loop = 10\n",
        "\n",
        "# 10번의 루프를 돌면서 서로 다른 10개의 RandomForest 모델 생성\n",
        "for loop in range(num_loop):\n",
        "  # 랜덤한 max_depth, max_features 조합을 만들어낸다.\n",
        "  max_depth = np.random.randint(2, 100)\n",
        "  max_features = np.random.uniform(0.1, 1.0)\n",
        "\n",
        "  # 위에서 생성된 랜덤한 max_depth, max_features 값과\n",
        "  # 고정된 n_estimators를 사용해(hyperparameter) 모델 생성\n",
        "  model = RandomForestRegressor(n_estimators = n_estimators,\n",
        "                                max_depth = max_depth, \n",
        "                                max_features = max_features,\n",
        "                                n_jobs = -1,\n",
        "                                random_state = 2)\n",
        "  # Cross Validation\n",
        "  # log + 1\n",
        "  y_predict_log_count = cross_val_predict(model, x_train, y_train_log_count, cv=20)\n",
        "  y_predict_log_casual = cross_val_predict(model, x_train, y_train_log_casual, cv=20)\n",
        "  y_predict_log_registered = cross_val_predict(model, x_train, y_train_log_registered, cv=20)\n",
        "\n",
        "  y_predict_count = np.exp(y_predict_log_count) - 1\n",
        "  y_predict_casual = np.exp(y_predict_log_casual) - 1\n",
        "  y_predict_registered = np.exp(y_predict_log_registered) - 1\n",
        "\n",
        "  # 기하평균 (bike sharing demand 경진대회용..!)\n",
        "  y_predict = np.sqrt((y_predict_casual + y_predict_registered) * y_predict_count)\n",
        "\n",
        "  score = mean_squared_log_error(y_train, y_predict)\n",
        "  score = np.sqrt(score)\n",
        "  print(f\"n_estimators = {n_estimators}, max_depth = {max_depth: .6f}, Score(RMSLE) = {score:.5f}\")"
      ],
      "execution_count": null,
      "outputs": [
        {
          "output_type": "stream",
          "text": [
            "n_estimators = 10, max_depth =  48.000000, Score(RMSLE) = 0.37844\n",
            "n_estimators = 10, max_depth =  95.000000, Score(RMSLE) = 0.38861\n",
            "n_estimators = 10, max_depth =  41.000000, Score(RMSLE) = 0.40849\n",
            "n_estimators = 10, max_depth =  14.000000, Score(RMSLE) = 0.51593\n",
            "n_estimators = 10, max_depth =  32.000000, Score(RMSLE) = 0.38099\n",
            "n_estimators = 10, max_depth =  57.000000, Score(RMSLE) = 0.38861\n",
            "n_estimators = 10, max_depth =  49.000000, Score(RMSLE) = 0.50441\n",
            "n_estimators = 10, max_depth =  17.000000, Score(RMSLE) = 0.42860\n",
            "n_estimators = 10, max_depth =  84.000000, Score(RMSLE) = 0.41911\n",
            "n_estimators = 10, max_depth =  13.000000, Score(RMSLE) = 0.48594\n"
          ],
          "name": "stdout"
        }
      ]
    },
    {
      "cell_type": "markdown",
      "metadata": {
        "id": "hPtczkEsq85-"
      },
      "source": [
        "## Fit & Predict"
      ]
    },
    {
      "cell_type": "code",
      "metadata": {
        "id": "I9nsjBXNr1Kf",
        "outputId": "367db971-00bf-462f-f17e-f68b2300afbe",
        "colab": {
          "base_uri": "https://localhost:8080/",
          "height": 53
        }
      },
      "source": [
        "model.fit(X_train, y_train_log_casual)\n",
        "\n",
        "log_casual_predictions = model.predict(X_test)\n",
        "\n",
        "model.fit(X_train, y_train_log_registered)\n",
        "\n",
        "log_registered_predictions = model.predict(X_test)\n",
        "\n",
        "model.fit(X_train, y_train_log_count)\n",
        "\n",
        "log_count_predictions = model.predict(X_test)\n",
        "\n",
        "casual_predictions = np.exp(log_casual_predictions) - 1\n",
        "registered_predictions = np.exp(log_registered_predictions) - 1\n",
        "count_predictions = np.exp(log_count_predictions) - 1\n",
        "\n",
        "predictions = np.sqrt((casual_predictions + registered_predictions) * count_predictions)\n",
        "\n",
        "print(predictions.shape)\n",
        "predictions"
      ],
      "execution_count": null,
      "outputs": [
        {
          "output_type": "stream",
          "text": [
            "(6493,)\n"
          ],
          "name": "stdout"
        },
        {
          "output_type": "execute_result",
          "data": {
            "text/plain": [
              "array([ 13.8,   7.1,   4.7, ..., 161.5, 116. ,  69.3])"
            ]
          },
          "metadata": {
            "tags": []
          },
          "execution_count": 17
        }
      ]
    },
    {
      "cell_type": "markdown",
      "metadata": {
        "id": "-5Kmv0jaf8To"
      },
      "source": [
        "# Random Forest"
      ]
    },
    {
      "cell_type": "markdown",
      "metadata": {
        "id": "dv5gZmZSf8Tp"
      },
      "source": [
        "## Train"
      ]
    },
    {
      "cell_type": "code",
      "metadata": {
        "id": "qrX2AN-8f8Tq"
      },
      "source": [
        "feature_names = [\"season\", \"holiday\", \"workingday\", \"weather\", \n",
        "                 \"temp\", \"atemp\", \"humidity\", \"windspeed\",\n",
        "                 \"datetime-year\", \"datetime-month\", \"datetime-day\", \n",
        "                 \"datetime-hour\", \"datetime-minute\", \"datetime-second\"]"
      ],
      "execution_count": null,
      "outputs": []
    },
    {
      "cell_type": "code",
      "metadata": {
        "id": "7XO3T37Hf8Tt",
        "outputId": "35b00e0f-a75b-4d22-9b0c-0f33665ff26b",
        "colab": {
          "base_uri": "https://localhost:8080/",
          "height": 259
        }
      },
      "source": [
        "x_train = train[feature_names]\n",
        "\n",
        "# train과 test 서로 바꿔쓰는 실수 있으니 항상 확인해주기!\n",
        "print(x_train.shape)  \n",
        "x_train.head()"
      ],
      "execution_count": null,
      "outputs": [
        {
          "output_type": "stream",
          "text": [
            "(10886, 14)\n"
          ],
          "name": "stdout"
        },
        {
          "output_type": "execute_result",
          "data": {
            "text/html": [
              "<div>\n",
              "<style scoped>\n",
              "    .dataframe tbody tr th:only-of-type {\n",
              "        vertical-align: middle;\n",
              "    }\n",
              "\n",
              "    .dataframe tbody tr th {\n",
              "        vertical-align: top;\n",
              "    }\n",
              "\n",
              "    .dataframe thead th {\n",
              "        text-align: right;\n",
              "    }\n",
              "</style>\n",
              "<table border=\"1\" class=\"dataframe\">\n",
              "  <thead>\n",
              "    <tr style=\"text-align: right;\">\n",
              "      <th></th>\n",
              "      <th>season</th>\n",
              "      <th>holiday</th>\n",
              "      <th>workingday</th>\n",
              "      <th>weather</th>\n",
              "      <th>temp</th>\n",
              "      <th>atemp</th>\n",
              "      <th>humidity</th>\n",
              "      <th>windspeed</th>\n",
              "      <th>datetime-year</th>\n",
              "      <th>datetime-month</th>\n",
              "      <th>datetime-day</th>\n",
              "      <th>datetime-hour</th>\n",
              "      <th>datetime-minute</th>\n",
              "      <th>datetime-second</th>\n",
              "    </tr>\n",
              "  </thead>\n",
              "  <tbody>\n",
              "    <tr>\n",
              "      <th>0</th>\n",
              "      <td>1</td>\n",
              "      <td>0</td>\n",
              "      <td>0</td>\n",
              "      <td>1</td>\n",
              "      <td>9.84</td>\n",
              "      <td>14.395</td>\n",
              "      <td>81</td>\n",
              "      <td>0.0</td>\n",
              "      <td>2011</td>\n",
              "      <td>1</td>\n",
              "      <td>1</td>\n",
              "      <td>0</td>\n",
              "      <td>0</td>\n",
              "      <td>0</td>\n",
              "    </tr>\n",
              "    <tr>\n",
              "      <th>1</th>\n",
              "      <td>1</td>\n",
              "      <td>0</td>\n",
              "      <td>0</td>\n",
              "      <td>1</td>\n",
              "      <td>9.02</td>\n",
              "      <td>13.635</td>\n",
              "      <td>80</td>\n",
              "      <td>0.0</td>\n",
              "      <td>2011</td>\n",
              "      <td>1</td>\n",
              "      <td>1</td>\n",
              "      <td>1</td>\n",
              "      <td>0</td>\n",
              "      <td>0</td>\n",
              "    </tr>\n",
              "    <tr>\n",
              "      <th>2</th>\n",
              "      <td>1</td>\n",
              "      <td>0</td>\n",
              "      <td>0</td>\n",
              "      <td>1</td>\n",
              "      <td>9.02</td>\n",
              "      <td>13.635</td>\n",
              "      <td>80</td>\n",
              "      <td>0.0</td>\n",
              "      <td>2011</td>\n",
              "      <td>1</td>\n",
              "      <td>1</td>\n",
              "      <td>2</td>\n",
              "      <td>0</td>\n",
              "      <td>0</td>\n",
              "    </tr>\n",
              "    <tr>\n",
              "      <th>3</th>\n",
              "      <td>1</td>\n",
              "      <td>0</td>\n",
              "      <td>0</td>\n",
              "      <td>1</td>\n",
              "      <td>9.84</td>\n",
              "      <td>14.395</td>\n",
              "      <td>75</td>\n",
              "      <td>0.0</td>\n",
              "      <td>2011</td>\n",
              "      <td>1</td>\n",
              "      <td>1</td>\n",
              "      <td>3</td>\n",
              "      <td>0</td>\n",
              "      <td>0</td>\n",
              "    </tr>\n",
              "    <tr>\n",
              "      <th>4</th>\n",
              "      <td>1</td>\n",
              "      <td>0</td>\n",
              "      <td>0</td>\n",
              "      <td>1</td>\n",
              "      <td>9.84</td>\n",
              "      <td>14.395</td>\n",
              "      <td>75</td>\n",
              "      <td>0.0</td>\n",
              "      <td>2011</td>\n",
              "      <td>1</td>\n",
              "      <td>1</td>\n",
              "      <td>4</td>\n",
              "      <td>0</td>\n",
              "      <td>0</td>\n",
              "    </tr>\n",
              "  </tbody>\n",
              "</table>\n",
              "</div>"
            ],
            "text/plain": [
              "   season  holiday  workingday  ...  datetime-hour  datetime-minute  datetime-second\n",
              "0       1        0           0  ...              0                0                0\n",
              "1       1        0           0  ...              1                0                0\n",
              "2       1        0           0  ...              2                0                0\n",
              "3       1        0           0  ...              3                0                0\n",
              "4       1        0           0  ...              4                0                0\n",
              "\n",
              "[5 rows x 14 columns]"
            ]
          },
          "metadata": {
            "tags": []
          },
          "execution_count": 43
        }
      ]
    },
    {
      "cell_type": "code",
      "metadata": {
        "id": "OzXZYQfsf8Ty",
        "outputId": "0bb67b3e-2bd4-40f6-c71f-2bf20eb33567",
        "colab": {
          "base_uri": "https://localhost:8080/",
          "height": 259
        }
      },
      "source": [
        "x_test = test[feature_names]\n",
        "\n",
        "# train과 test 서로 바꿔쓰는 실수 있으니 항상 확인해주기!\n",
        "print(x_test.shape)\n",
        "x_test.head()"
      ],
      "execution_count": null,
      "outputs": [
        {
          "output_type": "stream",
          "text": [
            "(6493, 14)\n"
          ],
          "name": "stdout"
        },
        {
          "output_type": "execute_result",
          "data": {
            "text/html": [
              "<div>\n",
              "<style scoped>\n",
              "    .dataframe tbody tr th:only-of-type {\n",
              "        vertical-align: middle;\n",
              "    }\n",
              "\n",
              "    .dataframe tbody tr th {\n",
              "        vertical-align: top;\n",
              "    }\n",
              "\n",
              "    .dataframe thead th {\n",
              "        text-align: right;\n",
              "    }\n",
              "</style>\n",
              "<table border=\"1\" class=\"dataframe\">\n",
              "  <thead>\n",
              "    <tr style=\"text-align: right;\">\n",
              "      <th></th>\n",
              "      <th>season</th>\n",
              "      <th>holiday</th>\n",
              "      <th>workingday</th>\n",
              "      <th>weather</th>\n",
              "      <th>temp</th>\n",
              "      <th>atemp</th>\n",
              "      <th>humidity</th>\n",
              "      <th>windspeed</th>\n",
              "      <th>datetime-year</th>\n",
              "      <th>datetime-month</th>\n",
              "      <th>datetime-day</th>\n",
              "      <th>datetime-hour</th>\n",
              "      <th>datetime-minute</th>\n",
              "      <th>datetime-second</th>\n",
              "    </tr>\n",
              "  </thead>\n",
              "  <tbody>\n",
              "    <tr>\n",
              "      <th>0</th>\n",
              "      <td>1</td>\n",
              "      <td>0</td>\n",
              "      <td>1</td>\n",
              "      <td>1</td>\n",
              "      <td>10.66</td>\n",
              "      <td>11.365</td>\n",
              "      <td>56</td>\n",
              "      <td>26.0027</td>\n",
              "      <td>2011</td>\n",
              "      <td>1</td>\n",
              "      <td>20</td>\n",
              "      <td>0</td>\n",
              "      <td>0</td>\n",
              "      <td>0</td>\n",
              "    </tr>\n",
              "    <tr>\n",
              "      <th>1</th>\n",
              "      <td>1</td>\n",
              "      <td>0</td>\n",
              "      <td>1</td>\n",
              "      <td>1</td>\n",
              "      <td>10.66</td>\n",
              "      <td>13.635</td>\n",
              "      <td>56</td>\n",
              "      <td>0.0000</td>\n",
              "      <td>2011</td>\n",
              "      <td>1</td>\n",
              "      <td>20</td>\n",
              "      <td>1</td>\n",
              "      <td>0</td>\n",
              "      <td>0</td>\n",
              "    </tr>\n",
              "    <tr>\n",
              "      <th>2</th>\n",
              "      <td>1</td>\n",
              "      <td>0</td>\n",
              "      <td>1</td>\n",
              "      <td>1</td>\n",
              "      <td>10.66</td>\n",
              "      <td>13.635</td>\n",
              "      <td>56</td>\n",
              "      <td>0.0000</td>\n",
              "      <td>2011</td>\n",
              "      <td>1</td>\n",
              "      <td>20</td>\n",
              "      <td>2</td>\n",
              "      <td>0</td>\n",
              "      <td>0</td>\n",
              "    </tr>\n",
              "    <tr>\n",
              "      <th>3</th>\n",
              "      <td>1</td>\n",
              "      <td>0</td>\n",
              "      <td>1</td>\n",
              "      <td>1</td>\n",
              "      <td>10.66</td>\n",
              "      <td>12.880</td>\n",
              "      <td>56</td>\n",
              "      <td>11.0014</td>\n",
              "      <td>2011</td>\n",
              "      <td>1</td>\n",
              "      <td>20</td>\n",
              "      <td>3</td>\n",
              "      <td>0</td>\n",
              "      <td>0</td>\n",
              "    </tr>\n",
              "    <tr>\n",
              "      <th>4</th>\n",
              "      <td>1</td>\n",
              "      <td>0</td>\n",
              "      <td>1</td>\n",
              "      <td>1</td>\n",
              "      <td>10.66</td>\n",
              "      <td>12.880</td>\n",
              "      <td>56</td>\n",
              "      <td>11.0014</td>\n",
              "      <td>2011</td>\n",
              "      <td>1</td>\n",
              "      <td>20</td>\n",
              "      <td>4</td>\n",
              "      <td>0</td>\n",
              "      <td>0</td>\n",
              "    </tr>\n",
              "  </tbody>\n",
              "</table>\n",
              "</div>"
            ],
            "text/plain": [
              "   season  holiday  workingday  ...  datetime-hour  datetime-minute  datetime-second\n",
              "0       1        0           1  ...              0                0                0\n",
              "1       1        0           1  ...              1                0                0\n",
              "2       1        0           1  ...              2                0                0\n",
              "3       1        0           1  ...              3                0                0\n",
              "4       1        0           1  ...              4                0                0\n",
              "\n",
              "[5 rows x 14 columns]"
            ]
          },
          "metadata": {
            "tags": []
          },
          "execution_count": 44
        }
      ]
    },
    {
      "cell_type": "code",
      "metadata": {
        "id": "JKZ_4KzoqgW3",
        "outputId": "88a7f6f1-cec5-4120-c52f-186f1fa05fba",
        "colab": {
          "base_uri": "https://localhost:8080/",
          "height": 143
        }
      },
      "source": [
        "label_name = \"count\"\n",
        "y_train = train[label_name]\n",
        "\n",
        "print(y_train.shape)\n",
        "y_train.head()"
      ],
      "execution_count": null,
      "outputs": [
        {
          "output_type": "stream",
          "text": [
            "(10886,)\n"
          ],
          "name": "stdout"
        },
        {
          "output_type": "execute_result",
          "data": {
            "text/plain": [
              "0    16\n",
              "1    40\n",
              "2    32\n",
              "3    13\n",
              "4     1\n",
              "Name: count, dtype: int64"
            ]
          },
          "metadata": {
            "tags": []
          },
          "execution_count": 45
        }
      ]
    },
    {
      "cell_type": "markdown",
      "metadata": {
        "id": "Vz11hiD3f8UA"
      },
      "source": [
        "[RandomForestRegressor](https://scikit-learn.org/stable/modules/generated/sklearn.ensemble.RandomForestRegressor.html?highlight=random%20forest%20regressor#sklearn.ensemble.RandomForestRegressor)의 파라미터를 조절해 성능을 더욱 향상시킬 수 있다.\n",
        "\n",
        "**[ Hyper Parameter]**\n",
        "* `n_estimators` :  트리의 개수\n",
        "* `max_depth` :  트리의 최대 깊이\n",
        "* `max_features` :  전체 features 중 사용할 최대 개수(%) 예) 0.5(50%)\n",
        "\n",
        "등등"
      ]
    },
    {
      "cell_type": "markdown",
      "metadata": {
        "id": "h8347Exxf8UB"
      },
      "source": [
        "**참고) 랜덤포레스트 이외의 모델**\n",
        "* Gradient Boosting\n",
        "* XGBoost\n",
        "* LightGBM"
      ]
    },
    {
      "cell_type": "code",
      "metadata": {
        "id": "XYX-B8J2f8UC",
        "outputId": "92ee37c6-cc3d-4f0d-cd16-777b6f338a7b",
        "colab": {
          "base_uri": "https://localhost:8080/",
          "height": 143
        }
      },
      "source": [
        "from sklearn.ensemble import RandomForestRegressor\n",
        "\n",
        "model = RandomForestRegressor(n_estimators=10,\n",
        "                              n_jobs=-1,\n",
        "                              random_state=37)\n",
        "model"
      ],
      "execution_count": null,
      "outputs": [
        {
          "output_type": "execute_result",
          "data": {
            "text/plain": [
              "RandomForestRegressor(bootstrap=True, ccp_alpha=0.0, criterion='mse',\n",
              "                      max_depth=None, max_features='auto', max_leaf_nodes=None,\n",
              "                      max_samples=None, min_impurity_decrease=0.0,\n",
              "                      min_impurity_split=None, min_samples_leaf=1,\n",
              "                      min_samples_split=2, min_weight_fraction_leaf=0.0,\n",
              "                      n_estimators=10, n_jobs=-1, oob_score=False,\n",
              "                      random_state=37, verbose=0, warm_start=False)"
            ]
          },
          "metadata": {
            "tags": []
          },
          "execution_count": 46
        }
      ]
    },
    {
      "cell_type": "markdown",
      "metadata": {
        "id": "Qle09fHnhdC6"
      },
      "source": [
        "## Hyperparameter Tuning"
      ]
    },
    {
      "cell_type": "markdown",
      "metadata": {
        "id": "XIwI3yj3hdC7"
      },
      "source": [
        "### Random Search (Coarse)"
      ]
    },
    {
      "cell_type": "code",
      "metadata": {
        "id": "lJZyIvKShdC9",
        "outputId": "d6b70068-bcaa-4b50-ca4e-5d746b882f08",
        "colab": {
          "base_uri": "https://localhost:8080/",
          "height": 197
        }
      },
      "source": [
        "from sklearn.ensemble import RandomForestRegressor\n",
        "from sklearn.model_selection import cross_val_predict\n",
        "from sklearn.metrics import mean_squared_log_error\n",
        "\n",
        "# 일반적으로 트리 개수는 300, 반복횟수(루프)는 100으로 지정함\n",
        "n_estimators = 10   # 300\n",
        "num_loop = 10       # 100\n",
        "\n",
        "# 10번의 루프를 돌면서 서로 다른 10개의 RandomForest 모델 생성\n",
        "for loop in range(num_loop):\n",
        "  # 랜덤한 max_depth, max_features 조합을 만들어낸다(범위는 최소 ~ 최대값)\n",
        "  max_depth = np.random.randint(2, 100)\n",
        "  max_features = np.random.uniform(0.1, 1.0)\n",
        "\n",
        "  # 위에서 생성된 랜덤한 max_depth, max_features 값과\n",
        "  # 고정된 n_estimators를 사용해(hyperparameter) 모델 생성\n",
        "  model = RandomForestRegressor(n_estimators = n_estimators,\n",
        "                                max_depth = max_depth, \n",
        "                                max_features = max_features,\n",
        "                                n_jobs = -1,\n",
        "                                random_state = 2)\n",
        "  # Cross Validation\n",
        "  y_predict = cross_val_predict(model, x_train, y_train_log_count, cv=20)\n",
        "\n",
        "  # RMSLE\n",
        "  score = mean_squared_log_error(y_train, y_predict)\n",
        "  score = np.sqrt(score)\n",
        "\n",
        "  print(f\"n_estimators = {n_estimators}, max_depth = {max_depth:2}, max_features = {max_features:.6f}, Score(RMSLE) = {score:.5f}\")"
      ],
      "execution_count": null,
      "outputs": [
        {
          "output_type": "stream",
          "text": [
            "n_estimators = 10, max_depth = 72, max_features = 0.829819, Score(RMSLE) = 3.12772\n",
            "n_estimators = 10, max_depth = 76, max_features = 0.301938, Score(RMSLE) = 3.13029\n",
            "n_estimators = 10, max_depth = 99, max_features = 0.319055, Score(RMSLE) = 3.13029\n",
            "n_estimators = 10, max_depth = 45, max_features = 0.586097, Score(RMSLE) = 3.12878\n",
            "n_estimators = 10, max_depth = 65, max_features = 0.581354, Score(RMSLE) = 3.12878\n",
            "n_estimators = 10, max_depth = 81, max_features = 0.588079, Score(RMSLE) = 3.12878\n",
            "n_estimators = 10, max_depth = 66, max_features = 0.445695, Score(RMSLE) = 3.13011\n",
            "n_estimators = 10, max_depth = 10, max_features = 0.969105, Score(RMSLE) = 3.12683\n",
            "n_estimators = 10, max_depth = 76, max_features = 0.759750, Score(RMSLE) = 3.12646\n",
            "n_estimators = 10, max_depth = 97, max_features = 0.128756, Score(RMSLE) = 3.14504\n"
          ],
          "name": "stdout"
        }
      ]
    },
    {
      "cell_type": "markdown",
      "metadata": {
        "id": "3Ain3qDAsGYX"
      },
      "source": [
        "### Random Search (Fine)"
      ]
    },
    {
      "cell_type": "code",
      "metadata": {
        "id": "V0eQFyLlr6He",
        "outputId": "d36d9bbc-554d-479b-dc2b-a9883dee50dc",
        "colab": {
          "base_uri": "https://localhost:8080/",
          "height": 197
        }
      },
      "source": [
        "from sklearn.ensemble import RandomForestRegressor\n",
        "from sklearn.model_selection import cross_val_predict\n",
        "from sklearn.metrics import mean_squared_log_error\n",
        "\n",
        "# 일반적으로 트리 개수는 300, 반복횟수(루프)는 100으로 지정함\n",
        "n_estimators = 10   # 300\n",
        "num_loop = 10       # 100\n",
        "\n",
        "# 10번의 루프를 돌면서 서로 다른 10개의 RandomForest 모델 생성\n",
        "for loop in range(num_loop):\n",
        "  # Coarse Search에서 구한 상위 5개 값을 기준으로 범위를 잡는다\n",
        "  max_depth = np.random.randint(10, 81)\n",
        "  max_features = np.random.uniform(0.301938, 0.969105)  # 최소값과 최대값\n",
        "\n",
        "  # 위에서 생성된 랜덤한 max_depth, max_features 값과\n",
        "  # 고정된 n_estimators를 사용해(hyperparameter) 모델 생성\n",
        "  model = RandomForestRegressor(n_estimators = n_estimators,\n",
        "                                max_depth = max_depth, \n",
        "                                max_features = max_features,\n",
        "                                n_jobs = -1,\n",
        "                                random_state = 2)\n",
        "  # Cross Validation\n",
        "  y_predict = cross_val_predict(model, x_train, y_train_log_count, cv=20)\n",
        "\n",
        "  # RMSLE\n",
        "  score = mean_squared_log_error(y_train, y_predict)\n",
        "  score = np.sqrt(score)\n",
        "\n",
        "  print(f\"n_estimators = {n_estimators}, max_depth = {max_depth:2}, max_features = {max_features:.6f}, Score(RMSLE) = {score:.5f}\")"
      ],
      "execution_count": null,
      "outputs": [
        {
          "output_type": "stream",
          "text": [
            "n_estimators = 10, max_depth = 72, max_features = 0.944709, Score(RMSLE) = 3.12637\n",
            "n_estimators = 10, max_depth = 56, max_features = 0.818339, Score(RMSLE) = 3.12772\n",
            "n_estimators = 10, max_depth = 43, max_features = 0.891794, Score(RMSLE) = 3.12693\n",
            "n_estimators = 10, max_depth = 19, max_features = 0.654497, Score(RMSLE) = 3.12773\n",
            "n_estimators = 10, max_depth = 56, max_features = 0.927152, Score(RMSLE) = 3.12693\n",
            "n_estimators = 10, max_depth = 77, max_features = 0.850435, Score(RMSLE) = 3.12772\n",
            "n_estimators = 10, max_depth = 61, max_features = 0.637310, Score(RMSLE) = 3.12878\n",
            "n_estimators = 10, max_depth = 64, max_features = 0.827295, Score(RMSLE) = 3.12772\n",
            "n_estimators = 10, max_depth = 34, max_features = 0.478123, Score(RMSLE) = 3.13011\n",
            "n_estimators = 10, max_depth = 36, max_features = 0.473471, Score(RMSLE) = 3.13011\n"
          ],
          "name": "stdout"
        }
      ]
    },
    {
      "cell_type": "markdown",
      "metadata": {
        "id": "mGc3qrwHpzf1"
      },
      "source": [
        "## Fit"
      ]
    },
    {
      "cell_type": "markdown",
      "metadata": {
        "id": "eKB0tX6mtybg"
      },
      "source": [
        "**참고) `random_state`**\n",
        "\n",
        "* 데이터 분할 시 셔플이 이뤄져서 예측결과 소숫점이 매번 달라지는데, 이를 고정하기 위한 값\n",
        "\n",
        "* 아무 값이나 넣어줘도 OK!"
      ]
    },
    {
      "cell_type": "code",
      "metadata": {
        "id": "lbD6nui3px0p",
        "outputId": "f66e68eb-dae1-4b87-9dd4-168d849e81de",
        "colab": {
          "base_uri": "https://localhost:8080/",
          "height": 143
        }
      },
      "source": [
        "model.fit(x_train, y_train)"
      ],
      "execution_count": null,
      "outputs": [
        {
          "output_type": "execute_result",
          "data": {
            "text/plain": [
              "RandomForestRegressor(bootstrap=True, ccp_alpha=0.0, criterion='mse',\n",
              "                      max_depth=None, max_features='auto', max_leaf_nodes=None,\n",
              "                      max_samples=None, min_impurity_decrease=0.0,\n",
              "                      min_impurity_split=None, min_samples_leaf=1,\n",
              "                      min_samples_split=2, min_weight_fraction_leaf=0.0,\n",
              "                      n_estimators=10, n_jobs=-1, oob_score=False,\n",
              "                      random_state=37, verbose=0, warm_start=False)"
            ]
          },
          "metadata": {
            "tags": []
          },
          "execution_count": 16
        }
      ]
    },
    {
      "cell_type": "markdown",
      "metadata": {
        "id": "kzIatsBIf8Uc"
      },
      "source": [
        "## Predict"
      ]
    },
    {
      "cell_type": "code",
      "metadata": {
        "id": "BR3QJ9CXf8Ud",
        "outputId": "367db971-00bf-462f-f17e-f68b2300afbe",
        "colab": {
          "base_uri": "https://localhost:8080/",
          "height": 53
        }
      },
      "source": [
        "prediction_list = model.predict(x_test)\n",
        "\n",
        "print(prediction_list.shape)\n",
        "prediction_list"
      ],
      "execution_count": null,
      "outputs": [
        {
          "output_type": "stream",
          "text": [
            "(6493,)\n"
          ],
          "name": "stdout"
        },
        {
          "output_type": "execute_result",
          "data": {
            "text/plain": [
              "array([ 13.8,   7.1,   4.7, ..., 161.5, 116. ,  69.3])"
            ]
          },
          "metadata": {
            "tags": []
          },
          "execution_count": 17
        }
      ]
    }
  ]
}