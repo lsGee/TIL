{
  "nbformat": 4,
  "nbformat_minor": 0,
  "metadata": {
    "colab": {
      "name": "DS_실전_Level_1_강의록.ipynb",
      "provenance": [],
      "collapsed_sections": [],
      "authorship_tag": "ABX9TyOVrvLpgMLcRGE4T6WITBxz",
      "include_colab_link": true
    },
    "kernelspec": {
      "name": "python3",
      "display_name": "Python 3"
    }
  },
  "cells": [
    {
      "cell_type": "markdown",
      "metadata": {
        "id": "view-in-github",
        "colab_type": "text"
      },
      "source": [
        "<a href=\"https://colab.research.google.com/github/lsGee/TIL/blob/master/01.Python/DS_%EC%8B%A4%EC%A0%84_Level_1_%EA%B0%95%EC%9D%98%EB%A1%9D.ipynb\" target=\"_parent\"><img src=\"https://colab.research.google.com/assets/colab-badge.svg\" alt=\"Open In Colab\"/></a>"
      ]
    },
    {
      "cell_type": "code",
      "metadata": {
        "id": "Vceey3ty2q8W"
      },
      "source": [
        "import pandas as pd"
      ],
      "execution_count": null,
      "outputs": []
    },
    {
      "cell_type": "markdown",
      "metadata": {
        "id": "AQlFnEh3E84D"
      },
      "source": [
        "# 데이터 타입"
      ]
    },
    {
      "cell_type": "markdown",
      "metadata": {
        "id": "taQtF9Uv6WWH"
      },
      "source": [
        "## Series"
      ]
    },
    {
      "cell_type": "code",
      "metadata": {
        "id": "tljnLVNp5Vxn",
        "outputId": "68c8b6b1-e9d6-427e-dd88-1947a9703434",
        "colab": {
          "base_uri": "https://localhost:8080/",
          "height": 125
        }
      },
      "source": [
        "## list -> Series\n",
        "## list 데이터는 판다스에서 조작 불가하므로 series 타입으로 바꿔줘야 한다\n",
        "odd = [1, 3, 5, 7, 9]\n",
        "pd_odd = pd.Series(odd)\n",
        "\n",
        "pd_odd"
      ],
      "execution_count": null,
      "outputs": [
        {
          "output_type": "execute_result",
          "data": {
            "text/plain": [
              "0    1\n",
              "1    3\n",
              "2    5\n",
              "3    7\n",
              "4    9\n",
              "dtype: int64"
            ]
          },
          "metadata": {
            "tags": []
          },
          "execution_count": 2
        }
      ]
    },
    {
      "cell_type": "code",
      "metadata": {
        "id": "eNS7ArHLAYLI",
        "outputId": "5eef5857-b3b2-45c0-9ac9-d9a46f0c62d5",
        "colab": {
          "base_uri": "https://localhost:8080/",
          "height": 35
        }
      },
      "source": [
        "# 변수 타입 확인하기\n",
        "type(pd_odd)"
      ],
      "execution_count": null,
      "outputs": [
        {
          "output_type": "execute_result",
          "data": {
            "text/plain": [
              "pandas.core.series.Series"
            ]
          },
          "metadata": {
            "tags": []
          },
          "execution_count": 3
        }
      ]
    },
    {
      "cell_type": "code",
      "metadata": {
        "id": "ZBDe0OdZAcCs",
        "outputId": "7ba09cad-f727-43c0-8e5e-4a3e420a5610",
        "colab": {
          "base_uri": "https://localhost:8080/",
          "height": 35
        }
      },
      "source": [
        "# 변수 내 데이터 타입 확인하기\n",
        "pd_odd.dtypes"
      ],
      "execution_count": null,
      "outputs": [
        {
          "output_type": "execute_result",
          "data": {
            "text/plain": [
              "dtype('int64')"
            ]
          },
          "metadata": {
            "tags": []
          },
          "execution_count": 4
        }
      ]
    },
    {
      "cell_type": "markdown",
      "metadata": {
        "id": "zeXI_Dx26n2h"
      },
      "source": [
        "## DataFrame"
      ]
    },
    {
      "cell_type": "code",
      "metadata": {
        "id": "Ix_I4-Yt6nBH",
        "outputId": "63a7f62f-4b3f-4b50-f789-b074b27e3999",
        "colab": {
          "base_uri": "https://localhost:8080/",
          "height": 142
        }
      },
      "source": [
        "## 이중 list -> DataFrame\n",
        "numbers = [\n",
        "    [1, 2, 3],\n",
        "    [4, 5, 6],\n",
        "    [7, 8, 9]\n",
        "]\n",
        "numbers = pd.DataFrame(numbers)\n",
        "numbers"
      ],
      "execution_count": null,
      "outputs": [
        {
          "output_type": "execute_result",
          "data": {
            "text/html": [
              "<div>\n",
              "<style scoped>\n",
              "    .dataframe tbody tr th:only-of-type {\n",
              "        vertical-align: middle;\n",
              "    }\n",
              "\n",
              "    .dataframe tbody tr th {\n",
              "        vertical-align: top;\n",
              "    }\n",
              "\n",
              "    .dataframe thead th {\n",
              "        text-align: right;\n",
              "    }\n",
              "</style>\n",
              "<table border=\"1\" class=\"dataframe\">\n",
              "  <thead>\n",
              "    <tr style=\"text-align: right;\">\n",
              "      <th></th>\n",
              "      <th>0</th>\n",
              "      <th>1</th>\n",
              "      <th>2</th>\n",
              "    </tr>\n",
              "  </thead>\n",
              "  <tbody>\n",
              "    <tr>\n",
              "      <th>0</th>\n",
              "      <td>1</td>\n",
              "      <td>2</td>\n",
              "      <td>3</td>\n",
              "    </tr>\n",
              "    <tr>\n",
              "      <th>1</th>\n",
              "      <td>4</td>\n",
              "      <td>5</td>\n",
              "      <td>6</td>\n",
              "    </tr>\n",
              "    <tr>\n",
              "      <th>2</th>\n",
              "      <td>7</td>\n",
              "      <td>8</td>\n",
              "      <td>9</td>\n",
              "    </tr>\n",
              "  </tbody>\n",
              "</table>\n",
              "</div>"
            ],
            "text/plain": [
              "   0  1  2\n",
              "0  1  2  3\n",
              "1  4  5  6\n",
              "2  7  8  9"
            ]
          },
          "metadata": {
            "tags": []
          },
          "execution_count": 5
        }
      ]
    },
    {
      "cell_type": "code",
      "metadata": {
        "id": "UP-pLXRA76W1",
        "outputId": "0156c5ff-da0a-4578-c5c8-38750de22ce7",
        "colab": {
          "base_uri": "https://localhost:8080/",
          "height": 35
        }
      },
      "source": [
        "## DataFrame은 여러 개의 Series로 구성되어 있다\n",
        "type(numbers[0])\n",
        "# type(numbers.loc[0])"
      ],
      "execution_count": null,
      "outputs": [
        {
          "output_type": "execute_result",
          "data": {
            "text/plain": [
              "pandas.core.series.Series"
            ]
          },
          "metadata": {
            "tags": []
          },
          "execution_count": 6
        }
      ]
    },
    {
      "cell_type": "markdown",
      "metadata": {
        "id": "PVXRJ_J-C5bU"
      },
      "source": [
        "## NaN (Not a Number)"
      ]
    },
    {
      "cell_type": "markdown",
      "metadata": {
        "id": "dPXgzqBzECZY"
      },
      "source": [
        "`NaN` 이란 비어있음을 의미하며, float 타입으로 간주된다."
      ]
    },
    {
      "cell_type": "code",
      "metadata": {
        "id": "0Qnv45BUC8C-",
        "outputId": "3c4ffbb3-b0da-4d65-d852-d38e0ecc1511",
        "colab": {
          "base_uri": "https://localhost:8080/",
          "height": 125
        }
      },
      "source": [
        "import numpy as np\n",
        "\n",
        "odd = [1, np.nan, 5, 7, 9]\n",
        "odd = pd.Series(odd)\n",
        "\n",
        "odd"
      ],
      "execution_count": null,
      "outputs": [
        {
          "output_type": "execute_result",
          "data": {
            "text/plain": [
              "0    1.0\n",
              "1    NaN\n",
              "2    5.0\n",
              "3    7.0\n",
              "4    9.0\n",
              "dtype: float64"
            ]
          },
          "metadata": {
            "tags": []
          },
          "execution_count": 7
        }
      ]
    },
    {
      "cell_type": "markdown",
      "metadata": {
        "id": "aHjRAXQoFAir"
      },
      "source": [
        "# DataFrame"
      ]
    },
    {
      "cell_type": "markdown",
      "metadata": {
        "id": "P9yW5MabFFXk"
      },
      "source": [
        "## 생성하기"
      ]
    },
    {
      "cell_type": "code",
      "metadata": {
        "id": "MeJIkHqmFEYO",
        "outputId": "cd8b3d5d-4ca3-4704-ed6a-4d96ac2e0bb5",
        "colab": {
          "base_uri": "https://localhost:8080/",
          "height": 142
        }
      },
      "source": [
        "# 방법 1\n",
        "order = [\n",
        "    ['2017-01-01', 500, 'confirmed'],\n",
        "    ['2017-01-01', 700, 'confirmed'],\n",
        "    ['2017-01-01', 200, 'canceled']\n",
        "]\n",
        "\n",
        "columns = ['date', 'price', 'state']\n",
        "\n",
        "order = pd.DataFrame(order, columns = columns)\n",
        "order"
      ],
      "execution_count": null,
      "outputs": [
        {
          "output_type": "execute_result",
          "data": {
            "text/html": [
              "<div>\n",
              "<style scoped>\n",
              "    .dataframe tbody tr th:only-of-type {\n",
              "        vertical-align: middle;\n",
              "    }\n",
              "\n",
              "    .dataframe tbody tr th {\n",
              "        vertical-align: top;\n",
              "    }\n",
              "\n",
              "    .dataframe thead th {\n",
              "        text-align: right;\n",
              "    }\n",
              "</style>\n",
              "<table border=\"1\" class=\"dataframe\">\n",
              "  <thead>\n",
              "    <tr style=\"text-align: right;\">\n",
              "      <th></th>\n",
              "      <th>date</th>\n",
              "      <th>price</th>\n",
              "      <th>state</th>\n",
              "    </tr>\n",
              "  </thead>\n",
              "  <tbody>\n",
              "    <tr>\n",
              "      <th>0</th>\n",
              "      <td>2017-01-01</td>\n",
              "      <td>500</td>\n",
              "      <td>confirmed</td>\n",
              "    </tr>\n",
              "    <tr>\n",
              "      <th>1</th>\n",
              "      <td>2017-01-01</td>\n",
              "      <td>700</td>\n",
              "      <td>confirmed</td>\n",
              "    </tr>\n",
              "    <tr>\n",
              "      <th>2</th>\n",
              "      <td>2017-01-01</td>\n",
              "      <td>200</td>\n",
              "      <td>canceled</td>\n",
              "    </tr>\n",
              "  </tbody>\n",
              "</table>\n",
              "</div>"
            ],
            "text/plain": [
              "         date  price      state\n",
              "0  2017-01-01    500  confirmed\n",
              "1  2017-01-01    700  confirmed\n",
              "2  2017-01-01    200   canceled"
            ]
          },
          "metadata": {
            "tags": []
          },
          "execution_count": 8
        }
      ]
    },
    {
      "cell_type": "code",
      "metadata": {
        "id": "LQldvUv2FEc4",
        "outputId": "ecbc88eb-b437-4074-e25f-5f65c950b26c",
        "colab": {
          "base_uri": "https://localhost:8080/",
          "height": 142
        }
      },
      "source": [
        "# 방법 2 : 딕셔너리 안에 리스트\n",
        "order = {\n",
        "    'date': ['2017-01-01', '2017-01-03', '2017-01-10'],\n",
        "    'price': [500, 700, 200],\n",
        "    'state': ['confirmed', 'confirmed', 'canceled']\n",
        "}\n",
        "\n",
        "order = pd.DataFrame(order)\n",
        "order"
      ],
      "execution_count": null,
      "outputs": [
        {
          "output_type": "execute_result",
          "data": {
            "text/html": [
              "<div>\n",
              "<style scoped>\n",
              "    .dataframe tbody tr th:only-of-type {\n",
              "        vertical-align: middle;\n",
              "    }\n",
              "\n",
              "    .dataframe tbody tr th {\n",
              "        vertical-align: top;\n",
              "    }\n",
              "\n",
              "    .dataframe thead th {\n",
              "        text-align: right;\n",
              "    }\n",
              "</style>\n",
              "<table border=\"1\" class=\"dataframe\">\n",
              "  <thead>\n",
              "    <tr style=\"text-align: right;\">\n",
              "      <th></th>\n",
              "      <th>date</th>\n",
              "      <th>price</th>\n",
              "      <th>state</th>\n",
              "    </tr>\n",
              "  </thead>\n",
              "  <tbody>\n",
              "    <tr>\n",
              "      <th>0</th>\n",
              "      <td>2017-01-01</td>\n",
              "      <td>500</td>\n",
              "      <td>confirmed</td>\n",
              "    </tr>\n",
              "    <tr>\n",
              "      <th>1</th>\n",
              "      <td>2017-01-03</td>\n",
              "      <td>700</td>\n",
              "      <td>confirmed</td>\n",
              "    </tr>\n",
              "    <tr>\n",
              "      <th>2</th>\n",
              "      <td>2017-01-10</td>\n",
              "      <td>200</td>\n",
              "      <td>canceled</td>\n",
              "    </tr>\n",
              "  </tbody>\n",
              "</table>\n",
              "</div>"
            ],
            "text/plain": [
              "         date  price      state\n",
              "0  2017-01-01    500  confirmed\n",
              "1  2017-01-03    700  confirmed\n",
              "2  2017-01-10    200   canceled"
            ]
          },
          "metadata": {
            "tags": []
          },
          "execution_count": 9
        }
      ]
    },
    {
      "cell_type": "code",
      "metadata": {
        "id": "kNf3cTwGFEgH",
        "outputId": "8277fd27-8f04-4342-e231-0ef5cce1f84b",
        "colab": {
          "base_uri": "https://localhost:8080/",
          "height": 142
        }
      },
      "source": [
        "# 방법 3 : 리스트 안에 딕셔너리\n",
        "order = [\n",
        "    {'date': '2017-01-01', 'price': 500, 'state': 'confirmed'},\n",
        "    {'date': '2017-01-03', 'price': 700, 'state': 'confirmed'},\n",
        "    {'date': '2017-01-10', 'price': 200, 'state': 'canceled'},\n",
        "]\n",
        "\n",
        "order = pd.DataFrame(order)\n",
        "order"
      ],
      "execution_count": null,
      "outputs": [
        {
          "output_type": "execute_result",
          "data": {
            "text/html": [
              "<div>\n",
              "<style scoped>\n",
              "    .dataframe tbody tr th:only-of-type {\n",
              "        vertical-align: middle;\n",
              "    }\n",
              "\n",
              "    .dataframe tbody tr th {\n",
              "        vertical-align: top;\n",
              "    }\n",
              "\n",
              "    .dataframe thead th {\n",
              "        text-align: right;\n",
              "    }\n",
              "</style>\n",
              "<table border=\"1\" class=\"dataframe\">\n",
              "  <thead>\n",
              "    <tr style=\"text-align: right;\">\n",
              "      <th></th>\n",
              "      <th>date</th>\n",
              "      <th>price</th>\n",
              "      <th>state</th>\n",
              "    </tr>\n",
              "  </thead>\n",
              "  <tbody>\n",
              "    <tr>\n",
              "      <th>0</th>\n",
              "      <td>2017-01-01</td>\n",
              "      <td>500</td>\n",
              "      <td>confirmed</td>\n",
              "    </tr>\n",
              "    <tr>\n",
              "      <th>1</th>\n",
              "      <td>2017-01-03</td>\n",
              "      <td>700</td>\n",
              "      <td>confirmed</td>\n",
              "    </tr>\n",
              "    <tr>\n",
              "      <th>2</th>\n",
              "      <td>2017-01-10</td>\n",
              "      <td>200</td>\n",
              "      <td>canceled</td>\n",
              "    </tr>\n",
              "  </tbody>\n",
              "</table>\n",
              "</div>"
            ],
            "text/plain": [
              "         date  price      state\n",
              "0  2017-01-01    500  confirmed\n",
              "1  2017-01-03    700  confirmed\n",
              "2  2017-01-10    200   canceled"
            ]
          },
          "metadata": {
            "tags": []
          },
          "execution_count": 10
        }
      ]
    },
    {
      "cell_type": "markdown",
      "metadata": {
        "id": "Tv8_JaioQgdn"
      },
      "source": [
        "## index / columns / values"
      ]
    },
    {
      "cell_type": "code",
      "metadata": {
        "id": "reJP-oBYFEi5",
        "outputId": "0a3b5ccf-d369-4514-d281-51aa79b4d761",
        "colab": {
          "base_uri": "https://localhost:8080/",
          "height": 297
        }
      },
      "source": [
        "order_url = \"https://bit.ly/dsa-01-order\"\n",
        "\n",
        "# order = pd.read_csv(order_url, index_col = 'id')\n",
        "\n",
        "order = pd.read_csv(order_url)\n",
        "order = order.set_index('id')\n",
        "\n",
        "order"
      ],
      "execution_count": null,
      "outputs": [
        {
          "output_type": "execute_result",
          "data": {
            "text/html": [
              "<div>\n",
              "<style scoped>\n",
              "    .dataframe tbody tr th:only-of-type {\n",
              "        vertical-align: middle;\n",
              "    }\n",
              "\n",
              "    .dataframe tbody tr th {\n",
              "        vertical-align: top;\n",
              "    }\n",
              "\n",
              "    .dataframe thead th {\n",
              "        text-align: right;\n",
              "    }\n",
              "</style>\n",
              "<table border=\"1\" class=\"dataframe\">\n",
              "  <thead>\n",
              "    <tr style=\"text-align: right;\">\n",
              "      <th></th>\n",
              "      <th>user_id</th>\n",
              "      <th>product_id</th>\n",
              "      <th>date</th>\n",
              "      <th>price</th>\n",
              "      <th>address</th>\n",
              "      <th>state</th>\n",
              "    </tr>\n",
              "    <tr>\n",
              "      <th>id</th>\n",
              "      <th></th>\n",
              "      <th></th>\n",
              "      <th></th>\n",
              "      <th></th>\n",
              "      <th></th>\n",
              "      <th></th>\n",
              "    </tr>\n",
              "  </thead>\n",
              "  <tbody>\n",
              "    <tr>\n",
              "      <th>1</th>\n",
              "      <td>3</td>\n",
              "      <td>9</td>\n",
              "      <td>2017-01-01</td>\n",
              "      <td>500</td>\n",
              "      <td>Seoul</td>\n",
              "      <td>confirmed</td>\n",
              "    </tr>\n",
              "    <tr>\n",
              "      <th>2</th>\n",
              "      <td>1</td>\n",
              "      <td>7</td>\n",
              "      <td>2017-01-03</td>\n",
              "      <td>700</td>\n",
              "      <td>Seoul</td>\n",
              "      <td>confirmed</td>\n",
              "    </tr>\n",
              "    <tr>\n",
              "      <th>3</th>\n",
              "      <td>3</td>\n",
              "      <td>8</td>\n",
              "      <td>2017-01-03</td>\n",
              "      <td>900</td>\n",
              "      <td>Daejeon</td>\n",
              "      <td>confirmed</td>\n",
              "    </tr>\n",
              "    <tr>\n",
              "      <th>4</th>\n",
              "      <td>4</td>\n",
              "      <td>2</td>\n",
              "      <td>2017-01-07</td>\n",
              "      <td>500</td>\n",
              "      <td>NaN</td>\n",
              "      <td>canceled</td>\n",
              "    </tr>\n",
              "    <tr>\n",
              "      <th>5</th>\n",
              "      <td>7</td>\n",
              "      <td>3</td>\n",
              "      <td>2017-01-09</td>\n",
              "      <td>700</td>\n",
              "      <td>Incheon</td>\n",
              "      <td>confirmed</td>\n",
              "    </tr>\n",
              "    <tr>\n",
              "      <th>6</th>\n",
              "      <td>5</td>\n",
              "      <td>7</td>\n",
              "      <td>2017-01-09</td>\n",
              "      <td>600</td>\n",
              "      <td>Busan</td>\n",
              "      <td>canceled</td>\n",
              "    </tr>\n",
              "    <tr>\n",
              "      <th>7</th>\n",
              "      <td>2</td>\n",
              "      <td>5</td>\n",
              "      <td>2017-01-10</td>\n",
              "      <td>200</td>\n",
              "      <td>NaN</td>\n",
              "      <td>canceled</td>\n",
              "    </tr>\n",
              "  </tbody>\n",
              "</table>\n",
              "</div>"
            ],
            "text/plain": [
              "    user_id  product_id        date  price  address      state\n",
              "id                                                            \n",
              "1         3           9  2017-01-01    500    Seoul  confirmed\n",
              "2         1           7  2017-01-03    700    Seoul  confirmed\n",
              "3         3           8  2017-01-03    900  Daejeon  confirmed\n",
              "4         4           2  2017-01-07    500      NaN   canceled\n",
              "5         7           3  2017-01-09    700  Incheon  confirmed\n",
              "6         5           7  2017-01-09    600    Busan   canceled\n",
              "7         2           5  2017-01-10    200      NaN   canceled"
            ]
          },
          "metadata": {
            "tags": []
          },
          "execution_count": 11
        }
      ]
    },
    {
      "cell_type": "code",
      "metadata": {
        "id": "vHvxqj5NFElh",
        "outputId": "d5942c72-8751-4aac-f32a-376ba811015e",
        "colab": {
          "base_uri": "https://localhost:8080/",
          "height": 35
        }
      },
      "source": [
        "type(order.index)"
      ],
      "execution_count": null,
      "outputs": [
        {
          "output_type": "execute_result",
          "data": {
            "text/plain": [
              "pandas.core.indexes.numeric.Int64Index"
            ]
          },
          "metadata": {
            "tags": []
          },
          "execution_count": 12
        }
      ]
    },
    {
      "cell_type": "code",
      "metadata": {
        "id": "2_UtGfI1JWqe",
        "outputId": "783ad2c3-2a92-4bfd-f371-07659be125ee",
        "colab": {
          "base_uri": "https://localhost:8080/",
          "height": 53
        }
      },
      "source": [
        "print(order.columns)\n",
        "order.columns = ['user_id', 'product_id', 'date', 'amount', 'address', 'result']\n",
        "order.columns"
      ],
      "execution_count": null,
      "outputs": [
        {
          "output_type": "stream",
          "text": [
            "Index(['user_id', 'product_id', 'date', 'price', 'address', 'state'], dtype='object')\n"
          ],
          "name": "stdout"
        },
        {
          "output_type": "execute_result",
          "data": {
            "text/plain": [
              "Index(['user_id', 'product_id', 'date', 'amount', 'address', 'result'], dtype='object')"
            ]
          },
          "metadata": {
            "tags": []
          },
          "execution_count": 13
        }
      ]
    },
    {
      "cell_type": "code",
      "metadata": {
        "id": "Z0sijwebJX9p",
        "outputId": "775f74b0-c651-4c9f-a8c7-2f2c84fb41f5",
        "colab": {
          "base_uri": "https://localhost:8080/",
          "height": 143
        }
      },
      "source": [
        "order.values"
      ],
      "execution_count": null,
      "outputs": [
        {
          "output_type": "execute_result",
          "data": {
            "text/plain": [
              "array([[3, 9, '2017-01-01', 500, 'Seoul', 'confirmed'],\n",
              "       [1, 7, '2017-01-03', 700, 'Seoul', 'confirmed'],\n",
              "       [3, 8, '2017-01-03', 900, 'Daejeon', 'confirmed'],\n",
              "       [4, 2, '2017-01-07', 500, nan, 'canceled'],\n",
              "       [7, 3, '2017-01-09', 700, 'Incheon', 'confirmed'],\n",
              "       [5, 7, '2017-01-09', 600, 'Busan', 'canceled'],\n",
              "       [2, 5, '2017-01-10', 200, nan, 'canceled']], dtype=object)"
            ]
          },
          "metadata": {
            "tags": []
          },
          "execution_count": 14
        }
      ]
    },
    {
      "cell_type": "markdown",
      "metadata": {
        "id": "Mk3sJs66TcKs"
      },
      "source": [
        "## 기본적인 함수"
      ]
    },
    {
      "cell_type": "code",
      "metadata": {
        "id": "aGrxClHLQdA0",
        "outputId": "02ccabc0-4f3d-4eb1-ff0c-66e8eeabfe95",
        "colab": {
          "base_uri": "https://localhost:8080/",
          "height": 179
        }
      },
      "source": [
        "order[\"amount\"].describe()"
      ],
      "execution_count": null,
      "outputs": [
        {
          "output_type": "execute_result",
          "data": {
            "text/plain": [
              "count      7.000000\n",
              "mean     585.714286\n",
              "std      219.306266\n",
              "min      200.000000\n",
              "25%      500.000000\n",
              "50%      600.000000\n",
              "75%      700.000000\n",
              "max      900.000000\n",
              "Name: amount, dtype: float64"
            ]
          },
          "metadata": {
            "tags": []
          },
          "execution_count": 15
        }
      ]
    },
    {
      "cell_type": "code",
      "metadata": {
        "id": "cizzSHJ6QdDZ",
        "outputId": "bbc693ee-2920-4617-a739-03874f349065",
        "colab": {
          "base_uri": "https://localhost:8080/",
          "height": 35
        }
      },
      "source": [
        "order[\"result\"].unique()"
      ],
      "execution_count": null,
      "outputs": [
        {
          "output_type": "execute_result",
          "data": {
            "text/plain": [
              "array(['confirmed', 'canceled'], dtype=object)"
            ]
          },
          "metadata": {
            "tags": []
          },
          "execution_count": 16
        }
      ]
    },
    {
      "cell_type": "code",
      "metadata": {
        "id": "luEBzTCmVShQ",
        "outputId": "e674037d-3d39-44c7-c2d2-b85ae9993c29",
        "colab": {
          "base_uri": "https://localhost:8080/",
          "height": 71
        }
      },
      "source": [
        "order[\"result\"].value_counts(normalize = True)"
      ],
      "execution_count": null,
      "outputs": [
        {
          "output_type": "execute_result",
          "data": {
            "text/plain": [
              "confirmed    0.571429\n",
              "canceled     0.428571\n",
              "Name: result, dtype: float64"
            ]
          },
          "metadata": {
            "tags": []
          },
          "execution_count": 17
        }
      ]
    },
    {
      "cell_type": "code",
      "metadata": {
        "id": "IDP7jbV5nWof",
        "outputId": "b9d600ce-a10a-48a6-b99d-0fc88722888c",
        "colab": {
          "base_uri": "https://localhost:8080/",
          "height": 297
        }
      },
      "source": [
        "order[\"result\"] = order[\"result\"].replace(\"confirmed\", \"confirm\").replace(\"canceled\", \"cancel\")\n",
        "\n",
        "order"
      ],
      "execution_count": null,
      "outputs": [
        {
          "output_type": "execute_result",
          "data": {
            "text/html": [
              "<div>\n",
              "<style scoped>\n",
              "    .dataframe tbody tr th:only-of-type {\n",
              "        vertical-align: middle;\n",
              "    }\n",
              "\n",
              "    .dataframe tbody tr th {\n",
              "        vertical-align: top;\n",
              "    }\n",
              "\n",
              "    .dataframe thead th {\n",
              "        text-align: right;\n",
              "    }\n",
              "</style>\n",
              "<table border=\"1\" class=\"dataframe\">\n",
              "  <thead>\n",
              "    <tr style=\"text-align: right;\">\n",
              "      <th></th>\n",
              "      <th>user_id</th>\n",
              "      <th>product_id</th>\n",
              "      <th>date</th>\n",
              "      <th>amount</th>\n",
              "      <th>address</th>\n",
              "      <th>result</th>\n",
              "    </tr>\n",
              "    <tr>\n",
              "      <th>id</th>\n",
              "      <th></th>\n",
              "      <th></th>\n",
              "      <th></th>\n",
              "      <th></th>\n",
              "      <th></th>\n",
              "      <th></th>\n",
              "    </tr>\n",
              "  </thead>\n",
              "  <tbody>\n",
              "    <tr>\n",
              "      <th>1</th>\n",
              "      <td>3</td>\n",
              "      <td>9</td>\n",
              "      <td>2017-01-01</td>\n",
              "      <td>500</td>\n",
              "      <td>Seoul</td>\n",
              "      <td>confirm</td>\n",
              "    </tr>\n",
              "    <tr>\n",
              "      <th>2</th>\n",
              "      <td>1</td>\n",
              "      <td>7</td>\n",
              "      <td>2017-01-03</td>\n",
              "      <td>700</td>\n",
              "      <td>Seoul</td>\n",
              "      <td>confirm</td>\n",
              "    </tr>\n",
              "    <tr>\n",
              "      <th>3</th>\n",
              "      <td>3</td>\n",
              "      <td>8</td>\n",
              "      <td>2017-01-03</td>\n",
              "      <td>900</td>\n",
              "      <td>Daejeon</td>\n",
              "      <td>confirm</td>\n",
              "    </tr>\n",
              "    <tr>\n",
              "      <th>4</th>\n",
              "      <td>4</td>\n",
              "      <td>2</td>\n",
              "      <td>2017-01-07</td>\n",
              "      <td>500</td>\n",
              "      <td>NaN</td>\n",
              "      <td>cancel</td>\n",
              "    </tr>\n",
              "    <tr>\n",
              "      <th>5</th>\n",
              "      <td>7</td>\n",
              "      <td>3</td>\n",
              "      <td>2017-01-09</td>\n",
              "      <td>700</td>\n",
              "      <td>Incheon</td>\n",
              "      <td>confirm</td>\n",
              "    </tr>\n",
              "    <tr>\n",
              "      <th>6</th>\n",
              "      <td>5</td>\n",
              "      <td>7</td>\n",
              "      <td>2017-01-09</td>\n",
              "      <td>600</td>\n",
              "      <td>Busan</td>\n",
              "      <td>cancel</td>\n",
              "    </tr>\n",
              "    <tr>\n",
              "      <th>7</th>\n",
              "      <td>2</td>\n",
              "      <td>5</td>\n",
              "      <td>2017-01-10</td>\n",
              "      <td>200</td>\n",
              "      <td>NaN</td>\n",
              "      <td>cancel</td>\n",
              "    </tr>\n",
              "  </tbody>\n",
              "</table>\n",
              "</div>"
            ],
            "text/plain": [
              "    user_id  product_id        date  amount  address   result\n",
              "id                                                           \n",
              "1         3           9  2017-01-01     500    Seoul  confirm\n",
              "2         1           7  2017-01-03     700    Seoul  confirm\n",
              "3         3           8  2017-01-03     900  Daejeon  confirm\n",
              "4         4           2  2017-01-07     500      NaN   cancel\n",
              "5         7           3  2017-01-09     700  Incheon  confirm\n",
              "6         5           7  2017-01-09     600    Busan   cancel\n",
              "7         2           5  2017-01-10     200      NaN   cancel"
            ]
          },
          "metadata": {
            "tags": []
          },
          "execution_count": 20
        }
      ]
    },
    {
      "cell_type": "code",
      "metadata": {
        "id": "j_5J7TDMn6zZ",
        "outputId": "c08a3ffc-5829-46e4-c776-9d5488c95f56",
        "colab": {
          "base_uri": "https://localhost:8080/",
          "height": 179
        }
      },
      "source": [
        "order[\"date\"] = pd.to_datetime(order[\"date\"])\n",
        "\n",
        "order[\"date\"].dt.year\n",
        "# order[\"date\"].dt.dayofweek"
      ],
      "execution_count": null,
      "outputs": [
        {
          "output_type": "execute_result",
          "data": {
            "text/plain": [
              "id\n",
              "1    2017\n",
              "2    2017\n",
              "3    2017\n",
              "4    2017\n",
              "5    2017\n",
              "6    2017\n",
              "7    2017\n",
              "Name: date, dtype: int64"
            ]
          },
          "metadata": {
            "tags": []
          },
          "execution_count": 29
        }
      ]
    },
    {
      "cell_type": "code",
      "metadata": {
        "id": "4clLrBcooZ6W",
        "outputId": "2d596ecc-9770-4390-bd37-1a9e866a1dfa",
        "colab": {
          "base_uri": "https://localhost:8080/",
          "height": 142
        }
      },
      "source": [
        "order[order[\"address\"].isnull()]"
      ],
      "execution_count": null,
      "outputs": [
        {
          "output_type": "execute_result",
          "data": {
            "text/html": [
              "<div>\n",
              "<style scoped>\n",
              "    .dataframe tbody tr th:only-of-type {\n",
              "        vertical-align: middle;\n",
              "    }\n",
              "\n",
              "    .dataframe tbody tr th {\n",
              "        vertical-align: top;\n",
              "    }\n",
              "\n",
              "    .dataframe thead th {\n",
              "        text-align: right;\n",
              "    }\n",
              "</style>\n",
              "<table border=\"1\" class=\"dataframe\">\n",
              "  <thead>\n",
              "    <tr style=\"text-align: right;\">\n",
              "      <th></th>\n",
              "      <th>user_id</th>\n",
              "      <th>product_id</th>\n",
              "      <th>date</th>\n",
              "      <th>amount</th>\n",
              "      <th>address</th>\n",
              "      <th>result</th>\n",
              "    </tr>\n",
              "    <tr>\n",
              "      <th>id</th>\n",
              "      <th></th>\n",
              "      <th></th>\n",
              "      <th></th>\n",
              "      <th></th>\n",
              "      <th></th>\n",
              "      <th></th>\n",
              "    </tr>\n",
              "  </thead>\n",
              "  <tbody>\n",
              "    <tr>\n",
              "      <th>4</th>\n",
              "      <td>4</td>\n",
              "      <td>2</td>\n",
              "      <td>2017-01-07</td>\n",
              "      <td>500</td>\n",
              "      <td>NaN</td>\n",
              "      <td>cancel</td>\n",
              "    </tr>\n",
              "    <tr>\n",
              "      <th>7</th>\n",
              "      <td>2</td>\n",
              "      <td>5</td>\n",
              "      <td>2017-01-10</td>\n",
              "      <td>200</td>\n",
              "      <td>NaN</td>\n",
              "      <td>cancel</td>\n",
              "    </tr>\n",
              "  </tbody>\n",
              "</table>\n",
              "</div>"
            ],
            "text/plain": [
              "    user_id  product_id       date  amount address  result\n",
              "id                                                        \n",
              "4         4           2 2017-01-07     500     NaN  cancel\n",
              "7         2           5 2017-01-10     200     NaN  cancel"
            ]
          },
          "metadata": {
            "tags": []
          },
          "execution_count": 30
        }
      ]
    },
    {
      "cell_type": "code",
      "metadata": {
        "id": "VKP_-SoVw4sm",
        "outputId": "7500fdbd-6795-482f-b345-a556cdeeb7ae",
        "colab": {
          "base_uri": "https://localhost:8080/",
          "height": 235
        }
      },
      "source": [
        "order[~order[\"address\"].isnull()]"
      ],
      "execution_count": null,
      "outputs": [
        {
          "output_type": "execute_result",
          "data": {
            "text/html": [
              "<div>\n",
              "<style scoped>\n",
              "    .dataframe tbody tr th:only-of-type {\n",
              "        vertical-align: middle;\n",
              "    }\n",
              "\n",
              "    .dataframe tbody tr th {\n",
              "        vertical-align: top;\n",
              "    }\n",
              "\n",
              "    .dataframe thead th {\n",
              "        text-align: right;\n",
              "    }\n",
              "</style>\n",
              "<table border=\"1\" class=\"dataframe\">\n",
              "  <thead>\n",
              "    <tr style=\"text-align: right;\">\n",
              "      <th></th>\n",
              "      <th>user_id</th>\n",
              "      <th>product_id</th>\n",
              "      <th>date</th>\n",
              "      <th>amount</th>\n",
              "      <th>address</th>\n",
              "      <th>result</th>\n",
              "    </tr>\n",
              "    <tr>\n",
              "      <th>id</th>\n",
              "      <th></th>\n",
              "      <th></th>\n",
              "      <th></th>\n",
              "      <th></th>\n",
              "      <th></th>\n",
              "      <th></th>\n",
              "    </tr>\n",
              "  </thead>\n",
              "  <tbody>\n",
              "    <tr>\n",
              "      <th>1</th>\n",
              "      <td>3</td>\n",
              "      <td>9</td>\n",
              "      <td>2017-01-01</td>\n",
              "      <td>500</td>\n",
              "      <td>Seoul</td>\n",
              "      <td>confirm</td>\n",
              "    </tr>\n",
              "    <tr>\n",
              "      <th>2</th>\n",
              "      <td>1</td>\n",
              "      <td>7</td>\n",
              "      <td>2017-01-03</td>\n",
              "      <td>700</td>\n",
              "      <td>Seoul</td>\n",
              "      <td>confirm</td>\n",
              "    </tr>\n",
              "    <tr>\n",
              "      <th>3</th>\n",
              "      <td>3</td>\n",
              "      <td>8</td>\n",
              "      <td>2017-01-03</td>\n",
              "      <td>900</td>\n",
              "      <td>Daejeon</td>\n",
              "      <td>confirm</td>\n",
              "    </tr>\n",
              "    <tr>\n",
              "      <th>5</th>\n",
              "      <td>7</td>\n",
              "      <td>3</td>\n",
              "      <td>2017-01-09</td>\n",
              "      <td>700</td>\n",
              "      <td>Incheon</td>\n",
              "      <td>confirm</td>\n",
              "    </tr>\n",
              "    <tr>\n",
              "      <th>6</th>\n",
              "      <td>5</td>\n",
              "      <td>7</td>\n",
              "      <td>2017-01-09</td>\n",
              "      <td>600</td>\n",
              "      <td>Busan</td>\n",
              "      <td>cancel</td>\n",
              "    </tr>\n",
              "  </tbody>\n",
              "</table>\n",
              "</div>"
            ],
            "text/plain": [
              "    user_id  product_id       date  amount  address   result\n",
              "id                                                          \n",
              "1         3           9 2017-01-01     500    Seoul  confirm\n",
              "2         1           7 2017-01-03     700    Seoul  confirm\n",
              "3         3           8 2017-01-03     900  Daejeon  confirm\n",
              "5         7           3 2017-01-09     700  Incheon  confirm\n",
              "6         5           7 2017-01-09     600    Busan   cancel"
            ]
          },
          "metadata": {
            "tags": []
          },
          "execution_count": 31
        }
      ]
    },
    {
      "cell_type": "code",
      "metadata": {
        "id": "jWaI7GTczXre",
        "outputId": "ee1ea221-4ff7-40b1-fbc5-3988fda9ccea",
        "colab": {
          "base_uri": "https://localhost:8080/",
          "height": 235
        }
      },
      "source": [
        "order[order[\"address\"].notnull()]"
      ],
      "execution_count": null,
      "outputs": [
        {
          "output_type": "execute_result",
          "data": {
            "text/html": [
              "<div>\n",
              "<style scoped>\n",
              "    .dataframe tbody tr th:only-of-type {\n",
              "        vertical-align: middle;\n",
              "    }\n",
              "\n",
              "    .dataframe tbody tr th {\n",
              "        vertical-align: top;\n",
              "    }\n",
              "\n",
              "    .dataframe thead th {\n",
              "        text-align: right;\n",
              "    }\n",
              "</style>\n",
              "<table border=\"1\" class=\"dataframe\">\n",
              "  <thead>\n",
              "    <tr style=\"text-align: right;\">\n",
              "      <th></th>\n",
              "      <th>user_id</th>\n",
              "      <th>product_id</th>\n",
              "      <th>date</th>\n",
              "      <th>amount</th>\n",
              "      <th>address</th>\n",
              "      <th>result</th>\n",
              "    </tr>\n",
              "    <tr>\n",
              "      <th>id</th>\n",
              "      <th></th>\n",
              "      <th></th>\n",
              "      <th></th>\n",
              "      <th></th>\n",
              "      <th></th>\n",
              "      <th></th>\n",
              "    </tr>\n",
              "  </thead>\n",
              "  <tbody>\n",
              "    <tr>\n",
              "      <th>1</th>\n",
              "      <td>3</td>\n",
              "      <td>9</td>\n",
              "      <td>2017-01-01</td>\n",
              "      <td>500</td>\n",
              "      <td>Seoul</td>\n",
              "      <td>confirm</td>\n",
              "    </tr>\n",
              "    <tr>\n",
              "      <th>2</th>\n",
              "      <td>1</td>\n",
              "      <td>7</td>\n",
              "      <td>2017-01-03</td>\n",
              "      <td>700</td>\n",
              "      <td>Seoul</td>\n",
              "      <td>confirm</td>\n",
              "    </tr>\n",
              "    <tr>\n",
              "      <th>3</th>\n",
              "      <td>3</td>\n",
              "      <td>8</td>\n",
              "      <td>2017-01-03</td>\n",
              "      <td>900</td>\n",
              "      <td>Daejeon</td>\n",
              "      <td>confirm</td>\n",
              "    </tr>\n",
              "    <tr>\n",
              "      <th>5</th>\n",
              "      <td>7</td>\n",
              "      <td>3</td>\n",
              "      <td>2017-01-09</td>\n",
              "      <td>700</td>\n",
              "      <td>Incheon</td>\n",
              "      <td>confirm</td>\n",
              "    </tr>\n",
              "    <tr>\n",
              "      <th>6</th>\n",
              "      <td>5</td>\n",
              "      <td>7</td>\n",
              "      <td>2017-01-09</td>\n",
              "      <td>600</td>\n",
              "      <td>Busan</td>\n",
              "      <td>cancel</td>\n",
              "    </tr>\n",
              "  </tbody>\n",
              "</table>\n",
              "</div>"
            ],
            "text/plain": [
              "    user_id  product_id       date  amount  address   result\n",
              "id                                                          \n",
              "1         3           9 2017-01-01     500    Seoul  confirm\n",
              "2         1           7 2017-01-03     700    Seoul  confirm\n",
              "3         3           8 2017-01-03     900  Daejeon  confirm\n",
              "5         7           3 2017-01-09     700  Incheon  confirm\n",
              "6         5           7 2017-01-09     600    Busan   cancel"
            ]
          },
          "metadata": {
            "tags": []
          },
          "execution_count": 34
        }
      ]
    },
    {
      "cell_type": "code",
      "metadata": {
        "id": "eMkwUuAAxUAb",
        "outputId": "c85f99b5-384e-4a12-b00e-d7d5ea0e76af",
        "colab": {
          "base_uri": "https://localhost:8080/",
          "height": 173
        }
      },
      "source": [
        "date_candidates = [\"2017-01-01\", \"2017-01-05\", \"2017-01-09\"]\n",
        "\n",
        "order[order[\"date\"].isin(date_candidates)]"
      ],
      "execution_count": null,
      "outputs": [
        {
          "output_type": "execute_result",
          "data": {
            "text/html": [
              "<div>\n",
              "<style scoped>\n",
              "    .dataframe tbody tr th:only-of-type {\n",
              "        vertical-align: middle;\n",
              "    }\n",
              "\n",
              "    .dataframe tbody tr th {\n",
              "        vertical-align: top;\n",
              "    }\n",
              "\n",
              "    .dataframe thead th {\n",
              "        text-align: right;\n",
              "    }\n",
              "</style>\n",
              "<table border=\"1\" class=\"dataframe\">\n",
              "  <thead>\n",
              "    <tr style=\"text-align: right;\">\n",
              "      <th></th>\n",
              "      <th>user_id</th>\n",
              "      <th>product_id</th>\n",
              "      <th>date</th>\n",
              "      <th>amount</th>\n",
              "      <th>address</th>\n",
              "      <th>result</th>\n",
              "    </tr>\n",
              "    <tr>\n",
              "      <th>id</th>\n",
              "      <th></th>\n",
              "      <th></th>\n",
              "      <th></th>\n",
              "      <th></th>\n",
              "      <th></th>\n",
              "      <th></th>\n",
              "    </tr>\n",
              "  </thead>\n",
              "  <tbody>\n",
              "    <tr>\n",
              "      <th>1</th>\n",
              "      <td>3</td>\n",
              "      <td>9</td>\n",
              "      <td>2017-01-01</td>\n",
              "      <td>500</td>\n",
              "      <td>Seoul</td>\n",
              "      <td>confirm</td>\n",
              "    </tr>\n",
              "    <tr>\n",
              "      <th>5</th>\n",
              "      <td>7</td>\n",
              "      <td>3</td>\n",
              "      <td>2017-01-09</td>\n",
              "      <td>700</td>\n",
              "      <td>Incheon</td>\n",
              "      <td>confirm</td>\n",
              "    </tr>\n",
              "    <tr>\n",
              "      <th>6</th>\n",
              "      <td>5</td>\n",
              "      <td>7</td>\n",
              "      <td>2017-01-09</td>\n",
              "      <td>600</td>\n",
              "      <td>Busan</td>\n",
              "      <td>cancel</td>\n",
              "    </tr>\n",
              "  </tbody>\n",
              "</table>\n",
              "</div>"
            ],
            "text/plain": [
              "    user_id  product_id       date  amount  address   result\n",
              "id                                                          \n",
              "1         3           9 2017-01-01     500    Seoul  confirm\n",
              "5         7           3 2017-01-09     700  Incheon  confirm\n",
              "6         5           7 2017-01-09     600    Busan   cancel"
            ]
          },
          "metadata": {
            "tags": []
          },
          "execution_count": 33
        }
      ]
    },
    {
      "cell_type": "markdown",
      "metadata": {
        "id": "tNvo9GiX1UGV"
      },
      "source": [
        "## 컬럼 추가&수정&삭제"
      ]
    },
    {
      "cell_type": "code",
      "metadata": {
        "id": "80toa3s_xkdB",
        "outputId": "464c2ec4-aac0-4ced-b0ff-06034e8079f2",
        "colab": {
          "base_uri": "https://localhost:8080/",
          "height": 297
        }
      },
      "source": [
        "## 추가&수정\n",
        "order[\"order\"] = list(range(1,8))\n",
        "order.loc[order[\"amount\"] >= 500, \"VIP\"] = \"VIP\"\n",
        "order.loc[order[\"amount\"] < 500, \"VIP\"] = \"none-VIP\"\n",
        "\n",
        "order"
      ],
      "execution_count": null,
      "outputs": [
        {
          "output_type": "execute_result",
          "data": {
            "text/html": [
              "<div>\n",
              "<style scoped>\n",
              "    .dataframe tbody tr th:only-of-type {\n",
              "        vertical-align: middle;\n",
              "    }\n",
              "\n",
              "    .dataframe tbody tr th {\n",
              "        vertical-align: top;\n",
              "    }\n",
              "\n",
              "    .dataframe thead th {\n",
              "        text-align: right;\n",
              "    }\n",
              "</style>\n",
              "<table border=\"1\" class=\"dataframe\">\n",
              "  <thead>\n",
              "    <tr style=\"text-align: right;\">\n",
              "      <th></th>\n",
              "      <th>user_id</th>\n",
              "      <th>product_id</th>\n",
              "      <th>date</th>\n",
              "      <th>amount</th>\n",
              "      <th>address</th>\n",
              "      <th>result</th>\n",
              "      <th>order</th>\n",
              "      <th>VIP</th>\n",
              "    </tr>\n",
              "    <tr>\n",
              "      <th>id</th>\n",
              "      <th></th>\n",
              "      <th></th>\n",
              "      <th></th>\n",
              "      <th></th>\n",
              "      <th></th>\n",
              "      <th></th>\n",
              "      <th></th>\n",
              "      <th></th>\n",
              "    </tr>\n",
              "  </thead>\n",
              "  <tbody>\n",
              "    <tr>\n",
              "      <th>1</th>\n",
              "      <td>3</td>\n",
              "      <td>9</td>\n",
              "      <td>2017-01-01</td>\n",
              "      <td>500</td>\n",
              "      <td>Seoul</td>\n",
              "      <td>confirm</td>\n",
              "      <td>1</td>\n",
              "      <td>VIP</td>\n",
              "    </tr>\n",
              "    <tr>\n",
              "      <th>2</th>\n",
              "      <td>1</td>\n",
              "      <td>7</td>\n",
              "      <td>2017-01-03</td>\n",
              "      <td>700</td>\n",
              "      <td>Seoul</td>\n",
              "      <td>confirm</td>\n",
              "      <td>2</td>\n",
              "      <td>VIP</td>\n",
              "    </tr>\n",
              "    <tr>\n",
              "      <th>3</th>\n",
              "      <td>3</td>\n",
              "      <td>8</td>\n",
              "      <td>2017-01-03</td>\n",
              "      <td>900</td>\n",
              "      <td>Daejeon</td>\n",
              "      <td>confirm</td>\n",
              "      <td>3</td>\n",
              "      <td>VIP</td>\n",
              "    </tr>\n",
              "    <tr>\n",
              "      <th>4</th>\n",
              "      <td>4</td>\n",
              "      <td>2</td>\n",
              "      <td>2017-01-07</td>\n",
              "      <td>500</td>\n",
              "      <td>NaN</td>\n",
              "      <td>cancel</td>\n",
              "      <td>4</td>\n",
              "      <td>VIP</td>\n",
              "    </tr>\n",
              "    <tr>\n",
              "      <th>5</th>\n",
              "      <td>7</td>\n",
              "      <td>3</td>\n",
              "      <td>2017-01-09</td>\n",
              "      <td>700</td>\n",
              "      <td>Incheon</td>\n",
              "      <td>confirm</td>\n",
              "      <td>5</td>\n",
              "      <td>VIP</td>\n",
              "    </tr>\n",
              "    <tr>\n",
              "      <th>6</th>\n",
              "      <td>5</td>\n",
              "      <td>7</td>\n",
              "      <td>2017-01-09</td>\n",
              "      <td>600</td>\n",
              "      <td>Busan</td>\n",
              "      <td>cancel</td>\n",
              "      <td>6</td>\n",
              "      <td>VIP</td>\n",
              "    </tr>\n",
              "    <tr>\n",
              "      <th>7</th>\n",
              "      <td>2</td>\n",
              "      <td>5</td>\n",
              "      <td>2017-01-10</td>\n",
              "      <td>200</td>\n",
              "      <td>NaN</td>\n",
              "      <td>cancel</td>\n",
              "      <td>7</td>\n",
              "      <td>none-VIP</td>\n",
              "    </tr>\n",
              "  </tbody>\n",
              "</table>\n",
              "</div>"
            ],
            "text/plain": [
              "    user_id  product_id       date  amount  address   result  order       VIP\n",
              "id                                                                           \n",
              "1         3           9 2017-01-01     500    Seoul  confirm      1       VIP\n",
              "2         1           7 2017-01-03     700    Seoul  confirm      2       VIP\n",
              "3         3           8 2017-01-03     900  Daejeon  confirm      3       VIP\n",
              "4         4           2 2017-01-07     500      NaN   cancel      4       VIP\n",
              "5         7           3 2017-01-09     700  Incheon  confirm      5       VIP\n",
              "6         5           7 2017-01-09     600    Busan   cancel      6       VIP\n",
              "7         2           5 2017-01-10     200      NaN   cancel      7  none-VIP"
            ]
          },
          "metadata": {
            "tags": []
          },
          "execution_count": 36
        }
      ]
    },
    {
      "cell_type": "code",
      "metadata": {
        "id": "ClPhQO3k4iMs",
        "outputId": "838ef65b-d163-4d4c-e25a-34cbaa4c2c59",
        "colab": {
          "base_uri": "https://localhost:8080/",
          "height": 297
        }
      },
      "source": [
        "## 컬럼 삭제\n",
        "order = order.drop([\"order\", \"VIP\"], axis=\"columns\")\n",
        "\n",
        "order"
      ],
      "execution_count": null,
      "outputs": [
        {
          "output_type": "execute_result",
          "data": {
            "text/html": [
              "<div>\n",
              "<style scoped>\n",
              "    .dataframe tbody tr th:only-of-type {\n",
              "        vertical-align: middle;\n",
              "    }\n",
              "\n",
              "    .dataframe tbody tr th {\n",
              "        vertical-align: top;\n",
              "    }\n",
              "\n",
              "    .dataframe thead th {\n",
              "        text-align: right;\n",
              "    }\n",
              "</style>\n",
              "<table border=\"1\" class=\"dataframe\">\n",
              "  <thead>\n",
              "    <tr style=\"text-align: right;\">\n",
              "      <th></th>\n",
              "      <th>user_id</th>\n",
              "      <th>product_id</th>\n",
              "      <th>date</th>\n",
              "      <th>amount</th>\n",
              "      <th>address</th>\n",
              "      <th>result</th>\n",
              "    </tr>\n",
              "    <tr>\n",
              "      <th>id</th>\n",
              "      <th></th>\n",
              "      <th></th>\n",
              "      <th></th>\n",
              "      <th></th>\n",
              "      <th></th>\n",
              "      <th></th>\n",
              "    </tr>\n",
              "  </thead>\n",
              "  <tbody>\n",
              "    <tr>\n",
              "      <th>1</th>\n",
              "      <td>3</td>\n",
              "      <td>9</td>\n",
              "      <td>2017-01-01</td>\n",
              "      <td>500</td>\n",
              "      <td>Seoul</td>\n",
              "      <td>confirm</td>\n",
              "    </tr>\n",
              "    <tr>\n",
              "      <th>2</th>\n",
              "      <td>1</td>\n",
              "      <td>7</td>\n",
              "      <td>2017-01-03</td>\n",
              "      <td>700</td>\n",
              "      <td>Seoul</td>\n",
              "      <td>confirm</td>\n",
              "    </tr>\n",
              "    <tr>\n",
              "      <th>3</th>\n",
              "      <td>3</td>\n",
              "      <td>8</td>\n",
              "      <td>2017-01-03</td>\n",
              "      <td>900</td>\n",
              "      <td>Daejeon</td>\n",
              "      <td>confirm</td>\n",
              "    </tr>\n",
              "    <tr>\n",
              "      <th>4</th>\n",
              "      <td>4</td>\n",
              "      <td>2</td>\n",
              "      <td>2017-01-07</td>\n",
              "      <td>500</td>\n",
              "      <td>NaN</td>\n",
              "      <td>cancel</td>\n",
              "    </tr>\n",
              "    <tr>\n",
              "      <th>5</th>\n",
              "      <td>7</td>\n",
              "      <td>3</td>\n",
              "      <td>2017-01-09</td>\n",
              "      <td>700</td>\n",
              "      <td>Incheon</td>\n",
              "      <td>confirm</td>\n",
              "    </tr>\n",
              "    <tr>\n",
              "      <th>6</th>\n",
              "      <td>5</td>\n",
              "      <td>7</td>\n",
              "      <td>2017-01-09</td>\n",
              "      <td>600</td>\n",
              "      <td>Busan</td>\n",
              "      <td>cancel</td>\n",
              "    </tr>\n",
              "    <tr>\n",
              "      <th>7</th>\n",
              "      <td>2</td>\n",
              "      <td>5</td>\n",
              "      <td>2017-01-10</td>\n",
              "      <td>200</td>\n",
              "      <td>NaN</td>\n",
              "      <td>cancel</td>\n",
              "    </tr>\n",
              "  </tbody>\n",
              "</table>\n",
              "</div>"
            ],
            "text/plain": [
              "    user_id  product_id       date  amount  address   result\n",
              "id                                                          \n",
              "1         3           9 2017-01-01     500    Seoul  confirm\n",
              "2         1           7 2017-01-03     700    Seoul  confirm\n",
              "3         3           8 2017-01-03     900  Daejeon  confirm\n",
              "4         4           2 2017-01-07     500      NaN   cancel\n",
              "5         7           3 2017-01-09     700  Incheon  confirm\n",
              "6         5           7 2017-01-09     600    Busan   cancel\n",
              "7         2           5 2017-01-10     200      NaN   cancel"
            ]
          },
          "metadata": {
            "tags": []
          },
          "execution_count": 39
        }
      ]
    },
    {
      "cell_type": "code",
      "metadata": {
        "id": "T2X8PZOX5q-N",
        "outputId": "79a79eb9-0186-4129-9eb4-cc9a1f912c85",
        "colab": {
          "base_uri": "https://localhost:8080/",
          "height": 266
        }
      },
      "source": [
        "## 행 삭제\n",
        "order = order.drop(3, axis=\"rows\")\n",
        "\n",
        "order"
      ],
      "execution_count": null,
      "outputs": [
        {
          "output_type": "execute_result",
          "data": {
            "text/html": [
              "<div>\n",
              "<style scoped>\n",
              "    .dataframe tbody tr th:only-of-type {\n",
              "        vertical-align: middle;\n",
              "    }\n",
              "\n",
              "    .dataframe tbody tr th {\n",
              "        vertical-align: top;\n",
              "    }\n",
              "\n",
              "    .dataframe thead th {\n",
              "        text-align: right;\n",
              "    }\n",
              "</style>\n",
              "<table border=\"1\" class=\"dataframe\">\n",
              "  <thead>\n",
              "    <tr style=\"text-align: right;\">\n",
              "      <th></th>\n",
              "      <th>user_id</th>\n",
              "      <th>product_id</th>\n",
              "      <th>date</th>\n",
              "      <th>amount</th>\n",
              "      <th>address</th>\n",
              "      <th>result</th>\n",
              "    </tr>\n",
              "    <tr>\n",
              "      <th>id</th>\n",
              "      <th></th>\n",
              "      <th></th>\n",
              "      <th></th>\n",
              "      <th></th>\n",
              "      <th></th>\n",
              "      <th></th>\n",
              "    </tr>\n",
              "  </thead>\n",
              "  <tbody>\n",
              "    <tr>\n",
              "      <th>1</th>\n",
              "      <td>3</td>\n",
              "      <td>9</td>\n",
              "      <td>2017-01-01</td>\n",
              "      <td>500</td>\n",
              "      <td>Seoul</td>\n",
              "      <td>confirm</td>\n",
              "    </tr>\n",
              "    <tr>\n",
              "      <th>2</th>\n",
              "      <td>1</td>\n",
              "      <td>7</td>\n",
              "      <td>2017-01-03</td>\n",
              "      <td>700</td>\n",
              "      <td>Seoul</td>\n",
              "      <td>confirm</td>\n",
              "    </tr>\n",
              "    <tr>\n",
              "      <th>4</th>\n",
              "      <td>4</td>\n",
              "      <td>2</td>\n",
              "      <td>2017-01-07</td>\n",
              "      <td>500</td>\n",
              "      <td>NaN</td>\n",
              "      <td>cancel</td>\n",
              "    </tr>\n",
              "    <tr>\n",
              "      <th>5</th>\n",
              "      <td>7</td>\n",
              "      <td>3</td>\n",
              "      <td>2017-01-09</td>\n",
              "      <td>700</td>\n",
              "      <td>Incheon</td>\n",
              "      <td>confirm</td>\n",
              "    </tr>\n",
              "    <tr>\n",
              "      <th>6</th>\n",
              "      <td>5</td>\n",
              "      <td>7</td>\n",
              "      <td>2017-01-09</td>\n",
              "      <td>600</td>\n",
              "      <td>Busan</td>\n",
              "      <td>cancel</td>\n",
              "    </tr>\n",
              "    <tr>\n",
              "      <th>7</th>\n",
              "      <td>2</td>\n",
              "      <td>5</td>\n",
              "      <td>2017-01-10</td>\n",
              "      <td>200</td>\n",
              "      <td>NaN</td>\n",
              "      <td>cancel</td>\n",
              "    </tr>\n",
              "  </tbody>\n",
              "</table>\n",
              "</div>"
            ],
            "text/plain": [
              "    user_id  product_id       date  amount  address   result\n",
              "id                                                          \n",
              "1         3           9 2017-01-01     500    Seoul  confirm\n",
              "2         1           7 2017-01-03     700    Seoul  confirm\n",
              "4         4           2 2017-01-07     500      NaN   cancel\n",
              "5         7           3 2017-01-09     700  Incheon  confirm\n",
              "6         5           7 2017-01-09     600    Busan   cancel\n",
              "7         2           5 2017-01-10     200      NaN   cancel"
            ]
          },
          "metadata": {
            "tags": []
          },
          "execution_count": 40
        }
      ]
    },
    {
      "cell_type": "markdown",
      "metadata": {
        "id": "exSNFb3N5yXB"
      },
      "source": [
        "## apply"
      ]
    },
    {
      "cell_type": "markdown",
      "metadata": {
        "id": "gh-SYmQ05-x9"
      },
      "source": [
        "* 미리 만들어 놓은 함수를 apply 파라미터로 전달하면, 해당 데이터프레임의 컬럼 내 데이터 각각에 for문처럼 적용된다.\n",
        "* Pandas 가 아닌 Python 문법으로 데이터 조작하려고 할 때 요긴하게 사용 가능하다."
      ]
    },
    {
      "cell_type": "code",
      "metadata": {
        "id": "FK1UUjvq5x3U",
        "outputId": "85999147-2256-480e-a3e4-a8f07f04ccfd",
        "colab": {
          "base_uri": "https://localhost:8080/",
          "height": 161
        }
      },
      "source": [
        "def is_vip(amount):\n",
        "  return amount * 100\n",
        "\n",
        "order[\"amount\"].apply(is_vip)"
      ],
      "execution_count": null,
      "outputs": [
        {
          "output_type": "execute_result",
          "data": {
            "text/plain": [
              "id\n",
              "1    50000\n",
              "2    70000\n",
              "4    50000\n",
              "5    70000\n",
              "6    60000\n",
              "7    20000\n",
              "Name: amount, dtype: int64"
            ]
          },
          "metadata": {
            "tags": []
          },
          "execution_count": 43
        }
      ]
    }
  ]
}