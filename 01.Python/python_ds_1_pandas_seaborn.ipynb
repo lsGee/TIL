{
  "nbformat": 4,
  "nbformat_minor": 0,
  "metadata": {
    "colab": {
      "name": "python_ds_1.ipynb",
      "provenance": [],
      "collapsed_sections": [
        "Zjb5t3RynkCz",
        "a63pnTJXd-0K",
        "--ppbXmD2A7G",
        "IsZgDXTc2FJj",
        "n18zc8zk4SCt",
        "Hv1WsWU94VG7",
        "ucvobOzLAhZv",
        "2HH5P8lcNYZW",
        "F8X5YbELSch_",
        "UQQ2-jOJWG8j",
        "TJD6H1Agd5UV",
        "NxkXbtK2kBuC",
        "IH54uBTdj0k8",
        "AA4H7qmAhirO",
        "a1lf8kuqj9q5",
        "0K6OYg15sCgK",
        "Tk81Ki8cr9jT",
        "Fr6oHQUkslVT",
        "-Mot7ysdGxGx",
        "qRUgtiEMsnVB",
        "Ppf_QCmLsXZa"
      ],
      "mount_file_id": "1DoNz_hGAnlIQLO62PgmQKAGg0yGHXKtj",
      "authorship_tag": "ABX9TyPC+fQaTvelQeg/CmVUoNew",
      "include_colab_link": true
    },
    "kernelspec": {
      "name": "python3",
      "display_name": "Python 3"
    }
  },
  "cells": [
    {
      "cell_type": "markdown",
      "metadata": {
        "id": "view-in-github",
        "colab_type": "text"
      },
      "source": [
        "<a href=\"https://colab.research.google.com/github/lsGee/TIL/blob/master/01.Python%20basic/python_ds_1_pandas_seaborn.ipynb\" target=\"_parent\"><img src=\"https://colab.research.google.com/assets/colab-badge.svg\" alt=\"Open In Colab\"/></a>"
      ]
    },
    {
      "cell_type": "markdown",
      "metadata": {
        "id": "Zjb5t3RynkCz",
        "colab_type": "text"
      },
      "source": [
        "# 1. Pandas 기본"
      ]
    },
    {
      "cell_type": "markdown",
      "metadata": {
        "id": "a63pnTJXd-0K",
        "colab_type": "text"
      },
      "source": [
        "## 데이터 불러오기"
      ]
    },
    {
      "cell_type": "code",
      "metadata": {
        "id": "oqtOwxtGyxmy",
        "colab_type": "code",
        "colab": {
          "base_uri": "https://localhost:8080/",
          "height": 235
        },
        "outputId": "2538e542-6386-4580-91f3-ac7d065207ec"
      },
      "source": [
        "import pandas as pd\n",
        "\n",
        "## url 통한 csv 파일도 불러올 수 있다!\n",
        "file_url = \"https://bit.ly/ds01-weight-history\"\n",
        "\n",
        "# data = pd.read_csv(file_url)\n",
        "data = pd.read_csv(file_url, index_col=\"회차\")\n",
        "\n",
        "data.head()"
      ],
      "execution_count": null,
      "outputs": [
        {
          "output_type": "execute_result",
          "data": {
            "text/html": [
              "<div>\n",
              "<style scoped>\n",
              "    .dataframe tbody tr th:only-of-type {\n",
              "        vertical-align: middle;\n",
              "    }\n",
              "\n",
              "    .dataframe tbody tr th {\n",
              "        vertical-align: top;\n",
              "    }\n",
              "\n",
              "    .dataframe thead th {\n",
              "        text-align: right;\n",
              "    }\n",
              "</style>\n",
              "<table border=\"1\" class=\"dataframe\">\n",
              "  <thead>\n",
              "    <tr style=\"text-align: right;\">\n",
              "      <th></th>\n",
              "      <th>이름</th>\n",
              "      <th>측정일</th>\n",
              "      <th>몸무게</th>\n",
              "      <th>단위</th>\n",
              "      <th>담당</th>\n",
              "      <th>지점</th>\n",
              "    </tr>\n",
              "    <tr>\n",
              "      <th>회차</th>\n",
              "      <th></th>\n",
              "      <th></th>\n",
              "      <th></th>\n",
              "      <th></th>\n",
              "      <th></th>\n",
              "      <th></th>\n",
              "    </tr>\n",
              "  </thead>\n",
              "  <tbody>\n",
              "    <tr>\n",
              "      <th>1</th>\n",
              "      <td>강성희</td>\n",
              "      <td>2019-01-01</td>\n",
              "      <td>76.4</td>\n",
              "      <td>kg</td>\n",
              "      <td>김지수</td>\n",
              "      <td>강남</td>\n",
              "    </tr>\n",
              "    <tr>\n",
              "      <th>2</th>\n",
              "      <td>강성희</td>\n",
              "      <td>2019-01-02</td>\n",
              "      <td>75.7</td>\n",
              "      <td>kg</td>\n",
              "      <td>김지수</td>\n",
              "      <td>강남</td>\n",
              "    </tr>\n",
              "    <tr>\n",
              "      <th>3</th>\n",
              "      <td>강성희</td>\n",
              "      <td>2019-01-03</td>\n",
              "      <td>76.0</td>\n",
              "      <td>kg</td>\n",
              "      <td>김지수</td>\n",
              "      <td>강남</td>\n",
              "    </tr>\n",
              "    <tr>\n",
              "      <th>4</th>\n",
              "      <td>강성희</td>\n",
              "      <td>2019-01-04</td>\n",
              "      <td>NaN</td>\n",
              "      <td>kg</td>\n",
              "      <td>최재우</td>\n",
              "      <td>여의도</td>\n",
              "    </tr>\n",
              "    <tr>\n",
              "      <th>5</th>\n",
              "      <td>강성희</td>\n",
              "      <td>2019-01-05</td>\n",
              "      <td>76.2</td>\n",
              "      <td>kg</td>\n",
              "      <td>김지수</td>\n",
              "      <td>강남구</td>\n",
              "    </tr>\n",
              "  </tbody>\n",
              "</table>\n",
              "</div>"
            ],
            "text/plain": [
              "     이름         측정일   몸무게  단위   담당   지점\n",
              "회차                                     \n",
              "1   강성희  2019-01-01  76.4  kg  김지수   강남\n",
              "2   강성희  2019-01-02  75.7  kg  김지수   강남\n",
              "3   강성희  2019-01-03  76.0  kg  김지수   강남\n",
              "4   강성희  2019-01-04   NaN  kg  최재우  여의도\n",
              "5   강성희  2019-01-05  76.2  kg  김지수  강남구"
            ]
          },
          "metadata": {
            "tags": []
          },
          "execution_count": 3
        }
      ]
    },
    {
      "cell_type": "markdown",
      "metadata": {
        "id": "--ppbXmD2A7G",
        "colab_type": "text"
      },
      "source": [
        "## 데이터 탐색"
      ]
    },
    {
      "cell_type": "code",
      "metadata": {
        "id": "Db5nXPa5SDdD",
        "colab_type": "code",
        "colab": {
          "base_uri": "https://localhost:8080/",
          "height": 71
        },
        "outputId": "458ec427-9f0e-4dca-8d82-9d9c8d292bae"
      },
      "source": [
        "## 아래 3개는 메서드 아닌 멤버변수!\n",
        "print(data.index)\n",
        "print(data.columns)\n",
        "print(data.shape)"
      ],
      "execution_count": null,
      "outputs": [
        {
          "output_type": "stream",
          "text": [
            "Int64Index([1, 2, 3, 4, 5, 6, 7, 8, 9], dtype='int64', name='회차')\n",
            "Index(['이름', '측정일', '몸무게', '단위', '담당', '지점'], dtype='object')\n",
            "(9, 6)\n"
          ],
          "name": "stdout"
        }
      ]
    },
    {
      "cell_type": "code",
      "metadata": {
        "id": "-X9qJCbcSFfE",
        "colab_type": "code",
        "colab": {
          "base_uri": "https://localhost:8080/",
          "height": 297
        },
        "outputId": "d4caa517-3208-4a09-cda6-3498ffca0195"
      },
      "source": [
        "## 기초통계량 조회 (수치형 데이터 대상)\n",
        "data.describe()\n",
        "  # data[\"몸무게\"].describe()"
      ],
      "execution_count": null,
      "outputs": [
        {
          "output_type": "execute_result",
          "data": {
            "text/html": [
              "<div>\n",
              "<style scoped>\n",
              "    .dataframe tbody tr th:only-of-type {\n",
              "        vertical-align: middle;\n",
              "    }\n",
              "\n",
              "    .dataframe tbody tr th {\n",
              "        vertical-align: top;\n",
              "    }\n",
              "\n",
              "    .dataframe thead th {\n",
              "        text-align: right;\n",
              "    }\n",
              "</style>\n",
              "<table border=\"1\" class=\"dataframe\">\n",
              "  <thead>\n",
              "    <tr style=\"text-align: right;\">\n",
              "      <th></th>\n",
              "      <th>몸무게</th>\n",
              "    </tr>\n",
              "  </thead>\n",
              "  <tbody>\n",
              "    <tr>\n",
              "      <th>count</th>\n",
              "      <td>6.000000</td>\n",
              "    </tr>\n",
              "    <tr>\n",
              "      <th>mean</th>\n",
              "      <td>75.833333</td>\n",
              "    </tr>\n",
              "    <tr>\n",
              "      <th>std</th>\n",
              "      <td>0.492612</td>\n",
              "    </tr>\n",
              "    <tr>\n",
              "      <th>min</th>\n",
              "      <td>75.000000</td>\n",
              "    </tr>\n",
              "    <tr>\n",
              "      <th>25%</th>\n",
              "      <td>75.700000</td>\n",
              "    </tr>\n",
              "    <tr>\n",
              "      <th>50%</th>\n",
              "      <td>75.850000</td>\n",
              "    </tr>\n",
              "    <tr>\n",
              "      <th>75%</th>\n",
              "      <td>76.150000</td>\n",
              "    </tr>\n",
              "    <tr>\n",
              "      <th>max</th>\n",
              "      <td>76.400000</td>\n",
              "    </tr>\n",
              "  </tbody>\n",
              "</table>\n",
              "</div>"
            ],
            "text/plain": [
              "             몸무게\n",
              "count   6.000000\n",
              "mean   75.833333\n",
              "std     0.492612\n",
              "min    75.000000\n",
              "25%    75.700000\n",
              "50%    75.850000\n",
              "75%    76.150000\n",
              "max    76.400000"
            ]
          },
          "metadata": {
            "tags": []
          },
          "execution_count": 5
        }
      ]
    },
    {
      "cell_type": "code",
      "metadata": {
        "id": "YJn3p94vU8Tf",
        "colab_type": "code",
        "colab": {
          "base_uri": "https://localhost:8080/",
          "height": 359
        },
        "outputId": "f6fc5280-68d0-4dec-fe24-0e921852b4fb"
      },
      "source": [
        "data[\"지점\"] = data[\"지점\"].replace(\"강남구\", \"강남\")\n",
        "data"
      ],
      "execution_count": null,
      "outputs": [
        {
          "output_type": "execute_result",
          "data": {
            "text/html": [
              "<div>\n",
              "<style scoped>\n",
              "    .dataframe tbody tr th:only-of-type {\n",
              "        vertical-align: middle;\n",
              "    }\n",
              "\n",
              "    .dataframe tbody tr th {\n",
              "        vertical-align: top;\n",
              "    }\n",
              "\n",
              "    .dataframe thead th {\n",
              "        text-align: right;\n",
              "    }\n",
              "</style>\n",
              "<table border=\"1\" class=\"dataframe\">\n",
              "  <thead>\n",
              "    <tr style=\"text-align: right;\">\n",
              "      <th></th>\n",
              "      <th>이름</th>\n",
              "      <th>측정일</th>\n",
              "      <th>몸무게</th>\n",
              "      <th>단위</th>\n",
              "      <th>담당</th>\n",
              "      <th>지점</th>\n",
              "    </tr>\n",
              "    <tr>\n",
              "      <th>회차</th>\n",
              "      <th></th>\n",
              "      <th></th>\n",
              "      <th></th>\n",
              "      <th></th>\n",
              "      <th></th>\n",
              "      <th></th>\n",
              "    </tr>\n",
              "  </thead>\n",
              "  <tbody>\n",
              "    <tr>\n",
              "      <th>1</th>\n",
              "      <td>강성희</td>\n",
              "      <td>2019-01-01</td>\n",
              "      <td>76.4</td>\n",
              "      <td>kg</td>\n",
              "      <td>김지수</td>\n",
              "      <td>강남</td>\n",
              "    </tr>\n",
              "    <tr>\n",
              "      <th>2</th>\n",
              "      <td>강성희</td>\n",
              "      <td>2019-01-02</td>\n",
              "      <td>75.7</td>\n",
              "      <td>kg</td>\n",
              "      <td>김지수</td>\n",
              "      <td>강남</td>\n",
              "    </tr>\n",
              "    <tr>\n",
              "      <th>3</th>\n",
              "      <td>강성희</td>\n",
              "      <td>2019-01-03</td>\n",
              "      <td>76.0</td>\n",
              "      <td>kg</td>\n",
              "      <td>김지수</td>\n",
              "      <td>강남</td>\n",
              "    </tr>\n",
              "    <tr>\n",
              "      <th>4</th>\n",
              "      <td>강성희</td>\n",
              "      <td>2019-01-04</td>\n",
              "      <td>NaN</td>\n",
              "      <td>kg</td>\n",
              "      <td>최재우</td>\n",
              "      <td>여의도</td>\n",
              "    </tr>\n",
              "    <tr>\n",
              "      <th>5</th>\n",
              "      <td>강성희</td>\n",
              "      <td>2019-01-05</td>\n",
              "      <td>76.2</td>\n",
              "      <td>kg</td>\n",
              "      <td>김지수</td>\n",
              "      <td>강남</td>\n",
              "    </tr>\n",
              "    <tr>\n",
              "      <th>6</th>\n",
              "      <td>강성희</td>\n",
              "      <td>2019-01-06</td>\n",
              "      <td>75.7</td>\n",
              "      <td>kg</td>\n",
              "      <td>최재우</td>\n",
              "      <td>여의도</td>\n",
              "    </tr>\n",
              "    <tr>\n",
              "      <th>7</th>\n",
              "      <td>강성희</td>\n",
              "      <td>2019-01-07</td>\n",
              "      <td>NaN</td>\n",
              "      <td>kg</td>\n",
              "      <td>최재우</td>\n",
              "      <td>여의도</td>\n",
              "    </tr>\n",
              "    <tr>\n",
              "      <th>8</th>\n",
              "      <td>강성희</td>\n",
              "      <td>2019-01-08</td>\n",
              "      <td>NaN</td>\n",
              "      <td>kg</td>\n",
              "      <td>김민철</td>\n",
              "      <td>여의도</td>\n",
              "    </tr>\n",
              "    <tr>\n",
              "      <th>9</th>\n",
              "      <td>강성희</td>\n",
              "      <td>2019-01-09</td>\n",
              "      <td>75.0</td>\n",
              "      <td>kg</td>\n",
              "      <td>김민철</td>\n",
              "      <td>여의도</td>\n",
              "    </tr>\n",
              "  </tbody>\n",
              "</table>\n",
              "</div>"
            ],
            "text/plain": [
              "     이름         측정일   몸무게  단위   담당   지점\n",
              "회차                                     \n",
              "1   강성희  2019-01-01  76.4  kg  김지수   강남\n",
              "2   강성희  2019-01-02  75.7  kg  김지수   강남\n",
              "3   강성희  2019-01-03  76.0  kg  김지수   강남\n",
              "4   강성희  2019-01-04   NaN  kg  최재우  여의도\n",
              "5   강성희  2019-01-05  76.2  kg  김지수   강남\n",
              "6   강성희  2019-01-06  75.7  kg  최재우  여의도\n",
              "7   강성희  2019-01-07   NaN  kg  최재우  여의도\n",
              "8   강성희  2019-01-08   NaN  kg  김민철  여의도\n",
              "9   강성희  2019-01-09  75.0  kg  김민철  여의도"
            ]
          },
          "metadata": {
            "tags": []
          },
          "execution_count": 6
        }
      ]
    },
    {
      "cell_type": "code",
      "metadata": {
        "id": "H4d9iLh4WOqo",
        "colab_type": "code",
        "colab": {
          "base_uri": "https://localhost:8080/",
          "height": 359
        },
        "outputId": "39880131-9338-4253-c7ec-dca8ea9295d4"
      },
      "source": [
        "data[\"몸무게\"] = data[\"몸무게\"].fillna(75.5)\n",
        "data"
      ],
      "execution_count": null,
      "outputs": [
        {
          "output_type": "execute_result",
          "data": {
            "text/html": [
              "<div>\n",
              "<style scoped>\n",
              "    .dataframe tbody tr th:only-of-type {\n",
              "        vertical-align: middle;\n",
              "    }\n",
              "\n",
              "    .dataframe tbody tr th {\n",
              "        vertical-align: top;\n",
              "    }\n",
              "\n",
              "    .dataframe thead th {\n",
              "        text-align: right;\n",
              "    }\n",
              "</style>\n",
              "<table border=\"1\" class=\"dataframe\">\n",
              "  <thead>\n",
              "    <tr style=\"text-align: right;\">\n",
              "      <th></th>\n",
              "      <th>이름</th>\n",
              "      <th>측정일</th>\n",
              "      <th>몸무게</th>\n",
              "      <th>단위</th>\n",
              "      <th>담당</th>\n",
              "      <th>지점</th>\n",
              "    </tr>\n",
              "    <tr>\n",
              "      <th>회차</th>\n",
              "      <th></th>\n",
              "      <th></th>\n",
              "      <th></th>\n",
              "      <th></th>\n",
              "      <th></th>\n",
              "      <th></th>\n",
              "    </tr>\n",
              "  </thead>\n",
              "  <tbody>\n",
              "    <tr>\n",
              "      <th>1</th>\n",
              "      <td>강성희</td>\n",
              "      <td>2019-01-01</td>\n",
              "      <td>76.4</td>\n",
              "      <td>kg</td>\n",
              "      <td>김지수</td>\n",
              "      <td>강남</td>\n",
              "    </tr>\n",
              "    <tr>\n",
              "      <th>2</th>\n",
              "      <td>강성희</td>\n",
              "      <td>2019-01-02</td>\n",
              "      <td>75.7</td>\n",
              "      <td>kg</td>\n",
              "      <td>김지수</td>\n",
              "      <td>강남</td>\n",
              "    </tr>\n",
              "    <tr>\n",
              "      <th>3</th>\n",
              "      <td>강성희</td>\n",
              "      <td>2019-01-03</td>\n",
              "      <td>76.0</td>\n",
              "      <td>kg</td>\n",
              "      <td>김지수</td>\n",
              "      <td>강남</td>\n",
              "    </tr>\n",
              "    <tr>\n",
              "      <th>4</th>\n",
              "      <td>강성희</td>\n",
              "      <td>2019-01-04</td>\n",
              "      <td>75.5</td>\n",
              "      <td>kg</td>\n",
              "      <td>최재우</td>\n",
              "      <td>여의도</td>\n",
              "    </tr>\n",
              "    <tr>\n",
              "      <th>5</th>\n",
              "      <td>강성희</td>\n",
              "      <td>2019-01-05</td>\n",
              "      <td>76.2</td>\n",
              "      <td>kg</td>\n",
              "      <td>김지수</td>\n",
              "      <td>강남</td>\n",
              "    </tr>\n",
              "    <tr>\n",
              "      <th>6</th>\n",
              "      <td>강성희</td>\n",
              "      <td>2019-01-06</td>\n",
              "      <td>75.7</td>\n",
              "      <td>kg</td>\n",
              "      <td>최재우</td>\n",
              "      <td>여의도</td>\n",
              "    </tr>\n",
              "    <tr>\n",
              "      <th>7</th>\n",
              "      <td>강성희</td>\n",
              "      <td>2019-01-07</td>\n",
              "      <td>75.5</td>\n",
              "      <td>kg</td>\n",
              "      <td>최재우</td>\n",
              "      <td>여의도</td>\n",
              "    </tr>\n",
              "    <tr>\n",
              "      <th>8</th>\n",
              "      <td>강성희</td>\n",
              "      <td>2019-01-08</td>\n",
              "      <td>75.5</td>\n",
              "      <td>kg</td>\n",
              "      <td>김민철</td>\n",
              "      <td>여의도</td>\n",
              "    </tr>\n",
              "    <tr>\n",
              "      <th>9</th>\n",
              "      <td>강성희</td>\n",
              "      <td>2019-01-09</td>\n",
              "      <td>75.0</td>\n",
              "      <td>kg</td>\n",
              "      <td>김민철</td>\n",
              "      <td>여의도</td>\n",
              "    </tr>\n",
              "  </tbody>\n",
              "</table>\n",
              "</div>"
            ],
            "text/plain": [
              "     이름         측정일   몸무게  단위   담당   지점\n",
              "회차                                     \n",
              "1   강성희  2019-01-01  76.4  kg  김지수   강남\n",
              "2   강성희  2019-01-02  75.7  kg  김지수   강남\n",
              "3   강성희  2019-01-03  76.0  kg  김지수   강남\n",
              "4   강성희  2019-01-04  75.5  kg  최재우  여의도\n",
              "5   강성희  2019-01-05  76.2  kg  김지수   강남\n",
              "6   강성희  2019-01-06  75.7  kg  최재우  여의도\n",
              "7   강성희  2019-01-07  75.5  kg  최재우  여의도\n",
              "8   강성희  2019-01-08  75.5  kg  김민철  여의도\n",
              "9   강성희  2019-01-09  75.0  kg  김민철  여의도"
            ]
          },
          "metadata": {
            "tags": []
          },
          "execution_count": 7
        }
      ]
    },
    {
      "cell_type": "code",
      "metadata": {
        "id": "Dygi-zQaXCr8",
        "colab_type": "code",
        "colab": {
          "base_uri": "https://localhost:8080/",
          "height": 235
        },
        "outputId": "afb07589-9716-4021-8b62-bf33a171eb47"
      },
      "source": [
        "## 시계열 데이터에서 요긴하게 쓰임!\n",
        "data[\"몸무게(prev)\"] = data[\"몸무게\"].shift(+1)\n",
        "data[\"몸무게(next)\"] = data[\"몸무게\"].shift(-1)\n",
        "data.head()"
      ],
      "execution_count": null,
      "outputs": [
        {
          "output_type": "execute_result",
          "data": {
            "text/html": [
              "<div>\n",
              "<style scoped>\n",
              "    .dataframe tbody tr th:only-of-type {\n",
              "        vertical-align: middle;\n",
              "    }\n",
              "\n",
              "    .dataframe tbody tr th {\n",
              "        vertical-align: top;\n",
              "    }\n",
              "\n",
              "    .dataframe thead th {\n",
              "        text-align: right;\n",
              "    }\n",
              "</style>\n",
              "<table border=\"1\" class=\"dataframe\">\n",
              "  <thead>\n",
              "    <tr style=\"text-align: right;\">\n",
              "      <th></th>\n",
              "      <th>이름</th>\n",
              "      <th>측정일</th>\n",
              "      <th>몸무게</th>\n",
              "      <th>단위</th>\n",
              "      <th>담당</th>\n",
              "      <th>지점</th>\n",
              "      <th>몸무게(prev)</th>\n",
              "      <th>몸무게(next)</th>\n",
              "    </tr>\n",
              "    <tr>\n",
              "      <th>회차</th>\n",
              "      <th></th>\n",
              "      <th></th>\n",
              "      <th></th>\n",
              "      <th></th>\n",
              "      <th></th>\n",
              "      <th></th>\n",
              "      <th></th>\n",
              "      <th></th>\n",
              "    </tr>\n",
              "  </thead>\n",
              "  <tbody>\n",
              "    <tr>\n",
              "      <th>1</th>\n",
              "      <td>강성희</td>\n",
              "      <td>2019-01-01</td>\n",
              "      <td>76.4</td>\n",
              "      <td>kg</td>\n",
              "      <td>김지수</td>\n",
              "      <td>강남</td>\n",
              "      <td>NaN</td>\n",
              "      <td>75.7</td>\n",
              "    </tr>\n",
              "    <tr>\n",
              "      <th>2</th>\n",
              "      <td>강성희</td>\n",
              "      <td>2019-01-02</td>\n",
              "      <td>75.7</td>\n",
              "      <td>kg</td>\n",
              "      <td>김지수</td>\n",
              "      <td>강남</td>\n",
              "      <td>76.4</td>\n",
              "      <td>76.0</td>\n",
              "    </tr>\n",
              "    <tr>\n",
              "      <th>3</th>\n",
              "      <td>강성희</td>\n",
              "      <td>2019-01-03</td>\n",
              "      <td>76.0</td>\n",
              "      <td>kg</td>\n",
              "      <td>김지수</td>\n",
              "      <td>강남</td>\n",
              "      <td>75.7</td>\n",
              "      <td>75.5</td>\n",
              "    </tr>\n",
              "    <tr>\n",
              "      <th>4</th>\n",
              "      <td>강성희</td>\n",
              "      <td>2019-01-04</td>\n",
              "      <td>75.5</td>\n",
              "      <td>kg</td>\n",
              "      <td>최재우</td>\n",
              "      <td>여의도</td>\n",
              "      <td>76.0</td>\n",
              "      <td>76.2</td>\n",
              "    </tr>\n",
              "    <tr>\n",
              "      <th>5</th>\n",
              "      <td>강성희</td>\n",
              "      <td>2019-01-05</td>\n",
              "      <td>76.2</td>\n",
              "      <td>kg</td>\n",
              "      <td>김지수</td>\n",
              "      <td>강남</td>\n",
              "      <td>75.5</td>\n",
              "      <td>75.7</td>\n",
              "    </tr>\n",
              "  </tbody>\n",
              "</table>\n",
              "</div>"
            ],
            "text/plain": [
              "     이름         측정일   몸무게  단위   담당   지점  몸무게(prev)  몸무게(next)\n",
              "회차                                                           \n",
              "1   강성희  2019-01-01  76.4  kg  김지수   강남        NaN       75.7\n",
              "2   강성희  2019-01-02  75.7  kg  김지수   강남       76.4       76.0\n",
              "3   강성희  2019-01-03  76.0  kg  김지수   강남       75.7       75.5\n",
              "4   강성희  2019-01-04  75.5  kg  최재우  여의도       76.0       76.2\n",
              "5   강성희  2019-01-05  76.2  kg  김지수   강남       75.5       75.7"
            ]
          },
          "metadata": {
            "tags": []
          },
          "execution_count": 8
        }
      ]
    },
    {
      "cell_type": "code",
      "metadata": {
        "id": "ombDbsM3YPOj",
        "colab_type": "code",
        "colab": {
          "base_uri": "https://localhost:8080/",
          "height": 215
        },
        "outputId": "65bb1e96-ee10-4559-ac55-9145cbd35523"
      },
      "source": [
        "data['측정일']\n",
        "## dtype이 object = string"
      ],
      "execution_count": null,
      "outputs": [
        {
          "output_type": "execute_result",
          "data": {
            "text/plain": [
              "회차\n",
              "1    2019-01-01\n",
              "2    2019-01-02\n",
              "3    2019-01-03\n",
              "4    2019-01-04\n",
              "5    2019-01-05\n",
              "6    2019-01-06\n",
              "7    2019-01-07\n",
              "8    2019-01-08\n",
              "9    2019-01-09\n",
              "Name: 측정일, dtype: object"
            ]
          },
          "metadata": {
            "tags": []
          },
          "execution_count": 9
        }
      ]
    },
    {
      "cell_type": "code",
      "metadata": {
        "id": "j95hE-bYYoxh",
        "colab_type": "code",
        "colab": {
          "base_uri": "https://localhost:8080/",
          "height": 215
        },
        "outputId": "cf63265c-1537-4384-ee2d-6e4af08d4114"
      },
      "source": [
        "## dtype: object -> datetime\n",
        "data['측정일'] = pd.to_datetime(data['측정일'])\n",
        "data['측정일']"
      ],
      "execution_count": null,
      "outputs": [
        {
          "output_type": "execute_result",
          "data": {
            "text/plain": [
              "회차\n",
              "1   2019-01-01\n",
              "2   2019-01-02\n",
              "3   2019-01-03\n",
              "4   2019-01-04\n",
              "5   2019-01-05\n",
              "6   2019-01-06\n",
              "7   2019-01-07\n",
              "8   2019-01-08\n",
              "9   2019-01-09\n",
              "Name: 측정일, dtype: datetime64[ns]"
            ]
          },
          "metadata": {
            "tags": []
          },
          "execution_count": 10
        }
      ]
    },
    {
      "cell_type": "code",
      "metadata": {
        "id": "nGDR4RfhZQto",
        "colab_type": "code",
        "colab": {
          "base_uri": "https://localhost:8080/",
          "height": 611
        },
        "outputId": "eb35e95f-8526-4459-ab28-2f4838bf88cf"
      },
      "source": [
        "print(data['측정일'].dt.year)\n",
        "print(data[\"측정일\"].dt.month)\n",
        "print(data['측정일'].dt.day)"
      ],
      "execution_count": null,
      "outputs": [
        {
          "output_type": "stream",
          "text": [
            "회차\n",
            "1    2019\n",
            "2    2019\n",
            "3    2019\n",
            "4    2019\n",
            "5    2019\n",
            "6    2019\n",
            "7    2019\n",
            "8    2019\n",
            "9    2019\n",
            "Name: 측정일, dtype: int64\n",
            "회차\n",
            "1    1\n",
            "2    1\n",
            "3    1\n",
            "4    1\n",
            "5    1\n",
            "6    1\n",
            "7    1\n",
            "8    1\n",
            "9    1\n",
            "Name: 측정일, dtype: int64\n",
            "회차\n",
            "1    1\n",
            "2    2\n",
            "3    3\n",
            "4    4\n",
            "5    5\n",
            "6    6\n",
            "7    7\n",
            "8    8\n",
            "9    9\n",
            "Name: 측정일, dtype: int64\n"
          ],
          "name": "stdout"
        }
      ]
    },
    {
      "cell_type": "markdown",
      "metadata": {
        "id": "IsZgDXTc2FJj",
        "colab_type": "text"
      },
      "source": [
        "## 행렬검색"
      ]
    },
    {
      "cell_type": "markdown",
      "metadata": {
        "id": "n18zc8zk4SCt",
        "colab_type": "text"
      },
      "source": [
        "### Column 조회"
      ]
    },
    {
      "cell_type": "code",
      "metadata": {
        "id": "rB3o_Dao2RYL",
        "colab_type": "code",
        "colab": {
          "base_uri": "https://localhost:8080/",
          "height": 235
        },
        "outputId": "ce47285d-2d88-4175-ad0c-1ea0bfef0bcb"
      },
      "source": [
        "## 2개 이상 컬럼 조회 시 리스트로 묶어줘야 함\n",
        "data[[\"이름\", \"몸무게\", \"측정일\"]].head()"
      ],
      "execution_count": null,
      "outputs": [
        {
          "output_type": "execute_result",
          "data": {
            "text/html": [
              "<div>\n",
              "<style scoped>\n",
              "    .dataframe tbody tr th:only-of-type {\n",
              "        vertical-align: middle;\n",
              "    }\n",
              "\n",
              "    .dataframe tbody tr th {\n",
              "        vertical-align: top;\n",
              "    }\n",
              "\n",
              "    .dataframe thead th {\n",
              "        text-align: right;\n",
              "    }\n",
              "</style>\n",
              "<table border=\"1\" class=\"dataframe\">\n",
              "  <thead>\n",
              "    <tr style=\"text-align: right;\">\n",
              "      <th></th>\n",
              "      <th>이름</th>\n",
              "      <th>몸무게</th>\n",
              "      <th>측정일</th>\n",
              "    </tr>\n",
              "    <tr>\n",
              "      <th>회차</th>\n",
              "      <th></th>\n",
              "      <th></th>\n",
              "      <th></th>\n",
              "    </tr>\n",
              "  </thead>\n",
              "  <tbody>\n",
              "    <tr>\n",
              "      <th>1</th>\n",
              "      <td>강성희</td>\n",
              "      <td>76.4</td>\n",
              "      <td>2019-01-01</td>\n",
              "    </tr>\n",
              "    <tr>\n",
              "      <th>2</th>\n",
              "      <td>강성희</td>\n",
              "      <td>75.7</td>\n",
              "      <td>2019-01-02</td>\n",
              "    </tr>\n",
              "    <tr>\n",
              "      <th>3</th>\n",
              "      <td>강성희</td>\n",
              "      <td>76.0</td>\n",
              "      <td>2019-01-03</td>\n",
              "    </tr>\n",
              "    <tr>\n",
              "      <th>4</th>\n",
              "      <td>강성희</td>\n",
              "      <td>75.5</td>\n",
              "      <td>2019-01-04</td>\n",
              "    </tr>\n",
              "    <tr>\n",
              "      <th>5</th>\n",
              "      <td>강성희</td>\n",
              "      <td>76.2</td>\n",
              "      <td>2019-01-05</td>\n",
              "    </tr>\n",
              "  </tbody>\n",
              "</table>\n",
              "</div>"
            ],
            "text/plain": [
              "     이름   몸무게        측정일\n",
              "회차                      \n",
              "1   강성희  76.4 2019-01-01\n",
              "2   강성희  75.7 2019-01-02\n",
              "3   강성희  76.0 2019-01-03\n",
              "4   강성희  75.5 2019-01-04\n",
              "5   강성희  76.2 2019-01-05"
            ]
          },
          "metadata": {
            "tags": []
          },
          "execution_count": 12
        }
      ]
    },
    {
      "cell_type": "code",
      "metadata": {
        "id": "hUH-8lbr37qG",
        "colab_type": "code",
        "colab": {
          "base_uri": "https://localhost:8080/",
          "height": 53
        },
        "outputId": "16cb19cf-d98b-415c-b759-04841a462494"
      },
      "source": [
        "## 참고: 1개 컬럼 조회에서 대괄호 1개, 2개일 때 데이터 타입은..\n",
        "print(type(data[\"몸무게\"]))\n",
        "print(type(data[[\"몸무게\"]]))"
      ],
      "execution_count": null,
      "outputs": [
        {
          "output_type": "stream",
          "text": [
            "<class 'pandas.core.series.Series'>\n",
            "<class 'pandas.core.frame.DataFrame'>\n"
          ],
          "name": "stdout"
        }
      ]
    },
    {
      "cell_type": "code",
      "metadata": {
        "id": "H-S5yShs4CN9",
        "colab_type": "code",
        "colab": {
          "base_uri": "https://localhost:8080/",
          "height": 35
        },
        "outputId": "8c2af1ff-84b4-4659-8099-35c419fd7afb"
      },
      "source": [
        "## 인덱스 조회\n",
        "data.index"
      ],
      "execution_count": null,
      "outputs": [
        {
          "output_type": "execute_result",
          "data": {
            "text/plain": [
              "Int64Index([1, 2, 3, 4, 5, 6, 7, 8, 9], dtype='int64', name='회차')"
            ]
          },
          "metadata": {
            "tags": []
          },
          "execution_count": 14
        }
      ]
    },
    {
      "cell_type": "markdown",
      "metadata": {
        "id": "Hv1WsWU94VG7",
        "colab_type": "text"
      },
      "source": [
        "### Row 조회"
      ]
    },
    {
      "cell_type": "code",
      "metadata": {
        "id": "WABx91kw4KhV",
        "colab_type": "code",
        "colab": {
          "base_uri": "https://localhost:8080/",
          "height": 179
        },
        "outputId": "59df8f86-b82a-41fa-9682-016fe8e54d0c"
      },
      "source": [
        "## index 값으로 가져오기\n",
        "## loc == locate\n",
        "data.loc[1]"
      ],
      "execution_count": null,
      "outputs": [
        {
          "output_type": "execute_result",
          "data": {
            "text/plain": [
              "이름                           강성희\n",
              "측정일          2019-01-01 00:00:00\n",
              "몸무게                         76.4\n",
              "단위                            kg\n",
              "담당                           김지수\n",
              "지점                            강남\n",
              "몸무게(prev)                    NaN\n",
              "몸무게(next)                   75.7\n",
              "Name: 1, dtype: object"
            ]
          },
          "metadata": {
            "tags": []
          },
          "execution_count": 15
        }
      ]
    },
    {
      "cell_type": "code",
      "metadata": {
        "id": "Vq1ixMt45NS7",
        "colab_type": "code",
        "colab": {
          "base_uri": "https://localhost:8080/",
          "height": 173
        },
        "outputId": "ba6ae201-69ce-4d23-b342-7831931ee27d"
      },
      "source": [
        "data.loc[[1,3,5]]"
      ],
      "execution_count": null,
      "outputs": [
        {
          "output_type": "execute_result",
          "data": {
            "text/html": [
              "<div>\n",
              "<style scoped>\n",
              "    .dataframe tbody tr th:only-of-type {\n",
              "        vertical-align: middle;\n",
              "    }\n",
              "\n",
              "    .dataframe tbody tr th {\n",
              "        vertical-align: top;\n",
              "    }\n",
              "\n",
              "    .dataframe thead th {\n",
              "        text-align: right;\n",
              "    }\n",
              "</style>\n",
              "<table border=\"1\" class=\"dataframe\">\n",
              "  <thead>\n",
              "    <tr style=\"text-align: right;\">\n",
              "      <th></th>\n",
              "      <th>이름</th>\n",
              "      <th>측정일</th>\n",
              "      <th>몸무게</th>\n",
              "      <th>단위</th>\n",
              "      <th>담당</th>\n",
              "      <th>지점</th>\n",
              "      <th>몸무게(prev)</th>\n",
              "      <th>몸무게(next)</th>\n",
              "    </tr>\n",
              "    <tr>\n",
              "      <th>회차</th>\n",
              "      <th></th>\n",
              "      <th></th>\n",
              "      <th></th>\n",
              "      <th></th>\n",
              "      <th></th>\n",
              "      <th></th>\n",
              "      <th></th>\n",
              "      <th></th>\n",
              "    </tr>\n",
              "  </thead>\n",
              "  <tbody>\n",
              "    <tr>\n",
              "      <th>1</th>\n",
              "      <td>강성희</td>\n",
              "      <td>2019-01-01</td>\n",
              "      <td>76.4</td>\n",
              "      <td>kg</td>\n",
              "      <td>김지수</td>\n",
              "      <td>강남</td>\n",
              "      <td>NaN</td>\n",
              "      <td>75.7</td>\n",
              "    </tr>\n",
              "    <tr>\n",
              "      <th>3</th>\n",
              "      <td>강성희</td>\n",
              "      <td>2019-01-03</td>\n",
              "      <td>76.0</td>\n",
              "      <td>kg</td>\n",
              "      <td>김지수</td>\n",
              "      <td>강남</td>\n",
              "      <td>75.7</td>\n",
              "      <td>75.5</td>\n",
              "    </tr>\n",
              "    <tr>\n",
              "      <th>5</th>\n",
              "      <td>강성희</td>\n",
              "      <td>2019-01-05</td>\n",
              "      <td>76.2</td>\n",
              "      <td>kg</td>\n",
              "      <td>김지수</td>\n",
              "      <td>강남</td>\n",
              "      <td>75.5</td>\n",
              "      <td>75.7</td>\n",
              "    </tr>\n",
              "  </tbody>\n",
              "</table>\n",
              "</div>"
            ],
            "text/plain": [
              "     이름        측정일   몸무게  단위   담당  지점  몸무게(prev)  몸무게(next)\n",
              "회차                                                         \n",
              "1   강성희 2019-01-01  76.4  kg  김지수  강남        NaN       75.7\n",
              "3   강성희 2019-01-03  76.0  kg  김지수  강남       75.7       75.5\n",
              "5   강성희 2019-01-05  76.2  kg  김지수  강남       75.5       75.7"
            ]
          },
          "metadata": {
            "tags": []
          },
          "execution_count": 16
        }
      ]
    },
    {
      "cell_type": "code",
      "metadata": {
        "id": "VBsvN5SE7M1e",
        "colab_type": "code",
        "colab": {
          "base_uri": "https://localhost:8080/",
          "height": 173
        },
        "outputId": "062b645d-ddd5-4428-9ed2-34451633a55c"
      },
      "source": [
        "data.loc[2:4]"
      ],
      "execution_count": null,
      "outputs": [
        {
          "output_type": "execute_result",
          "data": {
            "text/html": [
              "<div>\n",
              "<style scoped>\n",
              "    .dataframe tbody tr th:only-of-type {\n",
              "        vertical-align: middle;\n",
              "    }\n",
              "\n",
              "    .dataframe tbody tr th {\n",
              "        vertical-align: top;\n",
              "    }\n",
              "\n",
              "    .dataframe thead th {\n",
              "        text-align: right;\n",
              "    }\n",
              "</style>\n",
              "<table border=\"1\" class=\"dataframe\">\n",
              "  <thead>\n",
              "    <tr style=\"text-align: right;\">\n",
              "      <th></th>\n",
              "      <th>이름</th>\n",
              "      <th>측정일</th>\n",
              "      <th>몸무게</th>\n",
              "      <th>단위</th>\n",
              "      <th>담당</th>\n",
              "      <th>지점</th>\n",
              "      <th>몸무게(prev)</th>\n",
              "      <th>몸무게(next)</th>\n",
              "    </tr>\n",
              "    <tr>\n",
              "      <th>회차</th>\n",
              "      <th></th>\n",
              "      <th></th>\n",
              "      <th></th>\n",
              "      <th></th>\n",
              "      <th></th>\n",
              "      <th></th>\n",
              "      <th></th>\n",
              "      <th></th>\n",
              "    </tr>\n",
              "  </thead>\n",
              "  <tbody>\n",
              "    <tr>\n",
              "      <th>2</th>\n",
              "      <td>강성희</td>\n",
              "      <td>2019-01-02</td>\n",
              "      <td>75.7</td>\n",
              "      <td>kg</td>\n",
              "      <td>김지수</td>\n",
              "      <td>강남</td>\n",
              "      <td>76.4</td>\n",
              "      <td>76.0</td>\n",
              "    </tr>\n",
              "    <tr>\n",
              "      <th>3</th>\n",
              "      <td>강성희</td>\n",
              "      <td>2019-01-03</td>\n",
              "      <td>76.0</td>\n",
              "      <td>kg</td>\n",
              "      <td>김지수</td>\n",
              "      <td>강남</td>\n",
              "      <td>75.7</td>\n",
              "      <td>75.5</td>\n",
              "    </tr>\n",
              "    <tr>\n",
              "      <th>4</th>\n",
              "      <td>강성희</td>\n",
              "      <td>2019-01-04</td>\n",
              "      <td>75.5</td>\n",
              "      <td>kg</td>\n",
              "      <td>최재우</td>\n",
              "      <td>여의도</td>\n",
              "      <td>76.0</td>\n",
              "      <td>76.2</td>\n",
              "    </tr>\n",
              "  </tbody>\n",
              "</table>\n",
              "</div>"
            ],
            "text/plain": [
              "     이름        측정일   몸무게  단위   담당   지점  몸무게(prev)  몸무게(next)\n",
              "회차                                                          \n",
              "2   강성희 2019-01-02  75.7  kg  김지수   강남       76.4       76.0\n",
              "3   강성희 2019-01-03  76.0  kg  김지수   강남       75.7       75.5\n",
              "4   강성희 2019-01-04  75.5  kg  최재우  여의도       76.0       76.2"
            ]
          },
          "metadata": {
            "tags": []
          },
          "execution_count": 17
        }
      ]
    },
    {
      "cell_type": "code",
      "metadata": {
        "id": "FEq9_njH9EBP",
        "colab_type": "code",
        "colab": {
          "base_uri": "https://localhost:8080/",
          "height": 35
        },
        "outputId": "35b7a32e-7973-46b0-d083-88de18c862ca"
      },
      "source": [
        "# data.loc[1][\"이름\"] 과 같이 대괄호 여러 번 쓰는 것 비추\n",
        "data.loc[1, \"이름\"]"
      ],
      "execution_count": null,
      "outputs": [
        {
          "output_type": "execute_result",
          "data": {
            "application/vnd.google.colaboratory.intrinsic+json": {
              "type": "string"
            },
            "text/plain": [
              "'강성희'"
            ]
          },
          "metadata": {
            "tags": []
          },
          "execution_count": 18
        }
      ]
    },
    {
      "cell_type": "code",
      "metadata": {
        "id": "rtR0Ybut9Wap",
        "colab_type": "code",
        "colab": {
          "base_uri": "https://localhost:8080/",
          "height": 35
        },
        "outputId": "05ab13a5-0693-404b-ff3a-a1a22de5ee5e"
      },
      "source": [
        "%timeit data.loc[1][\"이름\"]"
      ],
      "execution_count": null,
      "outputs": [
        {
          "output_type": "stream",
          "text": [
            "1000 loops, best of 3: 217 µs per loop\n"
          ],
          "name": "stdout"
        }
      ]
    },
    {
      "cell_type": "code",
      "metadata": {
        "id": "E1tZFimR9om-",
        "colab_type": "code",
        "colab": {
          "base_uri": "https://localhost:8080/",
          "height": 73
        },
        "outputId": "edf9af44-3ff7-473d-be44-46eafb7ca2fe"
      },
      "source": [
        "%timeit data.loc[1, \"이름\"]"
      ],
      "execution_count": null,
      "outputs": [
        {
          "output_type": "stream",
          "text": [
            "The slowest run took 12.43 times longer than the fastest. This could mean that an intermediate result is being cached.\n",
            "100000 loops, best of 3: 7.89 µs per loop\n"
          ],
          "name": "stdout"
        }
      ]
    },
    {
      "cell_type": "code",
      "metadata": {
        "id": "DLjnRxZD-7qN",
        "colab_type": "code",
        "colab": {
          "base_uri": "https://localhost:8080/",
          "height": 73
        },
        "outputId": "c7acc448-8d8c-4b88-9e64-fc1f931b7c9a"
      },
      "source": [
        "%timeit data.at[1, \"이름\"]"
      ],
      "execution_count": null,
      "outputs": [
        {
          "output_type": "stream",
          "text": [
            "The slowest run took 22.19 times longer than the fastest. This could mean that an intermediate result is being cached.\n",
            "100000 loops, best of 3: 4.31 µs per loop\n"
          ],
          "name": "stdout"
        }
      ]
    },
    {
      "cell_type": "code",
      "metadata": {
        "id": "Kapw1QwO-GPc",
        "colab_type": "code",
        "colab": {
          "base_uri": "https://localhost:8080/",
          "height": 142
        },
        "outputId": "ded7567f-24a9-4eef-e82e-d282249466e8"
      },
      "source": [
        "data.loc[[1,3], [\"이름\", \"몸무게\"]]"
      ],
      "execution_count": null,
      "outputs": [
        {
          "output_type": "execute_result",
          "data": {
            "text/html": [
              "<div>\n",
              "<style scoped>\n",
              "    .dataframe tbody tr th:only-of-type {\n",
              "        vertical-align: middle;\n",
              "    }\n",
              "\n",
              "    .dataframe tbody tr th {\n",
              "        vertical-align: top;\n",
              "    }\n",
              "\n",
              "    .dataframe thead th {\n",
              "        text-align: right;\n",
              "    }\n",
              "</style>\n",
              "<table border=\"1\" class=\"dataframe\">\n",
              "  <thead>\n",
              "    <tr style=\"text-align: right;\">\n",
              "      <th></th>\n",
              "      <th>이름</th>\n",
              "      <th>몸무게</th>\n",
              "    </tr>\n",
              "    <tr>\n",
              "      <th>회차</th>\n",
              "      <th></th>\n",
              "      <th></th>\n",
              "    </tr>\n",
              "  </thead>\n",
              "  <tbody>\n",
              "    <tr>\n",
              "      <th>1</th>\n",
              "      <td>강성희</td>\n",
              "      <td>76.4</td>\n",
              "    </tr>\n",
              "    <tr>\n",
              "      <th>3</th>\n",
              "      <td>강성희</td>\n",
              "      <td>76.0</td>\n",
              "    </tr>\n",
              "  </tbody>\n",
              "</table>\n",
              "</div>"
            ],
            "text/plain": [
              "     이름   몸무게\n",
              "회차           \n",
              "1   강성희  76.4\n",
              "3   강성희  76.0"
            ]
          },
          "metadata": {
            "tags": []
          },
          "execution_count": 22
        }
      ]
    },
    {
      "cell_type": "code",
      "metadata": {
        "id": "RPuPbZUx-yXG",
        "colab_type": "code",
        "colab": {
          "base_uri": "https://localhost:8080/",
          "height": 173
        },
        "outputId": "ac621514-9283-4405-ad56-15b5058938f1"
      },
      "source": [
        "data.loc[2:4, [\"이름\", \"몸무게\"]]"
      ],
      "execution_count": null,
      "outputs": [
        {
          "output_type": "execute_result",
          "data": {
            "text/html": [
              "<div>\n",
              "<style scoped>\n",
              "    .dataframe tbody tr th:only-of-type {\n",
              "        vertical-align: middle;\n",
              "    }\n",
              "\n",
              "    .dataframe tbody tr th {\n",
              "        vertical-align: top;\n",
              "    }\n",
              "\n",
              "    .dataframe thead th {\n",
              "        text-align: right;\n",
              "    }\n",
              "</style>\n",
              "<table border=\"1\" class=\"dataframe\">\n",
              "  <thead>\n",
              "    <tr style=\"text-align: right;\">\n",
              "      <th></th>\n",
              "      <th>이름</th>\n",
              "      <th>몸무게</th>\n",
              "    </tr>\n",
              "    <tr>\n",
              "      <th>회차</th>\n",
              "      <th></th>\n",
              "      <th></th>\n",
              "    </tr>\n",
              "  </thead>\n",
              "  <tbody>\n",
              "    <tr>\n",
              "      <th>2</th>\n",
              "      <td>강성희</td>\n",
              "      <td>75.7</td>\n",
              "    </tr>\n",
              "    <tr>\n",
              "      <th>3</th>\n",
              "      <td>강성희</td>\n",
              "      <td>76.0</td>\n",
              "    </tr>\n",
              "    <tr>\n",
              "      <th>4</th>\n",
              "      <td>강성희</td>\n",
              "      <td>75.5</td>\n",
              "    </tr>\n",
              "  </tbody>\n",
              "</table>\n",
              "</div>"
            ],
            "text/plain": [
              "     이름   몸무게\n",
              "회차           \n",
              "2   강성희  75.7\n",
              "3   강성희  76.0\n",
              "4   강성희  75.5"
            ]
          },
          "metadata": {
            "tags": []
          },
          "execution_count": 23
        }
      ]
    },
    {
      "cell_type": "code",
      "metadata": {
        "id": "EcU765dI_EA8",
        "colab_type": "code",
        "colab": {
          "base_uri": "https://localhost:8080/",
          "height": 35
        },
        "outputId": "bf00e444-e889-4ed1-fdca-4baf8653d34c"
      },
      "source": [
        "## at은 loc보다 빠르지만 1개 행, 1개 열만 가져올 수 있어서 잘 사용 안 함\n",
        "data.at[1, \"이름\"]"
      ],
      "execution_count": null,
      "outputs": [
        {
          "output_type": "execute_result",
          "data": {
            "application/vnd.google.colaboratory.intrinsic+json": {
              "type": "string"
            },
            "text/plain": [
              "'강성희'"
            ]
          },
          "metadata": {
            "tags": []
          },
          "execution_count": 25
        }
      ]
    },
    {
      "cell_type": "markdown",
      "metadata": {
        "id": "ucvobOzLAhZv",
        "colab_type": "text"
      },
      "source": [
        "## 색인"
      ]
    },
    {
      "cell_type": "code",
      "metadata": {
        "id": "LFAwnZACAkhF",
        "colab_type": "code",
        "colab": {
          "base_uri": "https://localhost:8080/",
          "height": 204
        },
        "outputId": "182c404e-c17d-4d1e-a2b8-700e1a9e656b"
      },
      "source": [
        " data[data[\"담당\"] == \"김지수\"]"
      ],
      "execution_count": null,
      "outputs": [
        {
          "output_type": "execute_result",
          "data": {
            "text/html": [
              "<div>\n",
              "<style scoped>\n",
              "    .dataframe tbody tr th:only-of-type {\n",
              "        vertical-align: middle;\n",
              "    }\n",
              "\n",
              "    .dataframe tbody tr th {\n",
              "        vertical-align: top;\n",
              "    }\n",
              "\n",
              "    .dataframe thead th {\n",
              "        text-align: right;\n",
              "    }\n",
              "</style>\n",
              "<table border=\"1\" class=\"dataframe\">\n",
              "  <thead>\n",
              "    <tr style=\"text-align: right;\">\n",
              "      <th></th>\n",
              "      <th>이름</th>\n",
              "      <th>측정일</th>\n",
              "      <th>몸무게</th>\n",
              "      <th>단위</th>\n",
              "      <th>담당</th>\n",
              "      <th>지점</th>\n",
              "      <th>몸무게(prev)</th>\n",
              "      <th>몸무게(next)</th>\n",
              "    </tr>\n",
              "    <tr>\n",
              "      <th>회차</th>\n",
              "      <th></th>\n",
              "      <th></th>\n",
              "      <th></th>\n",
              "      <th></th>\n",
              "      <th></th>\n",
              "      <th></th>\n",
              "      <th></th>\n",
              "      <th></th>\n",
              "    </tr>\n",
              "  </thead>\n",
              "  <tbody>\n",
              "    <tr>\n",
              "      <th>1</th>\n",
              "      <td>강성희</td>\n",
              "      <td>2019-01-01</td>\n",
              "      <td>76.4</td>\n",
              "      <td>kg</td>\n",
              "      <td>김지수</td>\n",
              "      <td>강남</td>\n",
              "      <td>NaN</td>\n",
              "      <td>75.7</td>\n",
              "    </tr>\n",
              "    <tr>\n",
              "      <th>2</th>\n",
              "      <td>강성희</td>\n",
              "      <td>2019-01-02</td>\n",
              "      <td>75.7</td>\n",
              "      <td>kg</td>\n",
              "      <td>김지수</td>\n",
              "      <td>강남</td>\n",
              "      <td>76.4</td>\n",
              "      <td>76.0</td>\n",
              "    </tr>\n",
              "    <tr>\n",
              "      <th>3</th>\n",
              "      <td>강성희</td>\n",
              "      <td>2019-01-03</td>\n",
              "      <td>76.0</td>\n",
              "      <td>kg</td>\n",
              "      <td>김지수</td>\n",
              "      <td>강남</td>\n",
              "      <td>75.7</td>\n",
              "      <td>75.5</td>\n",
              "    </tr>\n",
              "    <tr>\n",
              "      <th>5</th>\n",
              "      <td>강성희</td>\n",
              "      <td>2019-01-05</td>\n",
              "      <td>76.2</td>\n",
              "      <td>kg</td>\n",
              "      <td>김지수</td>\n",
              "      <td>강남</td>\n",
              "      <td>75.5</td>\n",
              "      <td>75.7</td>\n",
              "    </tr>\n",
              "  </tbody>\n",
              "</table>\n",
              "</div>"
            ],
            "text/plain": [
              "     이름        측정일   몸무게  단위   담당  지점  몸무게(prev)  몸무게(next)\n",
              "회차                                                         \n",
              "1   강성희 2019-01-01  76.4  kg  김지수  강남        NaN       75.7\n",
              "2   강성희 2019-01-02  75.7  kg  김지수  강남       76.4       76.0\n",
              "3   강성희 2019-01-03  76.0  kg  김지수  강남       75.7       75.5\n",
              "5   강성희 2019-01-05  76.2  kg  김지수  강남       75.5       75.7"
            ]
          },
          "metadata": {
            "tags": []
          },
          "execution_count": 26
        }
      ]
    },
    {
      "cell_type": "code",
      "metadata": {
        "id": "ftdKRNa1Fa_g",
        "colab_type": "code",
        "colab": {
          "base_uri": "https://localhost:8080/",
          "height": 235
        },
        "outputId": "3563761e-8ccb-4f1a-a0ae-ee0776b37351"
      },
      "source": [
        "data[data[\"담당\"].isin([\"최재우\",\"김민철\"])]\n",
        "  # 그냥 in 연산자 쓸 수는 없음"
      ],
      "execution_count": null,
      "outputs": [
        {
          "output_type": "execute_result",
          "data": {
            "text/html": [
              "<div>\n",
              "<style scoped>\n",
              "    .dataframe tbody tr th:only-of-type {\n",
              "        vertical-align: middle;\n",
              "    }\n",
              "\n",
              "    .dataframe tbody tr th {\n",
              "        vertical-align: top;\n",
              "    }\n",
              "\n",
              "    .dataframe thead th {\n",
              "        text-align: right;\n",
              "    }\n",
              "</style>\n",
              "<table border=\"1\" class=\"dataframe\">\n",
              "  <thead>\n",
              "    <tr style=\"text-align: right;\">\n",
              "      <th></th>\n",
              "      <th>이름</th>\n",
              "      <th>측정일</th>\n",
              "      <th>몸무게</th>\n",
              "      <th>단위</th>\n",
              "      <th>담당</th>\n",
              "      <th>지점</th>\n",
              "      <th>몸무게(prev)</th>\n",
              "      <th>몸무게(next)</th>\n",
              "    </tr>\n",
              "    <tr>\n",
              "      <th>회차</th>\n",
              "      <th></th>\n",
              "      <th></th>\n",
              "      <th></th>\n",
              "      <th></th>\n",
              "      <th></th>\n",
              "      <th></th>\n",
              "      <th></th>\n",
              "      <th></th>\n",
              "    </tr>\n",
              "  </thead>\n",
              "  <tbody>\n",
              "    <tr>\n",
              "      <th>4</th>\n",
              "      <td>강성희</td>\n",
              "      <td>2019-01-04</td>\n",
              "      <td>75.5</td>\n",
              "      <td>kg</td>\n",
              "      <td>최재우</td>\n",
              "      <td>여의도</td>\n",
              "      <td>76.0</td>\n",
              "      <td>76.2</td>\n",
              "    </tr>\n",
              "    <tr>\n",
              "      <th>6</th>\n",
              "      <td>강성희</td>\n",
              "      <td>2019-01-06</td>\n",
              "      <td>75.7</td>\n",
              "      <td>kg</td>\n",
              "      <td>최재우</td>\n",
              "      <td>여의도</td>\n",
              "      <td>76.2</td>\n",
              "      <td>75.5</td>\n",
              "    </tr>\n",
              "    <tr>\n",
              "      <th>7</th>\n",
              "      <td>강성희</td>\n",
              "      <td>2019-01-07</td>\n",
              "      <td>75.5</td>\n",
              "      <td>kg</td>\n",
              "      <td>최재우</td>\n",
              "      <td>여의도</td>\n",
              "      <td>75.7</td>\n",
              "      <td>75.5</td>\n",
              "    </tr>\n",
              "    <tr>\n",
              "      <th>8</th>\n",
              "      <td>강성희</td>\n",
              "      <td>2019-01-08</td>\n",
              "      <td>75.5</td>\n",
              "      <td>kg</td>\n",
              "      <td>김민철</td>\n",
              "      <td>여의도</td>\n",
              "      <td>75.5</td>\n",
              "      <td>75.0</td>\n",
              "    </tr>\n",
              "    <tr>\n",
              "      <th>9</th>\n",
              "      <td>강성희</td>\n",
              "      <td>2019-01-09</td>\n",
              "      <td>75.0</td>\n",
              "      <td>kg</td>\n",
              "      <td>김민철</td>\n",
              "      <td>여의도</td>\n",
              "      <td>75.5</td>\n",
              "      <td>NaN</td>\n",
              "    </tr>\n",
              "  </tbody>\n",
              "</table>\n",
              "</div>"
            ],
            "text/plain": [
              "     이름        측정일   몸무게  단위   담당   지점  몸무게(prev)  몸무게(next)\n",
              "회차                                                          \n",
              "4   강성희 2019-01-04  75.5  kg  최재우  여의도       76.0       76.2\n",
              "6   강성희 2019-01-06  75.7  kg  최재우  여의도       76.2       75.5\n",
              "7   강성희 2019-01-07  75.5  kg  최재우  여의도       75.7       75.5\n",
              "8   강성희 2019-01-08  75.5  kg  김민철  여의도       75.5       75.0\n",
              "9   강성희 2019-01-09  75.0  kg  김민철  여의도       75.5        NaN"
            ]
          },
          "metadata": {
            "tags": []
          },
          "execution_count": 27
        }
      ]
    },
    {
      "cell_type": "code",
      "metadata": {
        "id": "5DRkp3Q4GQ4I",
        "colab_type": "code",
        "colab": {
          "base_uri": "https://localhost:8080/",
          "height": 266
        },
        "outputId": "4724fc6e-2f15-40fe-b035-3ff6d71a0b55"
      },
      "source": [
        "data[data[\"담당\"].str.contains(\"김\")]"
      ],
      "execution_count": null,
      "outputs": [
        {
          "output_type": "execute_result",
          "data": {
            "text/html": [
              "<div>\n",
              "<style scoped>\n",
              "    .dataframe tbody tr th:only-of-type {\n",
              "        vertical-align: middle;\n",
              "    }\n",
              "\n",
              "    .dataframe tbody tr th {\n",
              "        vertical-align: top;\n",
              "    }\n",
              "\n",
              "    .dataframe thead th {\n",
              "        text-align: right;\n",
              "    }\n",
              "</style>\n",
              "<table border=\"1\" class=\"dataframe\">\n",
              "  <thead>\n",
              "    <tr style=\"text-align: right;\">\n",
              "      <th></th>\n",
              "      <th>이름</th>\n",
              "      <th>측정일</th>\n",
              "      <th>몸무게</th>\n",
              "      <th>단위</th>\n",
              "      <th>담당</th>\n",
              "      <th>지점</th>\n",
              "      <th>몸무게(prev)</th>\n",
              "      <th>몸무게(next)</th>\n",
              "    </tr>\n",
              "    <tr>\n",
              "      <th>회차</th>\n",
              "      <th></th>\n",
              "      <th></th>\n",
              "      <th></th>\n",
              "      <th></th>\n",
              "      <th></th>\n",
              "      <th></th>\n",
              "      <th></th>\n",
              "      <th></th>\n",
              "    </tr>\n",
              "  </thead>\n",
              "  <tbody>\n",
              "    <tr>\n",
              "      <th>1</th>\n",
              "      <td>강성희</td>\n",
              "      <td>2019-01-01</td>\n",
              "      <td>76.4</td>\n",
              "      <td>kg</td>\n",
              "      <td>김지수</td>\n",
              "      <td>강남</td>\n",
              "      <td>NaN</td>\n",
              "      <td>75.7</td>\n",
              "    </tr>\n",
              "    <tr>\n",
              "      <th>2</th>\n",
              "      <td>강성희</td>\n",
              "      <td>2019-01-02</td>\n",
              "      <td>75.7</td>\n",
              "      <td>kg</td>\n",
              "      <td>김지수</td>\n",
              "      <td>강남</td>\n",
              "      <td>76.4</td>\n",
              "      <td>76.0</td>\n",
              "    </tr>\n",
              "    <tr>\n",
              "      <th>3</th>\n",
              "      <td>강성희</td>\n",
              "      <td>2019-01-03</td>\n",
              "      <td>76.0</td>\n",
              "      <td>kg</td>\n",
              "      <td>김지수</td>\n",
              "      <td>강남</td>\n",
              "      <td>75.7</td>\n",
              "      <td>75.5</td>\n",
              "    </tr>\n",
              "    <tr>\n",
              "      <th>5</th>\n",
              "      <td>강성희</td>\n",
              "      <td>2019-01-05</td>\n",
              "      <td>76.2</td>\n",
              "      <td>kg</td>\n",
              "      <td>김지수</td>\n",
              "      <td>강남</td>\n",
              "      <td>75.5</td>\n",
              "      <td>75.7</td>\n",
              "    </tr>\n",
              "    <tr>\n",
              "      <th>8</th>\n",
              "      <td>강성희</td>\n",
              "      <td>2019-01-08</td>\n",
              "      <td>75.5</td>\n",
              "      <td>kg</td>\n",
              "      <td>김민철</td>\n",
              "      <td>여의도</td>\n",
              "      <td>75.5</td>\n",
              "      <td>75.0</td>\n",
              "    </tr>\n",
              "    <tr>\n",
              "      <th>9</th>\n",
              "      <td>강성희</td>\n",
              "      <td>2019-01-09</td>\n",
              "      <td>75.0</td>\n",
              "      <td>kg</td>\n",
              "      <td>김민철</td>\n",
              "      <td>여의도</td>\n",
              "      <td>75.5</td>\n",
              "      <td>NaN</td>\n",
              "    </tr>\n",
              "  </tbody>\n",
              "</table>\n",
              "</div>"
            ],
            "text/plain": [
              "     이름        측정일   몸무게  단위   담당   지점  몸무게(prev)  몸무게(next)\n",
              "회차                                                          \n",
              "1   강성희 2019-01-01  76.4  kg  김지수   강남        NaN       75.7\n",
              "2   강성희 2019-01-02  75.7  kg  김지수   강남       76.4       76.0\n",
              "3   강성희 2019-01-03  76.0  kg  김지수   강남       75.7       75.5\n",
              "5   강성희 2019-01-05  76.2  kg  김지수   강남       75.5       75.7\n",
              "8   강성희 2019-01-08  75.5  kg  김민철  여의도       75.5       75.0\n",
              "9   강성희 2019-01-09  75.0  kg  김민철  여의도       75.5        NaN"
            ]
          },
          "metadata": {
            "tags": []
          },
          "execution_count": 28
        }
      ]
    },
    {
      "cell_type": "code",
      "metadata": {
        "id": "dcQB1XNjJH-5",
        "colab_type": "code",
        "colab": {
          "base_uri": "https://localhost:8080/",
          "height": 297
        },
        "outputId": "da21c240-59c0-4390-e5c0-cc5dde38a790"
      },
      "source": [
        "## 정규식도 된당\n",
        "data[data[\"담당\"].str.contains(\"^김지|.+재.+\", regex=True)]"
      ],
      "execution_count": null,
      "outputs": [
        {
          "output_type": "execute_result",
          "data": {
            "text/html": [
              "<div>\n",
              "<style scoped>\n",
              "    .dataframe tbody tr th:only-of-type {\n",
              "        vertical-align: middle;\n",
              "    }\n",
              "\n",
              "    .dataframe tbody tr th {\n",
              "        vertical-align: top;\n",
              "    }\n",
              "\n",
              "    .dataframe thead th {\n",
              "        text-align: right;\n",
              "    }\n",
              "</style>\n",
              "<table border=\"1\" class=\"dataframe\">\n",
              "  <thead>\n",
              "    <tr style=\"text-align: right;\">\n",
              "      <th></th>\n",
              "      <th>이름</th>\n",
              "      <th>측정일</th>\n",
              "      <th>몸무게</th>\n",
              "      <th>단위</th>\n",
              "      <th>담당</th>\n",
              "      <th>지점</th>\n",
              "      <th>몸무게(prev)</th>\n",
              "      <th>몸무게(next)</th>\n",
              "    </tr>\n",
              "    <tr>\n",
              "      <th>회차</th>\n",
              "      <th></th>\n",
              "      <th></th>\n",
              "      <th></th>\n",
              "      <th></th>\n",
              "      <th></th>\n",
              "      <th></th>\n",
              "      <th></th>\n",
              "      <th></th>\n",
              "    </tr>\n",
              "  </thead>\n",
              "  <tbody>\n",
              "    <tr>\n",
              "      <th>1</th>\n",
              "      <td>강성희</td>\n",
              "      <td>2019-01-01</td>\n",
              "      <td>76.4</td>\n",
              "      <td>kg</td>\n",
              "      <td>김지수</td>\n",
              "      <td>강남</td>\n",
              "      <td>NaN</td>\n",
              "      <td>75.7</td>\n",
              "    </tr>\n",
              "    <tr>\n",
              "      <th>2</th>\n",
              "      <td>강성희</td>\n",
              "      <td>2019-01-02</td>\n",
              "      <td>75.7</td>\n",
              "      <td>kg</td>\n",
              "      <td>김지수</td>\n",
              "      <td>강남</td>\n",
              "      <td>76.4</td>\n",
              "      <td>76.0</td>\n",
              "    </tr>\n",
              "    <tr>\n",
              "      <th>3</th>\n",
              "      <td>강성희</td>\n",
              "      <td>2019-01-03</td>\n",
              "      <td>76.0</td>\n",
              "      <td>kg</td>\n",
              "      <td>김지수</td>\n",
              "      <td>강남</td>\n",
              "      <td>75.7</td>\n",
              "      <td>75.5</td>\n",
              "    </tr>\n",
              "    <tr>\n",
              "      <th>4</th>\n",
              "      <td>강성희</td>\n",
              "      <td>2019-01-04</td>\n",
              "      <td>75.5</td>\n",
              "      <td>kg</td>\n",
              "      <td>최재우</td>\n",
              "      <td>여의도</td>\n",
              "      <td>76.0</td>\n",
              "      <td>76.2</td>\n",
              "    </tr>\n",
              "    <tr>\n",
              "      <th>5</th>\n",
              "      <td>강성희</td>\n",
              "      <td>2019-01-05</td>\n",
              "      <td>76.2</td>\n",
              "      <td>kg</td>\n",
              "      <td>김지수</td>\n",
              "      <td>강남</td>\n",
              "      <td>75.5</td>\n",
              "      <td>75.7</td>\n",
              "    </tr>\n",
              "    <tr>\n",
              "      <th>6</th>\n",
              "      <td>강성희</td>\n",
              "      <td>2019-01-06</td>\n",
              "      <td>75.7</td>\n",
              "      <td>kg</td>\n",
              "      <td>최재우</td>\n",
              "      <td>여의도</td>\n",
              "      <td>76.2</td>\n",
              "      <td>75.5</td>\n",
              "    </tr>\n",
              "    <tr>\n",
              "      <th>7</th>\n",
              "      <td>강성희</td>\n",
              "      <td>2019-01-07</td>\n",
              "      <td>75.5</td>\n",
              "      <td>kg</td>\n",
              "      <td>최재우</td>\n",
              "      <td>여의도</td>\n",
              "      <td>75.7</td>\n",
              "      <td>75.5</td>\n",
              "    </tr>\n",
              "  </tbody>\n",
              "</table>\n",
              "</div>"
            ],
            "text/plain": [
              "     이름        측정일   몸무게  단위   담당   지점  몸무게(prev)  몸무게(next)\n",
              "회차                                                          \n",
              "1   강성희 2019-01-01  76.4  kg  김지수   강남        NaN       75.7\n",
              "2   강성희 2019-01-02  75.7  kg  김지수   강남       76.4       76.0\n",
              "3   강성희 2019-01-03  76.0  kg  김지수   강남       75.7       75.5\n",
              "4   강성희 2019-01-04  75.5  kg  최재우  여의도       76.0       76.2\n",
              "5   강성희 2019-01-05  76.2  kg  김지수   강남       75.5       75.7\n",
              "6   강성희 2019-01-06  75.7  kg  최재우  여의도       76.2       75.5\n",
              "7   강성희 2019-01-07  75.5  kg  최재우  여의도       75.7       75.5"
            ]
          },
          "metadata": {
            "tags": []
          },
          "execution_count": 29
        }
      ]
    },
    {
      "cell_type": "code",
      "metadata": {
        "id": "tCFz-AeBKUvF",
        "colab_type": "code",
        "colab": {
          "base_uri": "https://localhost:8080/",
          "height": 111
        },
        "outputId": "31f96784-23af-4c8b-bc35-5a06f5e2183f"
      },
      "source": [
        "## Nan\n",
        "data[data[\"몸무게(prev)\"].isnull()]"
      ],
      "execution_count": null,
      "outputs": [
        {
          "output_type": "execute_result",
          "data": {
            "text/html": [
              "<div>\n",
              "<style scoped>\n",
              "    .dataframe tbody tr th:only-of-type {\n",
              "        vertical-align: middle;\n",
              "    }\n",
              "\n",
              "    .dataframe tbody tr th {\n",
              "        vertical-align: top;\n",
              "    }\n",
              "\n",
              "    .dataframe thead th {\n",
              "        text-align: right;\n",
              "    }\n",
              "</style>\n",
              "<table border=\"1\" class=\"dataframe\">\n",
              "  <thead>\n",
              "    <tr style=\"text-align: right;\">\n",
              "      <th></th>\n",
              "      <th>이름</th>\n",
              "      <th>측정일</th>\n",
              "      <th>몸무게</th>\n",
              "      <th>단위</th>\n",
              "      <th>담당</th>\n",
              "      <th>지점</th>\n",
              "      <th>몸무게(prev)</th>\n",
              "      <th>몸무게(next)</th>\n",
              "    </tr>\n",
              "    <tr>\n",
              "      <th>회차</th>\n",
              "      <th></th>\n",
              "      <th></th>\n",
              "      <th></th>\n",
              "      <th></th>\n",
              "      <th></th>\n",
              "      <th></th>\n",
              "      <th></th>\n",
              "      <th></th>\n",
              "    </tr>\n",
              "  </thead>\n",
              "  <tbody>\n",
              "    <tr>\n",
              "      <th>1</th>\n",
              "      <td>강성희</td>\n",
              "      <td>2019-01-01</td>\n",
              "      <td>76.4</td>\n",
              "      <td>kg</td>\n",
              "      <td>김지수</td>\n",
              "      <td>강남</td>\n",
              "      <td>NaN</td>\n",
              "      <td>75.7</td>\n",
              "    </tr>\n",
              "  </tbody>\n",
              "</table>\n",
              "</div>"
            ],
            "text/plain": [
              "     이름        측정일   몸무게  단위   담당  지점  몸무게(prev)  몸무게(next)\n",
              "회차                                                         \n",
              "1   강성희 2019-01-01  76.4  kg  김지수  강남        NaN       75.7"
            ]
          },
          "metadata": {
            "tags": []
          },
          "execution_count": 30
        }
      ]
    },
    {
      "cell_type": "code",
      "metadata": {
        "id": "IbNK3JFZKe_D",
        "colab_type": "code",
        "colab": {
          "base_uri": "https://localhost:8080/",
          "height": 297
        },
        "outputId": "9e6f74e3-4151-4997-80c9-a1e1bac208f2"
      },
      "source": [
        "data[data[\"몸무게(prev)\"].notnull() & data[\"몸무게(next)\"].notnull()]"
      ],
      "execution_count": null,
      "outputs": [
        {
          "output_type": "execute_result",
          "data": {
            "text/html": [
              "<div>\n",
              "<style scoped>\n",
              "    .dataframe tbody tr th:only-of-type {\n",
              "        vertical-align: middle;\n",
              "    }\n",
              "\n",
              "    .dataframe tbody tr th {\n",
              "        vertical-align: top;\n",
              "    }\n",
              "\n",
              "    .dataframe thead th {\n",
              "        text-align: right;\n",
              "    }\n",
              "</style>\n",
              "<table border=\"1\" class=\"dataframe\">\n",
              "  <thead>\n",
              "    <tr style=\"text-align: right;\">\n",
              "      <th></th>\n",
              "      <th>이름</th>\n",
              "      <th>측정일</th>\n",
              "      <th>몸무게</th>\n",
              "      <th>단위</th>\n",
              "      <th>담당</th>\n",
              "      <th>지점</th>\n",
              "      <th>몸무게(prev)</th>\n",
              "      <th>몸무게(next)</th>\n",
              "    </tr>\n",
              "    <tr>\n",
              "      <th>회차</th>\n",
              "      <th></th>\n",
              "      <th></th>\n",
              "      <th></th>\n",
              "      <th></th>\n",
              "      <th></th>\n",
              "      <th></th>\n",
              "      <th></th>\n",
              "      <th></th>\n",
              "    </tr>\n",
              "  </thead>\n",
              "  <tbody>\n",
              "    <tr>\n",
              "      <th>2</th>\n",
              "      <td>강성희</td>\n",
              "      <td>2019-01-02</td>\n",
              "      <td>75.7</td>\n",
              "      <td>kg</td>\n",
              "      <td>김지수</td>\n",
              "      <td>강남</td>\n",
              "      <td>76.4</td>\n",
              "      <td>76.0</td>\n",
              "    </tr>\n",
              "    <tr>\n",
              "      <th>3</th>\n",
              "      <td>강성희</td>\n",
              "      <td>2019-01-03</td>\n",
              "      <td>76.0</td>\n",
              "      <td>kg</td>\n",
              "      <td>김지수</td>\n",
              "      <td>강남</td>\n",
              "      <td>75.7</td>\n",
              "      <td>75.5</td>\n",
              "    </tr>\n",
              "    <tr>\n",
              "      <th>4</th>\n",
              "      <td>강성희</td>\n",
              "      <td>2019-01-04</td>\n",
              "      <td>75.5</td>\n",
              "      <td>kg</td>\n",
              "      <td>최재우</td>\n",
              "      <td>여의도</td>\n",
              "      <td>76.0</td>\n",
              "      <td>76.2</td>\n",
              "    </tr>\n",
              "    <tr>\n",
              "      <th>5</th>\n",
              "      <td>강성희</td>\n",
              "      <td>2019-01-05</td>\n",
              "      <td>76.2</td>\n",
              "      <td>kg</td>\n",
              "      <td>김지수</td>\n",
              "      <td>강남</td>\n",
              "      <td>75.5</td>\n",
              "      <td>75.7</td>\n",
              "    </tr>\n",
              "    <tr>\n",
              "      <th>6</th>\n",
              "      <td>강성희</td>\n",
              "      <td>2019-01-06</td>\n",
              "      <td>75.7</td>\n",
              "      <td>kg</td>\n",
              "      <td>최재우</td>\n",
              "      <td>여의도</td>\n",
              "      <td>76.2</td>\n",
              "      <td>75.5</td>\n",
              "    </tr>\n",
              "    <tr>\n",
              "      <th>7</th>\n",
              "      <td>강성희</td>\n",
              "      <td>2019-01-07</td>\n",
              "      <td>75.5</td>\n",
              "      <td>kg</td>\n",
              "      <td>최재우</td>\n",
              "      <td>여의도</td>\n",
              "      <td>75.7</td>\n",
              "      <td>75.5</td>\n",
              "    </tr>\n",
              "    <tr>\n",
              "      <th>8</th>\n",
              "      <td>강성희</td>\n",
              "      <td>2019-01-08</td>\n",
              "      <td>75.5</td>\n",
              "      <td>kg</td>\n",
              "      <td>김민철</td>\n",
              "      <td>여의도</td>\n",
              "      <td>75.5</td>\n",
              "      <td>75.0</td>\n",
              "    </tr>\n",
              "  </tbody>\n",
              "</table>\n",
              "</div>"
            ],
            "text/plain": [
              "     이름        측정일   몸무게  단위   담당   지점  몸무게(prev)  몸무게(next)\n",
              "회차                                                          \n",
              "2   강성희 2019-01-02  75.7  kg  김지수   강남       76.4       76.0\n",
              "3   강성희 2019-01-03  76.0  kg  김지수   강남       75.7       75.5\n",
              "4   강성희 2019-01-04  75.5  kg  최재우  여의도       76.0       76.2\n",
              "5   강성희 2019-01-05  76.2  kg  김지수   강남       75.5       75.7\n",
              "6   강성희 2019-01-06  75.7  kg  최재우  여의도       76.2       75.5\n",
              "7   강성희 2019-01-07  75.5  kg  최재우  여의도       75.7       75.5\n",
              "8   강성희 2019-01-08  75.5  kg  김민철  여의도       75.5       75.0"
            ]
          },
          "metadata": {
            "tags": []
          },
          "execution_count": 31
        }
      ]
    },
    {
      "cell_type": "markdown",
      "metadata": {
        "id": "2HH5P8lcNYZW",
        "colab_type": "text"
      },
      "source": [
        "## pivot table"
      ]
    },
    {
      "cell_type": "code",
      "metadata": {
        "id": "BYXv8s_ZNa-Y",
        "colab_type": "code",
        "colab": {
          "base_uri": "https://localhost:8080/",
          "height": 173
        },
        "outputId": "0c07dc73-f90f-408d-bd8a-3679e5eb4f90"
      },
      "source": [
        "pd.pivot_table(data, index=\"담당\", values=\"몸무게\")"
      ],
      "execution_count": null,
      "outputs": [
        {
          "output_type": "execute_result",
          "data": {
            "text/html": [
              "<div>\n",
              "<style scoped>\n",
              "    .dataframe tbody tr th:only-of-type {\n",
              "        vertical-align: middle;\n",
              "    }\n",
              "\n",
              "    .dataframe tbody tr th {\n",
              "        vertical-align: top;\n",
              "    }\n",
              "\n",
              "    .dataframe thead th {\n",
              "        text-align: right;\n",
              "    }\n",
              "</style>\n",
              "<table border=\"1\" class=\"dataframe\">\n",
              "  <thead>\n",
              "    <tr style=\"text-align: right;\">\n",
              "      <th></th>\n",
              "      <th>몸무게</th>\n",
              "    </tr>\n",
              "    <tr>\n",
              "      <th>담당</th>\n",
              "      <th></th>\n",
              "    </tr>\n",
              "  </thead>\n",
              "  <tbody>\n",
              "    <tr>\n",
              "      <th>김민철</th>\n",
              "      <td>75.250000</td>\n",
              "    </tr>\n",
              "    <tr>\n",
              "      <th>김지수</th>\n",
              "      <td>76.075000</td>\n",
              "    </tr>\n",
              "    <tr>\n",
              "      <th>최재우</th>\n",
              "      <td>75.566667</td>\n",
              "    </tr>\n",
              "  </tbody>\n",
              "</table>\n",
              "</div>"
            ],
            "text/plain": [
              "           몸무게\n",
              "담당            \n",
              "김민철  75.250000\n",
              "김지수  76.075000\n",
              "최재우  75.566667"
            ]
          },
          "metadata": {
            "tags": []
          },
          "execution_count": 32
        }
      ]
    },
    {
      "cell_type": "code",
      "metadata": {
        "id": "Ez4hxs_ZNoL3",
        "colab_type": "code",
        "colab": {
          "base_uri": "https://localhost:8080/",
          "height": 173
        },
        "outputId": "cb043e48-bd02-4c0f-f89b-f006597bbe6e"
      },
      "source": [
        "pd.pivot_table(data, index=[\"지점\", \"담당\"], values=\"몸무게\")"
      ],
      "execution_count": null,
      "outputs": [
        {
          "output_type": "execute_result",
          "data": {
            "text/html": [
              "<div>\n",
              "<style scoped>\n",
              "    .dataframe tbody tr th:only-of-type {\n",
              "        vertical-align: middle;\n",
              "    }\n",
              "\n",
              "    .dataframe tbody tr th {\n",
              "        vertical-align: top;\n",
              "    }\n",
              "\n",
              "    .dataframe thead th {\n",
              "        text-align: right;\n",
              "    }\n",
              "</style>\n",
              "<table border=\"1\" class=\"dataframe\">\n",
              "  <thead>\n",
              "    <tr style=\"text-align: right;\">\n",
              "      <th></th>\n",
              "      <th></th>\n",
              "      <th>몸무게</th>\n",
              "    </tr>\n",
              "    <tr>\n",
              "      <th>지점</th>\n",
              "      <th>담당</th>\n",
              "      <th></th>\n",
              "    </tr>\n",
              "  </thead>\n",
              "  <tbody>\n",
              "    <tr>\n",
              "      <th>강남</th>\n",
              "      <th>김지수</th>\n",
              "      <td>76.075000</td>\n",
              "    </tr>\n",
              "    <tr>\n",
              "      <th rowspan=\"2\" valign=\"top\">여의도</th>\n",
              "      <th>김민철</th>\n",
              "      <td>75.250000</td>\n",
              "    </tr>\n",
              "    <tr>\n",
              "      <th>최재우</th>\n",
              "      <td>75.566667</td>\n",
              "    </tr>\n",
              "  </tbody>\n",
              "</table>\n",
              "</div>"
            ],
            "text/plain": [
              "               몸무게\n",
              "지점  담당            \n",
              "강남  김지수  76.075000\n",
              "여의도 김민철  75.250000\n",
              "    최재우  75.566667"
            ]
          },
          "metadata": {
            "tags": []
          },
          "execution_count": 33
        }
      ]
    },
    {
      "cell_type": "code",
      "metadata": {
        "id": "exLQ969INxEX",
        "colab_type": "code",
        "colab": {
          "base_uri": "https://localhost:8080/",
          "height": 173
        },
        "outputId": "52896a1b-89ae-46ad-8701-421fa63e5173"
      },
      "source": [
        "## aggfunc 기본값은 mean\n",
        "## sum, median, max, min 등등 으로 바꿀 수 이따\n",
        "## 내가 만든 계산공식을 넣을 수도 있음! (안해봄...ㅎ)\n",
        "pd.pivot_table(data, index=[\"지점\", \"담당\"], values=\"몸무게\", aggfunc=\"sum\")"
      ],
      "execution_count": null,
      "outputs": [
        {
          "output_type": "execute_result",
          "data": {
            "text/html": [
              "<div>\n",
              "<style scoped>\n",
              "    .dataframe tbody tr th:only-of-type {\n",
              "        vertical-align: middle;\n",
              "    }\n",
              "\n",
              "    .dataframe tbody tr th {\n",
              "        vertical-align: top;\n",
              "    }\n",
              "\n",
              "    .dataframe thead th {\n",
              "        text-align: right;\n",
              "    }\n",
              "</style>\n",
              "<table border=\"1\" class=\"dataframe\">\n",
              "  <thead>\n",
              "    <tr style=\"text-align: right;\">\n",
              "      <th></th>\n",
              "      <th></th>\n",
              "      <th>몸무게</th>\n",
              "    </tr>\n",
              "    <tr>\n",
              "      <th>지점</th>\n",
              "      <th>담당</th>\n",
              "      <th></th>\n",
              "    </tr>\n",
              "  </thead>\n",
              "  <tbody>\n",
              "    <tr>\n",
              "      <th>강남</th>\n",
              "      <th>김지수</th>\n",
              "      <td>304.3</td>\n",
              "    </tr>\n",
              "    <tr>\n",
              "      <th rowspan=\"2\" valign=\"top\">여의도</th>\n",
              "      <th>김민철</th>\n",
              "      <td>150.5</td>\n",
              "    </tr>\n",
              "    <tr>\n",
              "      <th>최재우</th>\n",
              "      <td>226.7</td>\n",
              "    </tr>\n",
              "  </tbody>\n",
              "</table>\n",
              "</div>"
            ],
            "text/plain": [
              "           몸무게\n",
              "지점  담당        \n",
              "강남  김지수  304.3\n",
              "여의도 김민철  150.5\n",
              "    최재우  226.7"
            ]
          },
          "metadata": {
            "tags": []
          },
          "execution_count": 34
        }
      ]
    },
    {
      "cell_type": "code",
      "metadata": {
        "id": "tWxUF2SIP9YN",
        "colab_type": "code",
        "colab": {
          "base_uri": "https://localhost:8080/",
          "height": 204
        },
        "outputId": "fa202928-b105-4a3c-f275-4df3ed72faa4"
      },
      "source": [
        "pd.pivot_table(data, index=[\"지점\", \"담당\"], values=\"몸무게\", aggfunc=[\"mean\", \"sum\"])"
      ],
      "execution_count": null,
      "outputs": [
        {
          "output_type": "execute_result",
          "data": {
            "text/html": [
              "<div>\n",
              "<style scoped>\n",
              "    .dataframe tbody tr th:only-of-type {\n",
              "        vertical-align: middle;\n",
              "    }\n",
              "\n",
              "    .dataframe tbody tr th {\n",
              "        vertical-align: top;\n",
              "    }\n",
              "\n",
              "    .dataframe thead tr th {\n",
              "        text-align: left;\n",
              "    }\n",
              "\n",
              "    .dataframe thead tr:last-of-type th {\n",
              "        text-align: right;\n",
              "    }\n",
              "</style>\n",
              "<table border=\"1\" class=\"dataframe\">\n",
              "  <thead>\n",
              "    <tr>\n",
              "      <th></th>\n",
              "      <th></th>\n",
              "      <th>mean</th>\n",
              "      <th>sum</th>\n",
              "    </tr>\n",
              "    <tr>\n",
              "      <th></th>\n",
              "      <th></th>\n",
              "      <th>몸무게</th>\n",
              "      <th>몸무게</th>\n",
              "    </tr>\n",
              "    <tr>\n",
              "      <th>지점</th>\n",
              "      <th>담당</th>\n",
              "      <th></th>\n",
              "      <th></th>\n",
              "    </tr>\n",
              "  </thead>\n",
              "  <tbody>\n",
              "    <tr>\n",
              "      <th>강남</th>\n",
              "      <th>김지수</th>\n",
              "      <td>76.075000</td>\n",
              "      <td>304.3</td>\n",
              "    </tr>\n",
              "    <tr>\n",
              "      <th rowspan=\"2\" valign=\"top\">여의도</th>\n",
              "      <th>김민철</th>\n",
              "      <td>75.250000</td>\n",
              "      <td>150.5</td>\n",
              "    </tr>\n",
              "    <tr>\n",
              "      <th>최재우</th>\n",
              "      <td>75.566667</td>\n",
              "      <td>226.7</td>\n",
              "    </tr>\n",
              "  </tbody>\n",
              "</table>\n",
              "</div>"
            ],
            "text/plain": [
              "              mean    sum\n",
              "               몸무게    몸무게\n",
              "지점  담당                   \n",
              "강남  김지수  76.075000  304.3\n",
              "여의도 김민철  75.250000  150.5\n",
              "    최재우  75.566667  226.7"
            ]
          },
          "metadata": {
            "tags": []
          },
          "execution_count": 35
        }
      ]
    },
    {
      "cell_type": "markdown",
      "metadata": {
        "id": "F8X5YbELSch_",
        "colab_type": "text"
      },
      "source": [
        "## 컬럼 추가 & 수정"
      ]
    },
    {
      "cell_type": "code",
      "metadata": {
        "id": "yoa7k76aShRB",
        "colab_type": "code",
        "colab": {
          "base_uri": "https://localhost:8080/",
          "height": 359
        },
        "outputId": "841d6236-af6c-4e71-ed77-5da23712cb08"
      },
      "source": [
        "data[\"지역\"] = \"서울\"\n",
        "data"
      ],
      "execution_count": null,
      "outputs": [
        {
          "output_type": "execute_result",
          "data": {
            "text/html": [
              "<div>\n",
              "<style scoped>\n",
              "    .dataframe tbody tr th:only-of-type {\n",
              "        vertical-align: middle;\n",
              "    }\n",
              "\n",
              "    .dataframe tbody tr th {\n",
              "        vertical-align: top;\n",
              "    }\n",
              "\n",
              "    .dataframe thead th {\n",
              "        text-align: right;\n",
              "    }\n",
              "</style>\n",
              "<table border=\"1\" class=\"dataframe\">\n",
              "  <thead>\n",
              "    <tr style=\"text-align: right;\">\n",
              "      <th></th>\n",
              "      <th>이름</th>\n",
              "      <th>측정일</th>\n",
              "      <th>몸무게</th>\n",
              "      <th>단위</th>\n",
              "      <th>담당</th>\n",
              "      <th>지점</th>\n",
              "      <th>몸무게(prev)</th>\n",
              "      <th>몸무게(next)</th>\n",
              "      <th>지역</th>\n",
              "    </tr>\n",
              "    <tr>\n",
              "      <th>회차</th>\n",
              "      <th></th>\n",
              "      <th></th>\n",
              "      <th></th>\n",
              "      <th></th>\n",
              "      <th></th>\n",
              "      <th></th>\n",
              "      <th></th>\n",
              "      <th></th>\n",
              "      <th></th>\n",
              "    </tr>\n",
              "  </thead>\n",
              "  <tbody>\n",
              "    <tr>\n",
              "      <th>1</th>\n",
              "      <td>강성희</td>\n",
              "      <td>2019-01-01</td>\n",
              "      <td>76.4</td>\n",
              "      <td>kg</td>\n",
              "      <td>김지수</td>\n",
              "      <td>강남</td>\n",
              "      <td>NaN</td>\n",
              "      <td>75.7</td>\n",
              "      <td>서울</td>\n",
              "    </tr>\n",
              "    <tr>\n",
              "      <th>2</th>\n",
              "      <td>강성희</td>\n",
              "      <td>2019-01-02</td>\n",
              "      <td>75.7</td>\n",
              "      <td>kg</td>\n",
              "      <td>김지수</td>\n",
              "      <td>강남</td>\n",
              "      <td>76.4</td>\n",
              "      <td>76.0</td>\n",
              "      <td>서울</td>\n",
              "    </tr>\n",
              "    <tr>\n",
              "      <th>3</th>\n",
              "      <td>강성희</td>\n",
              "      <td>2019-01-03</td>\n",
              "      <td>76.0</td>\n",
              "      <td>kg</td>\n",
              "      <td>김지수</td>\n",
              "      <td>강남</td>\n",
              "      <td>75.7</td>\n",
              "      <td>75.5</td>\n",
              "      <td>서울</td>\n",
              "    </tr>\n",
              "    <tr>\n",
              "      <th>4</th>\n",
              "      <td>강성희</td>\n",
              "      <td>2019-01-04</td>\n",
              "      <td>75.5</td>\n",
              "      <td>kg</td>\n",
              "      <td>최재우</td>\n",
              "      <td>여의도</td>\n",
              "      <td>76.0</td>\n",
              "      <td>76.2</td>\n",
              "      <td>서울</td>\n",
              "    </tr>\n",
              "    <tr>\n",
              "      <th>5</th>\n",
              "      <td>강성희</td>\n",
              "      <td>2019-01-05</td>\n",
              "      <td>76.2</td>\n",
              "      <td>kg</td>\n",
              "      <td>김지수</td>\n",
              "      <td>강남</td>\n",
              "      <td>75.5</td>\n",
              "      <td>75.7</td>\n",
              "      <td>서울</td>\n",
              "    </tr>\n",
              "    <tr>\n",
              "      <th>6</th>\n",
              "      <td>강성희</td>\n",
              "      <td>2019-01-06</td>\n",
              "      <td>75.7</td>\n",
              "      <td>kg</td>\n",
              "      <td>최재우</td>\n",
              "      <td>여의도</td>\n",
              "      <td>76.2</td>\n",
              "      <td>75.5</td>\n",
              "      <td>서울</td>\n",
              "    </tr>\n",
              "    <tr>\n",
              "      <th>7</th>\n",
              "      <td>강성희</td>\n",
              "      <td>2019-01-07</td>\n",
              "      <td>75.5</td>\n",
              "      <td>kg</td>\n",
              "      <td>최재우</td>\n",
              "      <td>여의도</td>\n",
              "      <td>75.7</td>\n",
              "      <td>75.5</td>\n",
              "      <td>서울</td>\n",
              "    </tr>\n",
              "    <tr>\n",
              "      <th>8</th>\n",
              "      <td>강성희</td>\n",
              "      <td>2019-01-08</td>\n",
              "      <td>75.5</td>\n",
              "      <td>kg</td>\n",
              "      <td>김민철</td>\n",
              "      <td>여의도</td>\n",
              "      <td>75.5</td>\n",
              "      <td>75.0</td>\n",
              "      <td>서울</td>\n",
              "    </tr>\n",
              "    <tr>\n",
              "      <th>9</th>\n",
              "      <td>강성희</td>\n",
              "      <td>2019-01-09</td>\n",
              "      <td>75.0</td>\n",
              "      <td>kg</td>\n",
              "      <td>김민철</td>\n",
              "      <td>여의도</td>\n",
              "      <td>75.5</td>\n",
              "      <td>NaN</td>\n",
              "      <td>서울</td>\n",
              "    </tr>\n",
              "  </tbody>\n",
              "</table>\n",
              "</div>"
            ],
            "text/plain": [
              "     이름        측정일   몸무게  단위   담당   지점  몸무게(prev)  몸무게(next)  지역\n",
              "회차                                                              \n",
              "1   강성희 2019-01-01  76.4  kg  김지수   강남        NaN       75.7  서울\n",
              "2   강성희 2019-01-02  75.7  kg  김지수   강남       76.4       76.0  서울\n",
              "3   강성희 2019-01-03  76.0  kg  김지수   강남       75.7       75.5  서울\n",
              "4   강성희 2019-01-04  75.5  kg  최재우  여의도       76.0       76.2  서울\n",
              "5   강성희 2019-01-05  76.2  kg  김지수   강남       75.5       75.7  서울\n",
              "6   강성희 2019-01-06  75.7  kg  최재우  여의도       76.2       75.5  서울\n",
              "7   강성희 2019-01-07  75.5  kg  최재우  여의도       75.7       75.5  서울\n",
              "8   강성희 2019-01-08  75.5  kg  김민철  여의도       75.5       75.0  서울\n",
              "9   강성희 2019-01-09  75.0  kg  김민철  여의도       75.5        NaN  서울"
            ]
          },
          "metadata": {
            "tags": []
          },
          "execution_count": 36
        }
      ]
    },
    {
      "cell_type": "code",
      "metadata": {
        "id": "5NLXmLGbSwHw",
        "colab_type": "code",
        "colab": {
          "base_uri": "https://localhost:8080/",
          "height": 359
        },
        "outputId": "f07362f8-204a-455d-ee31-10396389afec"
      },
      "source": [
        "# 행 개수와 안 맞으면 에러\n",
        "data[\"결제\"] = [True, True, True, True, True, True, True, False, True]\n",
        "data"
      ],
      "execution_count": null,
      "outputs": [
        {
          "output_type": "execute_result",
          "data": {
            "text/html": [
              "<div>\n",
              "<style scoped>\n",
              "    .dataframe tbody tr th:only-of-type {\n",
              "        vertical-align: middle;\n",
              "    }\n",
              "\n",
              "    .dataframe tbody tr th {\n",
              "        vertical-align: top;\n",
              "    }\n",
              "\n",
              "    .dataframe thead th {\n",
              "        text-align: right;\n",
              "    }\n",
              "</style>\n",
              "<table border=\"1\" class=\"dataframe\">\n",
              "  <thead>\n",
              "    <tr style=\"text-align: right;\">\n",
              "      <th></th>\n",
              "      <th>이름</th>\n",
              "      <th>측정일</th>\n",
              "      <th>몸무게</th>\n",
              "      <th>단위</th>\n",
              "      <th>담당</th>\n",
              "      <th>지점</th>\n",
              "      <th>몸무게(prev)</th>\n",
              "      <th>몸무게(next)</th>\n",
              "      <th>지역</th>\n",
              "      <th>결제</th>\n",
              "    </tr>\n",
              "    <tr>\n",
              "      <th>회차</th>\n",
              "      <th></th>\n",
              "      <th></th>\n",
              "      <th></th>\n",
              "      <th></th>\n",
              "      <th></th>\n",
              "      <th></th>\n",
              "      <th></th>\n",
              "      <th></th>\n",
              "      <th></th>\n",
              "      <th></th>\n",
              "    </tr>\n",
              "  </thead>\n",
              "  <tbody>\n",
              "    <tr>\n",
              "      <th>1</th>\n",
              "      <td>강성희</td>\n",
              "      <td>2019-01-01</td>\n",
              "      <td>76.4</td>\n",
              "      <td>kg</td>\n",
              "      <td>김지수</td>\n",
              "      <td>강남</td>\n",
              "      <td>NaN</td>\n",
              "      <td>75.7</td>\n",
              "      <td>서울</td>\n",
              "      <td>True</td>\n",
              "    </tr>\n",
              "    <tr>\n",
              "      <th>2</th>\n",
              "      <td>강성희</td>\n",
              "      <td>2019-01-02</td>\n",
              "      <td>75.7</td>\n",
              "      <td>kg</td>\n",
              "      <td>김지수</td>\n",
              "      <td>강남</td>\n",
              "      <td>76.4</td>\n",
              "      <td>76.0</td>\n",
              "      <td>서울</td>\n",
              "      <td>True</td>\n",
              "    </tr>\n",
              "    <tr>\n",
              "      <th>3</th>\n",
              "      <td>강성희</td>\n",
              "      <td>2019-01-03</td>\n",
              "      <td>76.0</td>\n",
              "      <td>kg</td>\n",
              "      <td>김지수</td>\n",
              "      <td>강남</td>\n",
              "      <td>75.7</td>\n",
              "      <td>75.5</td>\n",
              "      <td>서울</td>\n",
              "      <td>True</td>\n",
              "    </tr>\n",
              "    <tr>\n",
              "      <th>4</th>\n",
              "      <td>강성희</td>\n",
              "      <td>2019-01-04</td>\n",
              "      <td>75.5</td>\n",
              "      <td>kg</td>\n",
              "      <td>최재우</td>\n",
              "      <td>여의도</td>\n",
              "      <td>76.0</td>\n",
              "      <td>76.2</td>\n",
              "      <td>서울</td>\n",
              "      <td>True</td>\n",
              "    </tr>\n",
              "    <tr>\n",
              "      <th>5</th>\n",
              "      <td>강성희</td>\n",
              "      <td>2019-01-05</td>\n",
              "      <td>76.2</td>\n",
              "      <td>kg</td>\n",
              "      <td>김지수</td>\n",
              "      <td>강남</td>\n",
              "      <td>75.5</td>\n",
              "      <td>75.7</td>\n",
              "      <td>서울</td>\n",
              "      <td>True</td>\n",
              "    </tr>\n",
              "    <tr>\n",
              "      <th>6</th>\n",
              "      <td>강성희</td>\n",
              "      <td>2019-01-06</td>\n",
              "      <td>75.7</td>\n",
              "      <td>kg</td>\n",
              "      <td>최재우</td>\n",
              "      <td>여의도</td>\n",
              "      <td>76.2</td>\n",
              "      <td>75.5</td>\n",
              "      <td>서울</td>\n",
              "      <td>True</td>\n",
              "    </tr>\n",
              "    <tr>\n",
              "      <th>7</th>\n",
              "      <td>강성희</td>\n",
              "      <td>2019-01-07</td>\n",
              "      <td>75.5</td>\n",
              "      <td>kg</td>\n",
              "      <td>최재우</td>\n",
              "      <td>여의도</td>\n",
              "      <td>75.7</td>\n",
              "      <td>75.5</td>\n",
              "      <td>서울</td>\n",
              "      <td>True</td>\n",
              "    </tr>\n",
              "    <tr>\n",
              "      <th>8</th>\n",
              "      <td>강성희</td>\n",
              "      <td>2019-01-08</td>\n",
              "      <td>75.5</td>\n",
              "      <td>kg</td>\n",
              "      <td>김민철</td>\n",
              "      <td>여의도</td>\n",
              "      <td>75.5</td>\n",
              "      <td>75.0</td>\n",
              "      <td>서울</td>\n",
              "      <td>False</td>\n",
              "    </tr>\n",
              "    <tr>\n",
              "      <th>9</th>\n",
              "      <td>강성희</td>\n",
              "      <td>2019-01-09</td>\n",
              "      <td>75.0</td>\n",
              "      <td>kg</td>\n",
              "      <td>김민철</td>\n",
              "      <td>여의도</td>\n",
              "      <td>75.5</td>\n",
              "      <td>NaN</td>\n",
              "      <td>서울</td>\n",
              "      <td>True</td>\n",
              "    </tr>\n",
              "  </tbody>\n",
              "</table>\n",
              "</div>"
            ],
            "text/plain": [
              "     이름        측정일   몸무게  단위   담당   지점  몸무게(prev)  몸무게(next)  지역     결제\n",
              "회차                                                                     \n",
              "1   강성희 2019-01-01  76.4  kg  김지수   강남        NaN       75.7  서울   True\n",
              "2   강성희 2019-01-02  75.7  kg  김지수   강남       76.4       76.0  서울   True\n",
              "3   강성희 2019-01-03  76.0  kg  김지수   강남       75.7       75.5  서울   True\n",
              "4   강성희 2019-01-04  75.5  kg  최재우  여의도       76.0       76.2  서울   True\n",
              "5   강성희 2019-01-05  76.2  kg  김지수   강남       75.5       75.7  서울   True\n",
              "6   강성희 2019-01-06  75.7  kg  최재우  여의도       76.2       75.5  서울   True\n",
              "7   강성희 2019-01-07  75.5  kg  최재우  여의도       75.7       75.5  서울   True\n",
              "8   강성희 2019-01-08  75.5  kg  김민철  여의도       75.5       75.0  서울  False\n",
              "9   강성희 2019-01-09  75.0  kg  김민철  여의도       75.5        NaN  서울   True"
            ]
          },
          "metadata": {
            "tags": []
          },
          "execution_count": 37
        }
      ]
    },
    {
      "cell_type": "code",
      "metadata": {
        "id": "v1LC3yPiTyoO",
        "colab_type": "code",
        "colab": {
          "base_uri": "https://localhost:8080/",
          "height": 354
        },
        "outputId": "b921791a-07fc-479a-95ea-6d08e1a86ab9"
      },
      "source": [
        "data[\"몸무게(gram)\"] = data[\"몸무게\"]*1000\n",
        "data.head()"
      ],
      "execution_count": null,
      "outputs": [
        {
          "output_type": "execute_result",
          "data": {
            "text/html": [
              "<div>\n",
              "<style scoped>\n",
              "    .dataframe tbody tr th:only-of-type {\n",
              "        vertical-align: middle;\n",
              "    }\n",
              "\n",
              "    .dataframe tbody tr th {\n",
              "        vertical-align: top;\n",
              "    }\n",
              "\n",
              "    .dataframe thead th {\n",
              "        text-align: right;\n",
              "    }\n",
              "</style>\n",
              "<table border=\"1\" class=\"dataframe\">\n",
              "  <thead>\n",
              "    <tr style=\"text-align: right;\">\n",
              "      <th></th>\n",
              "      <th>이름</th>\n",
              "      <th>측정일</th>\n",
              "      <th>몸무게</th>\n",
              "      <th>단위</th>\n",
              "      <th>담당</th>\n",
              "      <th>지점</th>\n",
              "      <th>몸무게(prev)</th>\n",
              "      <th>몸무게(next)</th>\n",
              "      <th>지역</th>\n",
              "      <th>결제</th>\n",
              "      <th>몸무게(gram)</th>\n",
              "    </tr>\n",
              "    <tr>\n",
              "      <th>회차</th>\n",
              "      <th></th>\n",
              "      <th></th>\n",
              "      <th></th>\n",
              "      <th></th>\n",
              "      <th></th>\n",
              "      <th></th>\n",
              "      <th></th>\n",
              "      <th></th>\n",
              "      <th></th>\n",
              "      <th></th>\n",
              "      <th></th>\n",
              "    </tr>\n",
              "  </thead>\n",
              "  <tbody>\n",
              "    <tr>\n",
              "      <th>1</th>\n",
              "      <td>강성희</td>\n",
              "      <td>2019-01-01</td>\n",
              "      <td>76.4</td>\n",
              "      <td>kg</td>\n",
              "      <td>김지수</td>\n",
              "      <td>강남</td>\n",
              "      <td>NaN</td>\n",
              "      <td>75.7</td>\n",
              "      <td>서울</td>\n",
              "      <td>True</td>\n",
              "      <td>76400.0</td>\n",
              "    </tr>\n",
              "    <tr>\n",
              "      <th>2</th>\n",
              "      <td>강성희</td>\n",
              "      <td>2019-01-02</td>\n",
              "      <td>75.7</td>\n",
              "      <td>kg</td>\n",
              "      <td>김지수</td>\n",
              "      <td>강남</td>\n",
              "      <td>76.4</td>\n",
              "      <td>76.0</td>\n",
              "      <td>서울</td>\n",
              "      <td>True</td>\n",
              "      <td>75700.0</td>\n",
              "    </tr>\n",
              "    <tr>\n",
              "      <th>3</th>\n",
              "      <td>강성희</td>\n",
              "      <td>2019-01-03</td>\n",
              "      <td>76.0</td>\n",
              "      <td>kg</td>\n",
              "      <td>김지수</td>\n",
              "      <td>강남</td>\n",
              "      <td>75.7</td>\n",
              "      <td>75.5</td>\n",
              "      <td>서울</td>\n",
              "      <td>True</td>\n",
              "      <td>76000.0</td>\n",
              "    </tr>\n",
              "    <tr>\n",
              "      <th>4</th>\n",
              "      <td>강성희</td>\n",
              "      <td>2019-01-04</td>\n",
              "      <td>75.5</td>\n",
              "      <td>kg</td>\n",
              "      <td>최재우</td>\n",
              "      <td>여의도</td>\n",
              "      <td>76.0</td>\n",
              "      <td>76.2</td>\n",
              "      <td>서울</td>\n",
              "      <td>True</td>\n",
              "      <td>75500.0</td>\n",
              "    </tr>\n",
              "    <tr>\n",
              "      <th>5</th>\n",
              "      <td>강성희</td>\n",
              "      <td>2019-01-05</td>\n",
              "      <td>76.2</td>\n",
              "      <td>kg</td>\n",
              "      <td>김지수</td>\n",
              "      <td>강남</td>\n",
              "      <td>75.5</td>\n",
              "      <td>75.7</td>\n",
              "      <td>서울</td>\n",
              "      <td>True</td>\n",
              "      <td>76200.0</td>\n",
              "    </tr>\n",
              "  </tbody>\n",
              "</table>\n",
              "</div>"
            ],
            "text/plain": [
              "     이름        측정일   몸무게  단위   담당  ... 몸무게(prev)  몸무게(next)  지역    결제  몸무게(gram)\n",
              "회차                                 ...                                          \n",
              "1   강성희 2019-01-01  76.4  kg  김지수  ...       NaN       75.7  서울  True    76400.0\n",
              "2   강성희 2019-01-02  75.7  kg  김지수  ...      76.4       76.0  서울  True    75700.0\n",
              "3   강성희 2019-01-03  76.0  kg  김지수  ...      75.7       75.5  서울  True    76000.0\n",
              "4   강성희 2019-01-04  75.5  kg  최재우  ...      76.0       76.2  서울  True    75500.0\n",
              "5   강성희 2019-01-05  76.2  kg  김지수  ...      75.5       75.7  서울  True    76200.0\n",
              "\n",
              "[5 rows x 11 columns]"
            ]
          },
          "metadata": {
            "tags": []
          },
          "execution_count": 38
        }
      ]
    },
    {
      "cell_type": "code",
      "metadata": {
        "id": "9GRcW-NLVdYS",
        "colab_type": "code",
        "colab": {
          "base_uri": "https://localhost:8080/",
          "height": 354
        },
        "outputId": "23846981-75e6-4c6e-8b02-3fa149225779"
      },
      "source": [
        "## 조건에 맞지 않는 행의 상태 컬럼값은 NaN이 됨\n",
        "data.loc[data[\"몸무게\"] > 75.8, \"상태\"] = \"과체중\"\n",
        "data.loc[data[\"몸무게\"] <= 75.8, \"상태\"] = \"정상\"\n",
        "data.head()"
      ],
      "execution_count": null,
      "outputs": [
        {
          "output_type": "execute_result",
          "data": {
            "text/html": [
              "<div>\n",
              "<style scoped>\n",
              "    .dataframe tbody tr th:only-of-type {\n",
              "        vertical-align: middle;\n",
              "    }\n",
              "\n",
              "    .dataframe tbody tr th {\n",
              "        vertical-align: top;\n",
              "    }\n",
              "\n",
              "    .dataframe thead th {\n",
              "        text-align: right;\n",
              "    }\n",
              "</style>\n",
              "<table border=\"1\" class=\"dataframe\">\n",
              "  <thead>\n",
              "    <tr style=\"text-align: right;\">\n",
              "      <th></th>\n",
              "      <th>이름</th>\n",
              "      <th>측정일</th>\n",
              "      <th>몸무게</th>\n",
              "      <th>단위</th>\n",
              "      <th>담당</th>\n",
              "      <th>지점</th>\n",
              "      <th>몸무게(prev)</th>\n",
              "      <th>몸무게(next)</th>\n",
              "      <th>지역</th>\n",
              "      <th>결제</th>\n",
              "      <th>몸무게(gram)</th>\n",
              "      <th>상태</th>\n",
              "    </tr>\n",
              "    <tr>\n",
              "      <th>회차</th>\n",
              "      <th></th>\n",
              "      <th></th>\n",
              "      <th></th>\n",
              "      <th></th>\n",
              "      <th></th>\n",
              "      <th></th>\n",
              "      <th></th>\n",
              "      <th></th>\n",
              "      <th></th>\n",
              "      <th></th>\n",
              "      <th></th>\n",
              "      <th></th>\n",
              "    </tr>\n",
              "  </thead>\n",
              "  <tbody>\n",
              "    <tr>\n",
              "      <th>1</th>\n",
              "      <td>강성희</td>\n",
              "      <td>2019-01-01</td>\n",
              "      <td>76.4</td>\n",
              "      <td>kg</td>\n",
              "      <td>김지수</td>\n",
              "      <td>강남</td>\n",
              "      <td>NaN</td>\n",
              "      <td>75.7</td>\n",
              "      <td>서울</td>\n",
              "      <td>True</td>\n",
              "      <td>76400.0</td>\n",
              "      <td>과체중</td>\n",
              "    </tr>\n",
              "    <tr>\n",
              "      <th>2</th>\n",
              "      <td>강성희</td>\n",
              "      <td>2019-01-02</td>\n",
              "      <td>75.7</td>\n",
              "      <td>kg</td>\n",
              "      <td>김지수</td>\n",
              "      <td>강남</td>\n",
              "      <td>76.4</td>\n",
              "      <td>76.0</td>\n",
              "      <td>서울</td>\n",
              "      <td>True</td>\n",
              "      <td>75700.0</td>\n",
              "      <td>정상</td>\n",
              "    </tr>\n",
              "    <tr>\n",
              "      <th>3</th>\n",
              "      <td>강성희</td>\n",
              "      <td>2019-01-03</td>\n",
              "      <td>76.0</td>\n",
              "      <td>kg</td>\n",
              "      <td>김지수</td>\n",
              "      <td>강남</td>\n",
              "      <td>75.7</td>\n",
              "      <td>75.5</td>\n",
              "      <td>서울</td>\n",
              "      <td>True</td>\n",
              "      <td>76000.0</td>\n",
              "      <td>과체중</td>\n",
              "    </tr>\n",
              "    <tr>\n",
              "      <th>4</th>\n",
              "      <td>강성희</td>\n",
              "      <td>2019-01-04</td>\n",
              "      <td>75.5</td>\n",
              "      <td>kg</td>\n",
              "      <td>최재우</td>\n",
              "      <td>여의도</td>\n",
              "      <td>76.0</td>\n",
              "      <td>76.2</td>\n",
              "      <td>서울</td>\n",
              "      <td>True</td>\n",
              "      <td>75500.0</td>\n",
              "      <td>정상</td>\n",
              "    </tr>\n",
              "    <tr>\n",
              "      <th>5</th>\n",
              "      <td>강성희</td>\n",
              "      <td>2019-01-05</td>\n",
              "      <td>76.2</td>\n",
              "      <td>kg</td>\n",
              "      <td>김지수</td>\n",
              "      <td>강남</td>\n",
              "      <td>75.5</td>\n",
              "      <td>75.7</td>\n",
              "      <td>서울</td>\n",
              "      <td>True</td>\n",
              "      <td>76200.0</td>\n",
              "      <td>과체중</td>\n",
              "    </tr>\n",
              "  </tbody>\n",
              "</table>\n",
              "</div>"
            ],
            "text/plain": [
              "     이름        측정일   몸무게  단위   담당  ... 몸무게(next)  지역    결제 몸무게(gram)   상태\n",
              "회차                                 ...                                   \n",
              "1   강성희 2019-01-01  76.4  kg  김지수  ...      75.7  서울  True   76400.0  과체중\n",
              "2   강성희 2019-01-02  75.7  kg  김지수  ...      76.0  서울  True   75700.0   정상\n",
              "3   강성희 2019-01-03  76.0  kg  김지수  ...      75.5  서울  True   76000.0  과체중\n",
              "4   강성희 2019-01-04  75.5  kg  최재우  ...      76.2  서울  True   75500.0   정상\n",
              "5   강성희 2019-01-05  76.2  kg  김지수  ...      75.7  서울  True   76200.0  과체중\n",
              "\n",
              "[5 rows x 12 columns]"
            ]
          },
          "metadata": {
            "tags": []
          },
          "execution_count": 39
        }
      ]
    },
    {
      "cell_type": "markdown",
      "metadata": {
        "id": "UQQ2-jOJWG8j",
        "colab_type": "text"
      },
      "source": [
        "## 컬럼 삭제"
      ]
    },
    {
      "cell_type": "code",
      "metadata": {
        "id": "QmOpC2LDVfVu",
        "colab_type": "code",
        "colab": {
          "base_uri": "https://localhost:8080/",
          "height": 258
        },
        "outputId": "1d8ac5a3-0b6e-42e1-f568-337966e45a57"
      },
      "source": [
        "## drop 은 기본적으로 Row를 지우는 것 (index 기준)\n",
        "data.drop(1).head(3)\n",
        "# data.drop(1, axis= \"index\")\n",
        "# data.drop([1,2]).head(3)"
      ],
      "execution_count": null,
      "outputs": [
        {
          "output_type": "execute_result",
          "data": {
            "text/html": [
              "<div>\n",
              "<style scoped>\n",
              "    .dataframe tbody tr th:only-of-type {\n",
              "        vertical-align: middle;\n",
              "    }\n",
              "\n",
              "    .dataframe tbody tr th {\n",
              "        vertical-align: top;\n",
              "    }\n",
              "\n",
              "    .dataframe thead th {\n",
              "        text-align: right;\n",
              "    }\n",
              "</style>\n",
              "<table border=\"1\" class=\"dataframe\">\n",
              "  <thead>\n",
              "    <tr style=\"text-align: right;\">\n",
              "      <th></th>\n",
              "      <th>이름</th>\n",
              "      <th>측정일</th>\n",
              "      <th>몸무게</th>\n",
              "      <th>단위</th>\n",
              "      <th>담당</th>\n",
              "      <th>지점</th>\n",
              "      <th>몸무게(prev)</th>\n",
              "      <th>몸무게(next)</th>\n",
              "      <th>지역</th>\n",
              "      <th>결제</th>\n",
              "      <th>몸무게(gram)</th>\n",
              "      <th>상태</th>\n",
              "    </tr>\n",
              "    <tr>\n",
              "      <th>회차</th>\n",
              "      <th></th>\n",
              "      <th></th>\n",
              "      <th></th>\n",
              "      <th></th>\n",
              "      <th></th>\n",
              "      <th></th>\n",
              "      <th></th>\n",
              "      <th></th>\n",
              "      <th></th>\n",
              "      <th></th>\n",
              "      <th></th>\n",
              "      <th></th>\n",
              "    </tr>\n",
              "  </thead>\n",
              "  <tbody>\n",
              "    <tr>\n",
              "      <th>2</th>\n",
              "      <td>강성희</td>\n",
              "      <td>2019-01-02</td>\n",
              "      <td>75.7</td>\n",
              "      <td>kg</td>\n",
              "      <td>김지수</td>\n",
              "      <td>강남</td>\n",
              "      <td>76.4</td>\n",
              "      <td>76.0</td>\n",
              "      <td>서울</td>\n",
              "      <td>True</td>\n",
              "      <td>75700.0</td>\n",
              "      <td>정상</td>\n",
              "    </tr>\n",
              "    <tr>\n",
              "      <th>3</th>\n",
              "      <td>강성희</td>\n",
              "      <td>2019-01-03</td>\n",
              "      <td>76.0</td>\n",
              "      <td>kg</td>\n",
              "      <td>김지수</td>\n",
              "      <td>강남</td>\n",
              "      <td>75.7</td>\n",
              "      <td>75.5</td>\n",
              "      <td>서울</td>\n",
              "      <td>True</td>\n",
              "      <td>76000.0</td>\n",
              "      <td>과체중</td>\n",
              "    </tr>\n",
              "    <tr>\n",
              "      <th>4</th>\n",
              "      <td>강성희</td>\n",
              "      <td>2019-01-04</td>\n",
              "      <td>75.5</td>\n",
              "      <td>kg</td>\n",
              "      <td>최재우</td>\n",
              "      <td>여의도</td>\n",
              "      <td>76.0</td>\n",
              "      <td>76.2</td>\n",
              "      <td>서울</td>\n",
              "      <td>True</td>\n",
              "      <td>75500.0</td>\n",
              "      <td>정상</td>\n",
              "    </tr>\n",
              "  </tbody>\n",
              "</table>\n",
              "</div>"
            ],
            "text/plain": [
              "     이름        측정일   몸무게  단위   담당  ... 몸무게(next)  지역    결제 몸무게(gram)   상태\n",
              "회차                                 ...                                   \n",
              "2   강성희 2019-01-02  75.7  kg  김지수  ...      76.0  서울  True   75700.0   정상\n",
              "3   강성희 2019-01-03  76.0  kg  김지수  ...      75.5  서울  True   76000.0  과체중\n",
              "4   강성희 2019-01-04  75.5  kg  최재우  ...      76.2  서울  True   75500.0   정상\n",
              "\n",
              "[3 rows x 12 columns]"
            ]
          },
          "metadata": {
            "tags": []
          },
          "execution_count": 40
        }
      ]
    },
    {
      "cell_type": "code",
      "metadata": {
        "id": "AyzcD7MSWXsZ",
        "colab_type": "code",
        "colab": {
          "base_uri": "https://localhost:8080/",
          "height": 546
        },
        "outputId": "31d01617-c612-4210-e8e7-8ae895a8255c"
      },
      "source": [
        "data = data.drop(\"몸무게(next)\", axis = \"columns\")\n",
        "data"
      ],
      "execution_count": null,
      "outputs": [
        {
          "output_type": "execute_result",
          "data": {
            "text/html": [
              "<div>\n",
              "<style scoped>\n",
              "    .dataframe tbody tr th:only-of-type {\n",
              "        vertical-align: middle;\n",
              "    }\n",
              "\n",
              "    .dataframe tbody tr th {\n",
              "        vertical-align: top;\n",
              "    }\n",
              "\n",
              "    .dataframe thead th {\n",
              "        text-align: right;\n",
              "    }\n",
              "</style>\n",
              "<table border=\"1\" class=\"dataframe\">\n",
              "  <thead>\n",
              "    <tr style=\"text-align: right;\">\n",
              "      <th></th>\n",
              "      <th>이름</th>\n",
              "      <th>측정일</th>\n",
              "      <th>몸무게</th>\n",
              "      <th>단위</th>\n",
              "      <th>담당</th>\n",
              "      <th>지점</th>\n",
              "      <th>몸무게(prev)</th>\n",
              "      <th>지역</th>\n",
              "      <th>결제</th>\n",
              "      <th>몸무게(gram)</th>\n",
              "      <th>상태</th>\n",
              "    </tr>\n",
              "    <tr>\n",
              "      <th>회차</th>\n",
              "      <th></th>\n",
              "      <th></th>\n",
              "      <th></th>\n",
              "      <th></th>\n",
              "      <th></th>\n",
              "      <th></th>\n",
              "      <th></th>\n",
              "      <th></th>\n",
              "      <th></th>\n",
              "      <th></th>\n",
              "      <th></th>\n",
              "    </tr>\n",
              "  </thead>\n",
              "  <tbody>\n",
              "    <tr>\n",
              "      <th>1</th>\n",
              "      <td>강성희</td>\n",
              "      <td>2019-01-01</td>\n",
              "      <td>76.4</td>\n",
              "      <td>kg</td>\n",
              "      <td>김지수</td>\n",
              "      <td>강남</td>\n",
              "      <td>NaN</td>\n",
              "      <td>서울</td>\n",
              "      <td>True</td>\n",
              "      <td>76400.0</td>\n",
              "      <td>과체중</td>\n",
              "    </tr>\n",
              "    <tr>\n",
              "      <th>2</th>\n",
              "      <td>강성희</td>\n",
              "      <td>2019-01-02</td>\n",
              "      <td>75.7</td>\n",
              "      <td>kg</td>\n",
              "      <td>김지수</td>\n",
              "      <td>강남</td>\n",
              "      <td>76.4</td>\n",
              "      <td>서울</td>\n",
              "      <td>True</td>\n",
              "      <td>75700.0</td>\n",
              "      <td>정상</td>\n",
              "    </tr>\n",
              "    <tr>\n",
              "      <th>3</th>\n",
              "      <td>강성희</td>\n",
              "      <td>2019-01-03</td>\n",
              "      <td>76.0</td>\n",
              "      <td>kg</td>\n",
              "      <td>김지수</td>\n",
              "      <td>강남</td>\n",
              "      <td>75.7</td>\n",
              "      <td>서울</td>\n",
              "      <td>True</td>\n",
              "      <td>76000.0</td>\n",
              "      <td>과체중</td>\n",
              "    </tr>\n",
              "    <tr>\n",
              "      <th>4</th>\n",
              "      <td>강성희</td>\n",
              "      <td>2019-01-04</td>\n",
              "      <td>75.5</td>\n",
              "      <td>kg</td>\n",
              "      <td>최재우</td>\n",
              "      <td>여의도</td>\n",
              "      <td>76.0</td>\n",
              "      <td>서울</td>\n",
              "      <td>True</td>\n",
              "      <td>75500.0</td>\n",
              "      <td>정상</td>\n",
              "    </tr>\n",
              "    <tr>\n",
              "      <th>5</th>\n",
              "      <td>강성희</td>\n",
              "      <td>2019-01-05</td>\n",
              "      <td>76.2</td>\n",
              "      <td>kg</td>\n",
              "      <td>김지수</td>\n",
              "      <td>강남</td>\n",
              "      <td>75.5</td>\n",
              "      <td>서울</td>\n",
              "      <td>True</td>\n",
              "      <td>76200.0</td>\n",
              "      <td>과체중</td>\n",
              "    </tr>\n",
              "    <tr>\n",
              "      <th>6</th>\n",
              "      <td>강성희</td>\n",
              "      <td>2019-01-06</td>\n",
              "      <td>75.7</td>\n",
              "      <td>kg</td>\n",
              "      <td>최재우</td>\n",
              "      <td>여의도</td>\n",
              "      <td>76.2</td>\n",
              "      <td>서울</td>\n",
              "      <td>True</td>\n",
              "      <td>75700.0</td>\n",
              "      <td>정상</td>\n",
              "    </tr>\n",
              "    <tr>\n",
              "      <th>7</th>\n",
              "      <td>강성희</td>\n",
              "      <td>2019-01-07</td>\n",
              "      <td>75.5</td>\n",
              "      <td>kg</td>\n",
              "      <td>최재우</td>\n",
              "      <td>여의도</td>\n",
              "      <td>75.7</td>\n",
              "      <td>서울</td>\n",
              "      <td>True</td>\n",
              "      <td>75500.0</td>\n",
              "      <td>정상</td>\n",
              "    </tr>\n",
              "    <tr>\n",
              "      <th>8</th>\n",
              "      <td>강성희</td>\n",
              "      <td>2019-01-08</td>\n",
              "      <td>75.5</td>\n",
              "      <td>kg</td>\n",
              "      <td>김민철</td>\n",
              "      <td>여의도</td>\n",
              "      <td>75.5</td>\n",
              "      <td>서울</td>\n",
              "      <td>False</td>\n",
              "      <td>75500.0</td>\n",
              "      <td>정상</td>\n",
              "    </tr>\n",
              "    <tr>\n",
              "      <th>9</th>\n",
              "      <td>강성희</td>\n",
              "      <td>2019-01-09</td>\n",
              "      <td>75.0</td>\n",
              "      <td>kg</td>\n",
              "      <td>김민철</td>\n",
              "      <td>여의도</td>\n",
              "      <td>75.5</td>\n",
              "      <td>서울</td>\n",
              "      <td>True</td>\n",
              "      <td>75000.0</td>\n",
              "      <td>정상</td>\n",
              "    </tr>\n",
              "  </tbody>\n",
              "</table>\n",
              "</div>"
            ],
            "text/plain": [
              "     이름        측정일   몸무게  단위   담당   지점  몸무게(prev)  지역     결제  몸무게(gram)   상태\n",
              "회차                                                                          \n",
              "1   강성희 2019-01-01  76.4  kg  김지수   강남        NaN  서울   True    76400.0  과체중\n",
              "2   강성희 2019-01-02  75.7  kg  김지수   강남       76.4  서울   True    75700.0   정상\n",
              "3   강성희 2019-01-03  76.0  kg  김지수   강남       75.7  서울   True    76000.0  과체중\n",
              "4   강성희 2019-01-04  75.5  kg  최재우  여의도       76.0  서울   True    75500.0   정상\n",
              "5   강성희 2019-01-05  76.2  kg  김지수   강남       75.5  서울   True    76200.0  과체중\n",
              "6   강성희 2019-01-06  75.7  kg  최재우  여의도       76.2  서울   True    75700.0   정상\n",
              "7   강성희 2019-01-07  75.5  kg  최재우  여의도       75.7  서울   True    75500.0   정상\n",
              "8   강성희 2019-01-08  75.5  kg  김민철  여의도       75.5  서울  False    75500.0   정상\n",
              "9   강성희 2019-01-09  75.0  kg  김민철  여의도       75.5  서울   True    75000.0   정상"
            ]
          },
          "metadata": {
            "tags": []
          },
          "execution_count": 41
        }
      ]
    },
    {
      "cell_type": "code",
      "metadata": {
        "id": "cWGCgUU4cnVk",
        "colab_type": "code",
        "colab": {
          "base_uri": "https://localhost:8080/",
          "height": 359
        },
        "outputId": "d6d2514e-3180-4a6f-c485-2390a42f8e80"
      },
      "source": [
        "data = data.drop([\"몸무게(prev)\", \"몸무게(gram)\"], axis = \"columns\")\n",
        "data"
      ],
      "execution_count": null,
      "outputs": [
        {
          "output_type": "execute_result",
          "data": {
            "text/html": [
              "<div>\n",
              "<style scoped>\n",
              "    .dataframe tbody tr th:only-of-type {\n",
              "        vertical-align: middle;\n",
              "    }\n",
              "\n",
              "    .dataframe tbody tr th {\n",
              "        vertical-align: top;\n",
              "    }\n",
              "\n",
              "    .dataframe thead th {\n",
              "        text-align: right;\n",
              "    }\n",
              "</style>\n",
              "<table border=\"1\" class=\"dataframe\">\n",
              "  <thead>\n",
              "    <tr style=\"text-align: right;\">\n",
              "      <th></th>\n",
              "      <th>이름</th>\n",
              "      <th>측정일</th>\n",
              "      <th>몸무게</th>\n",
              "      <th>단위</th>\n",
              "      <th>담당</th>\n",
              "      <th>지점</th>\n",
              "      <th>지역</th>\n",
              "      <th>결제</th>\n",
              "      <th>상태</th>\n",
              "    </tr>\n",
              "    <tr>\n",
              "      <th>회차</th>\n",
              "      <th></th>\n",
              "      <th></th>\n",
              "      <th></th>\n",
              "      <th></th>\n",
              "      <th></th>\n",
              "      <th></th>\n",
              "      <th></th>\n",
              "      <th></th>\n",
              "      <th></th>\n",
              "    </tr>\n",
              "  </thead>\n",
              "  <tbody>\n",
              "    <tr>\n",
              "      <th>1</th>\n",
              "      <td>강성희</td>\n",
              "      <td>2019-01-01</td>\n",
              "      <td>76.4</td>\n",
              "      <td>kg</td>\n",
              "      <td>김지수</td>\n",
              "      <td>강남</td>\n",
              "      <td>서울</td>\n",
              "      <td>True</td>\n",
              "      <td>과체중</td>\n",
              "    </tr>\n",
              "    <tr>\n",
              "      <th>2</th>\n",
              "      <td>강성희</td>\n",
              "      <td>2019-01-02</td>\n",
              "      <td>75.7</td>\n",
              "      <td>kg</td>\n",
              "      <td>김지수</td>\n",
              "      <td>강남</td>\n",
              "      <td>서울</td>\n",
              "      <td>True</td>\n",
              "      <td>정상</td>\n",
              "    </tr>\n",
              "    <tr>\n",
              "      <th>3</th>\n",
              "      <td>강성희</td>\n",
              "      <td>2019-01-03</td>\n",
              "      <td>76.0</td>\n",
              "      <td>kg</td>\n",
              "      <td>김지수</td>\n",
              "      <td>강남</td>\n",
              "      <td>서울</td>\n",
              "      <td>True</td>\n",
              "      <td>과체중</td>\n",
              "    </tr>\n",
              "    <tr>\n",
              "      <th>4</th>\n",
              "      <td>강성희</td>\n",
              "      <td>2019-01-04</td>\n",
              "      <td>75.5</td>\n",
              "      <td>kg</td>\n",
              "      <td>최재우</td>\n",
              "      <td>여의도</td>\n",
              "      <td>서울</td>\n",
              "      <td>True</td>\n",
              "      <td>정상</td>\n",
              "    </tr>\n",
              "    <tr>\n",
              "      <th>5</th>\n",
              "      <td>강성희</td>\n",
              "      <td>2019-01-05</td>\n",
              "      <td>76.2</td>\n",
              "      <td>kg</td>\n",
              "      <td>김지수</td>\n",
              "      <td>강남</td>\n",
              "      <td>서울</td>\n",
              "      <td>True</td>\n",
              "      <td>과체중</td>\n",
              "    </tr>\n",
              "    <tr>\n",
              "      <th>6</th>\n",
              "      <td>강성희</td>\n",
              "      <td>2019-01-06</td>\n",
              "      <td>75.7</td>\n",
              "      <td>kg</td>\n",
              "      <td>최재우</td>\n",
              "      <td>여의도</td>\n",
              "      <td>서울</td>\n",
              "      <td>True</td>\n",
              "      <td>정상</td>\n",
              "    </tr>\n",
              "    <tr>\n",
              "      <th>7</th>\n",
              "      <td>강성희</td>\n",
              "      <td>2019-01-07</td>\n",
              "      <td>75.5</td>\n",
              "      <td>kg</td>\n",
              "      <td>최재우</td>\n",
              "      <td>여의도</td>\n",
              "      <td>서울</td>\n",
              "      <td>True</td>\n",
              "      <td>정상</td>\n",
              "    </tr>\n",
              "    <tr>\n",
              "      <th>8</th>\n",
              "      <td>강성희</td>\n",
              "      <td>2019-01-08</td>\n",
              "      <td>75.5</td>\n",
              "      <td>kg</td>\n",
              "      <td>김민철</td>\n",
              "      <td>여의도</td>\n",
              "      <td>서울</td>\n",
              "      <td>False</td>\n",
              "      <td>정상</td>\n",
              "    </tr>\n",
              "    <tr>\n",
              "      <th>9</th>\n",
              "      <td>강성희</td>\n",
              "      <td>2019-01-09</td>\n",
              "      <td>75.0</td>\n",
              "      <td>kg</td>\n",
              "      <td>김민철</td>\n",
              "      <td>여의도</td>\n",
              "      <td>서울</td>\n",
              "      <td>True</td>\n",
              "      <td>정상</td>\n",
              "    </tr>\n",
              "  </tbody>\n",
              "</table>\n",
              "</div>"
            ],
            "text/plain": [
              "     이름        측정일   몸무게  단위   담당   지점  지역     결제   상태\n",
              "회차                                                    \n",
              "1   강성희 2019-01-01  76.4  kg  김지수   강남  서울   True  과체중\n",
              "2   강성희 2019-01-02  75.7  kg  김지수   강남  서울   True   정상\n",
              "3   강성희 2019-01-03  76.0  kg  김지수   강남  서울   True  과체중\n",
              "4   강성희 2019-01-04  75.5  kg  최재우  여의도  서울   True   정상\n",
              "5   강성희 2019-01-05  76.2  kg  김지수   강남  서울   True  과체중\n",
              "6   강성희 2019-01-06  75.7  kg  최재우  여의도  서울   True   정상\n",
              "7   강성희 2019-01-07  75.5  kg  최재우  여의도  서울   True   정상\n",
              "8   강성희 2019-01-08  75.5  kg  김민철  여의도  서울  False   정상\n",
              "9   강성희 2019-01-09  75.0  kg  김민철  여의도  서울   True   정상"
            ]
          },
          "metadata": {
            "tags": []
          },
          "execution_count": 42
        }
      ]
    },
    {
      "cell_type": "markdown",
      "metadata": {
        "id": "TJD6H1Agd5UV",
        "colab_type": "text"
      },
      "source": [
        "# 2. 시각화 (Seaborn)"
      ]
    },
    {
      "cell_type": "markdown",
      "metadata": {
        "id": "NxkXbtK2kBuC",
        "colab_type": "text"
      },
      "source": [
        "## 데이터 준비 (타이타닉)"
      ]
    },
    {
      "cell_type": "code",
      "metadata": {
        "id": "JNLapvvjiMnN",
        "colab_type": "code",
        "colab": {
          "base_uri": "https://localhost:8080/",
          "height": 73
        },
        "outputId": "bc32f1f6-62e3-42a3-c7dd-0a7930c0f27d"
      },
      "source": [
        "import seaborn as sns\n",
        "## 시각화 옵션 : 파일로 저장, 화면에 바로 띄우기 \n",
        "# 화면에 바로 띄우기\n",
        "%matplotlib inline"
      ],
      "execution_count": null,
      "outputs": [
        {
          "output_type": "stream",
          "text": [
            "/usr/local/lib/python3.6/dist-packages/statsmodels/tools/_testing.py:19: FutureWarning: pandas.util.testing is deprecated. Use the functions in the public API at pandas.testing instead.\n",
            "  import pandas.util.testing as tm\n"
          ],
          "name": "stderr"
        }
      ]
    },
    {
      "cell_type": "code",
      "metadata": {
        "id": "pYQZ1PPHc0jN",
        "colab_type": "code",
        "colab": {
          "base_uri": "https://localhost:8080/",
          "height": 315
        },
        "outputId": "515aa567-b3a3-49a5-9ab4-fda0b62ac717"
      },
      "source": [
        "train = pd.read_csv(\"/content/drive/My Drive/Colab Notebooks/data/titanic/train.csv\")\n",
        "train.head(3)"
      ],
      "execution_count": null,
      "outputs": [
        {
          "output_type": "execute_result",
          "data": {
            "text/html": [
              "<div>\n",
              "<style scoped>\n",
              "    .dataframe tbody tr th:only-of-type {\n",
              "        vertical-align: middle;\n",
              "    }\n",
              "\n",
              "    .dataframe tbody tr th {\n",
              "        vertical-align: top;\n",
              "    }\n",
              "\n",
              "    .dataframe thead th {\n",
              "        text-align: right;\n",
              "    }\n",
              "</style>\n",
              "<table border=\"1\" class=\"dataframe\">\n",
              "  <thead>\n",
              "    <tr style=\"text-align: right;\">\n",
              "      <th></th>\n",
              "      <th>PassengerId</th>\n",
              "      <th>Survived</th>\n",
              "      <th>Pclass</th>\n",
              "      <th>Name</th>\n",
              "      <th>Sex</th>\n",
              "      <th>Age</th>\n",
              "      <th>SibSp</th>\n",
              "      <th>Parch</th>\n",
              "      <th>Ticket</th>\n",
              "      <th>Fare</th>\n",
              "      <th>Cabin</th>\n",
              "      <th>Embarked</th>\n",
              "    </tr>\n",
              "  </thead>\n",
              "  <tbody>\n",
              "    <tr>\n",
              "      <th>0</th>\n",
              "      <td>1</td>\n",
              "      <td>0</td>\n",
              "      <td>3</td>\n",
              "      <td>Braund, Mr. Owen Harris</td>\n",
              "      <td>male</td>\n",
              "      <td>22.0</td>\n",
              "      <td>1</td>\n",
              "      <td>0</td>\n",
              "      <td>A/5 21171</td>\n",
              "      <td>7.2500</td>\n",
              "      <td>NaN</td>\n",
              "      <td>S</td>\n",
              "    </tr>\n",
              "    <tr>\n",
              "      <th>1</th>\n",
              "      <td>2</td>\n",
              "      <td>1</td>\n",
              "      <td>1</td>\n",
              "      <td>Cumings, Mrs. John Bradley (Florence Briggs Th...</td>\n",
              "      <td>female</td>\n",
              "      <td>38.0</td>\n",
              "      <td>1</td>\n",
              "      <td>0</td>\n",
              "      <td>PC 17599</td>\n",
              "      <td>71.2833</td>\n",
              "      <td>C85</td>\n",
              "      <td>C</td>\n",
              "    </tr>\n",
              "    <tr>\n",
              "      <th>2</th>\n",
              "      <td>3</td>\n",
              "      <td>1</td>\n",
              "      <td>3</td>\n",
              "      <td>Heikkinen, Miss. Laina</td>\n",
              "      <td>female</td>\n",
              "      <td>26.0</td>\n",
              "      <td>0</td>\n",
              "      <td>0</td>\n",
              "      <td>STON/O2. 3101282</td>\n",
              "      <td>7.9250</td>\n",
              "      <td>NaN</td>\n",
              "      <td>S</td>\n",
              "    </tr>\n",
              "  </tbody>\n",
              "</table>\n",
              "</div>"
            ],
            "text/plain": [
              "   PassengerId  Survived  Pclass  ...     Fare Cabin  Embarked\n",
              "0            1         0       3  ...   7.2500   NaN         S\n",
              "1            2         1       1  ...  71.2833   C85         C\n",
              "2            3         1       3  ...   7.9250   NaN         S\n",
              "\n",
              "[3 rows x 12 columns]"
            ]
          },
          "metadata": {
            "tags": []
          },
          "execution_count": 45
        }
      ]
    },
    {
      "cell_type": "markdown",
      "metadata": {
        "id": "IH54uBTdj0k8",
        "colab_type": "text"
      },
      "source": [
        "## countplot vs. barplot vs. pointplot"
      ]
    },
    {
      "cell_type": "markdown",
      "metadata": {
        "id": "BbCfdw9hnlCc",
        "colab_type": "text"
      },
      "source": [
        "* 일반적으로 명목형, 이진형 변수 1개의 도수 구할 땐 count plot,\n",
        "* 수치형 변수가 들어갈 땐 bar plot (y축에 수치형)\n",
        "* hue는 종류가 너무 많지 않은 게 좋음 (많아도 3개정도?)"
      ]
    },
    {
      "cell_type": "code",
      "metadata": {
        "id": "sDhsAZm4jzow",
        "colab_type": "code",
        "colab": {
          "base_uri": "https://localhost:8080/",
          "height": 297
        },
        "outputId": "caa779af-ec8b-4092-9725-89b6e41745a1"
      },
      "source": [
        "sns.countplot(data=train, x=\"Embarked\", hue=\"Survived\")"
      ],
      "execution_count": null,
      "outputs": [
        {
          "output_type": "execute_result",
          "data": {
            "text/plain": [
              "<matplotlib.axes._subplots.AxesSubplot at 0x7f3a3a3a9128>"
            ]
          },
          "metadata": {
            "tags": []
          },
          "execution_count": 46
        },
        {
          "output_type": "display_data",
          "data": {
            "image/png": "[encoded data removed]",
            "text/plain": [
              "<Figure size 432x288 with 1 Axes>"
            ]
          },
          "metadata": {
            "tags": [],
            "needs_background": "light"
          }
        }
      ]
    },
    {
      "cell_type": "code",
      "metadata": {
        "id": "Ife0mHwMkn9G",
        "colab_type": "code",
        "colab": {
          "base_uri": "https://localhost:8080/",
          "height": 173
        },
        "outputId": "bf110643-0403-4bd9-f15a-fa4c3a1d5f1f"
      },
      "source": [
        "pd.pivot_table(train, index=\"Embarked\", values=\"Fare\")"
      ],
      "execution_count": null,
      "outputs": [
        {
          "output_type": "execute_result",
          "data": {
            "text/html": [
              "<div>\n",
              "<style scoped>\n",
              "    .dataframe tbody tr th:only-of-type {\n",
              "        vertical-align: middle;\n",
              "    }\n",
              "\n",
              "    .dataframe tbody tr th {\n",
              "        vertical-align: top;\n",
              "    }\n",
              "\n",
              "    .dataframe thead th {\n",
              "        text-align: right;\n",
              "    }\n",
              "</style>\n",
              "<table border=\"1\" class=\"dataframe\">\n",
              "  <thead>\n",
              "    <tr style=\"text-align: right;\">\n",
              "      <th></th>\n",
              "      <th>Fare</th>\n",
              "    </tr>\n",
              "    <tr>\n",
              "      <th>Embarked</th>\n",
              "      <th></th>\n",
              "    </tr>\n",
              "  </thead>\n",
              "  <tbody>\n",
              "    <tr>\n",
              "      <th>C</th>\n",
              "      <td>59.954144</td>\n",
              "    </tr>\n",
              "    <tr>\n",
              "      <th>Q</th>\n",
              "      <td>13.276030</td>\n",
              "    </tr>\n",
              "    <tr>\n",
              "      <th>S</th>\n",
              "      <td>27.079812</td>\n",
              "    </tr>\n",
              "  </tbody>\n",
              "</table>\n",
              "</div>"
            ],
            "text/plain": [
              "               Fare\n",
              "Embarked           \n",
              "C         59.954144\n",
              "Q         13.276030\n",
              "S         27.079812"
            ]
          },
          "metadata": {
            "tags": []
          },
          "execution_count": 47
        }
      ]
    },
    {
      "cell_type": "code",
      "metadata": {
        "id": "ajHQP1Ytk0XE",
        "colab_type": "code",
        "colab": {
          "base_uri": "https://localhost:8080/",
          "height": 297
        },
        "outputId": "0506c625-1961-4dfd-e37a-64e551a86e35"
      },
      "source": [
        "sns.countplot(data=train, x=\"Pclass\", hue=\"Survived\")"
      ],
      "execution_count": null,
      "outputs": [
        {
          "output_type": "execute_result",
          "data": {
            "text/plain": [
              "<matplotlib.axes._subplots.AxesSubplot at 0x7f3a3a2ef588>"
            ]
          },
          "metadata": {
            "tags": []
          },
          "execution_count": 48
        },
        {
          "output_type": "display_data",
          "data": {
            "image/png": "[encoded data removed]",
            "text/plain": [
              "<Figure size 432x288 with 1 Axes>"
            ]
          },
          "metadata": {
            "tags": [],
            "needs_background": "light"
          }
        }
      ]
    },
    {
      "cell_type": "code",
      "metadata": {
        "id": "hqhY-oo2lYAj",
        "colab_type": "code",
        "colab": {
          "base_uri": "https://localhost:8080/",
          "height": 297
        },
        "outputId": "c5ab8927-6b5f-41b2-8576-72c9b6b5c1af"
      },
      "source": [
        "sns.barplot(data=train, x=\"Pclass\", y=\"Fare\", hue=\"Survived\")\n",
        "# Y축은 수치형 데이터만 가능 -> x축 항목별 y축의 평균을 표시\n",
        "# 막대그래프 위의 검은 선 : 신뢰구간"
      ],
      "execution_count": null,
      "outputs": [
        {
          "output_type": "execute_result",
          "data": {
            "text/plain": [
              "<matplotlib.axes._subplots.AxesSubplot at 0x7f3a39e2a2e8>"
            ]
          },
          "metadata": {
            "tags": []
          },
          "execution_count": 49
        },
        {
          "output_type": "display_data",
          "data": {
            "image/png": "[encoded data removed]",
            "text/plain": [
              "<Figure size 432x288 with 1 Axes>"
            ]
          },
          "metadata": {
            "tags": [],
            "needs_background": "light"
          }
        }
      ]
    },
    {
      "cell_type": "markdown",
      "metadata": {
        "id": "lNE7IkCBeYBW",
        "colab_type": "text"
      },
      "source": [
        "**pointplot**\n",
        "* bar plot과 사용법이 동일함\n",
        "* X축 값들이 서로 순서 상의 연관성이 있을 땐 point plot을 사용 \n",
        "* ex. 시간당 매출액의 변화량"
      ]
    },
    {
      "cell_type": "code",
      "metadata": {
        "id": "cGZdmwKjd8O6",
        "colab_type": "code",
        "colab": {
          "base_uri": "https://localhost:8080/",
          "height": 297
        },
        "outputId": "f3b29d02-8b1c-4a61-a7ef-8f0ce4861a27"
      },
      "source": [
        "sns.pointplot(data=train, x=\"Pclass\", y=\"Fare\", hue=\"Survived\")"
      ],
      "execution_count": null,
      "outputs": [
        {
          "output_type": "execute_result",
          "data": {
            "text/plain": [
              "<matplotlib.axes._subplots.AxesSubplot at 0x7f3a39d9c8d0>"
            ]
          },
          "metadata": {
            "tags": []
          },
          "execution_count": 50
        },
        {
          "output_type": "display_data",
          "data": {
            "image/png": "[encoded data removed]",
            "text/plain": [
              "<Figure size 432x288 with 1 Axes>"
            ]
          },
          "metadata": {
            "tags": [],
            "needs_background": "light"
          }
        }
      ]
    },
    {
      "cell_type": "markdown",
      "metadata": {
        "id": "AA4H7qmAhirO",
        "colab_type": "text"
      },
      "source": [
        "## lmplot"
      ]
    },
    {
      "cell_type": "markdown",
      "metadata": {
        "id": "2TW495Lphv6q",
        "colab_type": "text"
      },
      "source": [
        "* x, y축에 연속형 데이터가 들어갈 때 lmplot 사용\n",
        "* 추세선은 잘 쓰이지 않음 (없애는 걸 권장)\n",
        "<br>→ 얻을 수 있는 정보도 별로 없고 그리는 데 시간 오래 걸림\n",
        "* outlier 발견하기 쉽다"
      ]
    },
    {
      "cell_type": "code",
      "metadata": {
        "id": "A6zSHJ7ehiL9",
        "colab_type": "code",
        "colab": {
          "base_uri": "https://localhost:8080/",
          "height": 387
        },
        "outputId": "8a653d12-5fba-45fb-e30d-9a1b0f0b7e73"
      },
      "source": [
        "sns.lmplot(data=train, x=\"Age\", y=\"Fare\", hue=\"Survived\", fit_reg=False)"
      ],
      "execution_count": null,
      "outputs": [
        {
          "output_type": "execute_result",
          "data": {
            "text/plain": [
              "<seaborn.axisgrid.FacetGrid at 0x7f3a39d2cb70>"
            ]
          },
          "metadata": {
            "tags": []
          },
          "execution_count": 51
        },
        {
          "output_type": "display_data",
          "data": {
            "image/png": "[encoded data removed]",
            "text/plain": [
              "<Figure size 411.875x360 with 1 Axes>"
            ]
          },
          "metadata": {
            "tags": [],
            "needs_background": "light"
          }
        }
      ]
    },
    {
      "cell_type": "code",
      "metadata": {
        "id": "Tg8bYN99iSsO",
        "colab_type": "code",
        "colab": {
          "base_uri": "https://localhost:8080/",
          "height": 387
        },
        "outputId": "ec772123-fd09-48bf-a279-ae8cd7352faa"
      },
      "source": [
        "## 이상치 제외\n",
        "low_fare = train[\"Fare\"] < 500\n",
        "sns.lmplot(data=train[low_fare], x=\"Age\", y=\"Fare\", hue=\"Survived\", fit_reg=False)"
      ],
      "execution_count": null,
      "outputs": [
        {
          "output_type": "execute_result",
          "data": {
            "text/plain": [
              "<seaborn.axisgrid.FacetGrid at 0x7f3a374c76d8>"
            ]
          },
          "metadata": {
            "tags": []
          },
          "execution_count": 52
        },
        {
          "output_type": "display_data",
          "data": {
            "image/png": "[encoded data removed]",
            "text/plain": [
              "<Figure size 411.875x360 with 1 Axes>"
            ]
          },
          "metadata": {
            "tags": [],
            "needs_background": "light"
          }
        }
      ]
    },
    {
      "cell_type": "markdown",
      "metadata": {
        "id": "a1lf8kuqj9q5",
        "colab_type": "text"
      },
      "source": [
        "## distplot"
      ]
    },
    {
      "cell_type": "markdown",
      "metadata": {
        "id": "BC83ikZGkYTz",
        "colab_type": "text"
      },
      "source": [
        "* 수치형 데이터의 분포를 시각화\n",
        "* 이론적으로 정규분포에 근사해야 하나, 실제 그렇지 않은 경우 많음\n",
        "<br>→ 그 이유를 파고들어야!\n"
      ]
    },
    {
      "cell_type": "code",
      "metadata": {
        "id": "4KYYfZ7gkJuC",
        "colab_type": "code",
        "colab": {
          "base_uri": "https://localhost:8080/",
          "height": 298
        },
        "outputId": "e58184f1-7c72-4706-f074-90055f8ec993"
      },
      "source": [
        "sns.distplot(train[\"Fare\"])"
      ],
      "execution_count": null,
      "outputs": [
        {
          "output_type": "execute_result",
          "data": {
            "text/plain": [
              "<matplotlib.axes._subplots.AxesSubplot at 0x7f3a3749bc88>"
            ]
          },
          "metadata": {
            "tags": []
          },
          "execution_count": 53
        },
        {
          "output_type": "display_data",
          "data": {
            "image/png": "[encoded data removed]",
            "text/plain": [
              "<Figure size 432x288 with 1 Axes>"
            ]
          },
          "metadata": {
            "tags": [],
            "needs_background": "light"
          }
        }
      ]
    },
    {
      "cell_type": "code",
      "metadata": {
        "id": "FatshF7LkjAb",
        "colab_type": "code",
        "colab": {
          "base_uri": "https://localhost:8080/",
          "height": 297
        },
        "outputId": "a034e442-8ba3-4543-f7a9-f0d2b65bae5c"
      },
      "source": [
        "## 이상치(?) 제외\n",
        "low_fare = train[train[\"Fare\"] < 100]\n",
        "sns.distplot(low_fare[\"Fare\"])"
      ],
      "execution_count": null,
      "outputs": [
        {
          "output_type": "execute_result",
          "data": {
            "text/plain": [
              "<matplotlib.axes._subplots.AxesSubplot at 0x7f3a373151d0>"
            ]
          },
          "metadata": {
            "tags": []
          },
          "execution_count": 54
        },
        {
          "output_type": "display_data",
          "data": {
            "image/png": "[encoded data removed]",
            "text/plain": [
              "<Figure size 432x288 with 1 Axes>"
            ]
          },
          "metadata": {
            "tags": [],
            "needs_background": "light"
          }
        }
      ]
    },
    {
      "cell_type": "markdown",
      "metadata": {
        "id": "uNUNMbATl6um",
        "colab_type": "text"
      },
      "source": [
        "위 그래프에서 왜 정규분포가 나타나지 않는 걸까? (+ 봉우리도 여러 개)<br><br>\n",
        "가설: Pclass마다 운임요금의 분포가 달라서일 것이다."
      ]
    },
    {
      "cell_type": "markdown",
      "metadata": {
        "id": "N4MR96dzm8dN",
        "colab_type": "text"
      },
      "source": [
        "## 그외의 시각화"
      ]
    },
    {
      "cell_type": "markdown",
      "metadata": {
        "id": "zJk1rI4KnAhb",
        "colab_type": "text"
      },
      "source": [
        "seaborn 홈페이지에서 시각화 종류 검색!<br>\n",
        "https://seaborn.pydata.org/examples/index.html"
      ]
    },
    {
      "cell_type": "markdown",
      "metadata": {
        "id": "FF0GHbwsoWyo",
        "colab_type": "text"
      },
      "source": [
        "# 3. Decision Tree"
      ]
    },
    {
      "cell_type": "markdown",
      "metadata": {
        "id": "0K6OYg15sCgK",
        "colab_type": "text"
      },
      "source": [
        "## 데이터 불러오기"
      ]
    },
    {
      "cell_type": "code",
      "metadata": {
        "id": "kzMSwfQbnqtk",
        "colab_type": "code",
        "colab": {
          "base_uri": "https://localhost:8080/",
          "height": 364
        },
        "outputId": "dbb85d57-c721-4500-a384-edaa37c5cd48"
      },
      "source": [
        "train = pd.read_csv(\"/content/drive/My Drive/Colab Notebooks/data/titanic/train.csv\", index_col=\"PassengerId\")\n",
        "\n",
        "print(train.shape)\n",
        "train.head(3)"
      ],
      "execution_count": null,
      "outputs": [
        {
          "output_type": "stream",
          "text": [
            "(891, 11)\n"
          ],
          "name": "stdout"
        },
        {
          "output_type": "execute_result",
          "data": {
            "text/html": [
              "<div>\n",
              "<style scoped>\n",
              "    .dataframe tbody tr th:only-of-type {\n",
              "        vertical-align: middle;\n",
              "    }\n",
              "\n",
              "    .dataframe tbody tr th {\n",
              "        vertical-align: top;\n",
              "    }\n",
              "\n",
              "    .dataframe thead th {\n",
              "        text-align: right;\n",
              "    }\n",
              "</style>\n",
              "<table border=\"1\" class=\"dataframe\">\n",
              "  <thead>\n",
              "    <tr style=\"text-align: right;\">\n",
              "      <th></th>\n",
              "      <th>Survived</th>\n",
              "      <th>Pclass</th>\n",
              "      <th>Name</th>\n",
              "      <th>Sex</th>\n",
              "      <th>Age</th>\n",
              "      <th>SibSp</th>\n",
              "      <th>Parch</th>\n",
              "      <th>Ticket</th>\n",
              "      <th>Fare</th>\n",
              "      <th>Cabin</th>\n",
              "      <th>Embarked</th>\n",
              "    </tr>\n",
              "    <tr>\n",
              "      <th>PassengerId</th>\n",
              "      <th></th>\n",
              "      <th></th>\n",
              "      <th></th>\n",
              "      <th></th>\n",
              "      <th></th>\n",
              "      <th></th>\n",
              "      <th></th>\n",
              "      <th></th>\n",
              "      <th></th>\n",
              "      <th></th>\n",
              "      <th></th>\n",
              "    </tr>\n",
              "  </thead>\n",
              "  <tbody>\n",
              "    <tr>\n",
              "      <th>1</th>\n",
              "      <td>0</td>\n",
              "      <td>3</td>\n",
              "      <td>Braund, Mr. Owen Harris</td>\n",
              "      <td>male</td>\n",
              "      <td>22.0</td>\n",
              "      <td>1</td>\n",
              "      <td>0</td>\n",
              "      <td>A/5 21171</td>\n",
              "      <td>7.2500</td>\n",
              "      <td>NaN</td>\n",
              "      <td>S</td>\n",
              "    </tr>\n",
              "    <tr>\n",
              "      <th>2</th>\n",
              "      <td>1</td>\n",
              "      <td>1</td>\n",
              "      <td>Cumings, Mrs. John Bradley (Florence Briggs Th...</td>\n",
              "      <td>female</td>\n",
              "      <td>38.0</td>\n",
              "      <td>1</td>\n",
              "      <td>0</td>\n",
              "      <td>PC 17599</td>\n",
              "      <td>71.2833</td>\n",
              "      <td>C85</td>\n",
              "      <td>C</td>\n",
              "    </tr>\n",
              "    <tr>\n",
              "      <th>3</th>\n",
              "      <td>1</td>\n",
              "      <td>3</td>\n",
              "      <td>Heikkinen, Miss. Laina</td>\n",
              "      <td>female</td>\n",
              "      <td>26.0</td>\n",
              "      <td>0</td>\n",
              "      <td>0</td>\n",
              "      <td>STON/O2. 3101282</td>\n",
              "      <td>7.9250</td>\n",
              "      <td>NaN</td>\n",
              "      <td>S</td>\n",
              "    </tr>\n",
              "  </tbody>\n",
              "</table>\n",
              "</div>"
            ],
            "text/plain": [
              "             Survived  Pclass  ... Cabin Embarked\n",
              "PassengerId                    ...               \n",
              "1                   0       3  ...   NaN        S\n",
              "2                   1       1  ...   C85        C\n",
              "3                   1       3  ...   NaN        S\n",
              "\n",
              "[3 rows x 11 columns]"
            ]
          },
          "metadata": {
            "tags": []
          },
          "execution_count": 55
        }
      ]
    },
    {
      "cell_type": "code",
      "metadata": {
        "id": "jLawQhksoFPd",
        "colab_type": "code",
        "colab": {
          "base_uri": "https://localhost:8080/",
          "height": 364
        },
        "outputId": "8092cba6-2e0f-4823-c3b8-75c98fa17c50"
      },
      "source": [
        "test = pd.read_csv(\"/content/drive/My Drive/Colab Notebooks/data/titanic/test.csv\", index_col=\"PassengerId\")\n",
        "\n",
        "print(train.shape)\n",
        "train.head(3)"
      ],
      "execution_count": null,
      "outputs": [
        {
          "output_type": "stream",
          "text": [
            "(891, 11)\n"
          ],
          "name": "stdout"
        },
        {
          "output_type": "execute_result",
          "data": {
            "text/html": [
              "<div>\n",
              "<style scoped>\n",
              "    .dataframe tbody tr th:only-of-type {\n",
              "        vertical-align: middle;\n",
              "    }\n",
              "\n",
              "    .dataframe tbody tr th {\n",
              "        vertical-align: top;\n",
              "    }\n",
              "\n",
              "    .dataframe thead th {\n",
              "        text-align: right;\n",
              "    }\n",
              "</style>\n",
              "<table border=\"1\" class=\"dataframe\">\n",
              "  <thead>\n",
              "    <tr style=\"text-align: right;\">\n",
              "      <th></th>\n",
              "      <th>Survived</th>\n",
              "      <th>Pclass</th>\n",
              "      <th>Name</th>\n",
              "      <th>Sex</th>\n",
              "      <th>Age</th>\n",
              "      <th>SibSp</th>\n",
              "      <th>Parch</th>\n",
              "      <th>Ticket</th>\n",
              "      <th>Fare</th>\n",
              "      <th>Cabin</th>\n",
              "      <th>Embarked</th>\n",
              "    </tr>\n",
              "    <tr>\n",
              "      <th>PassengerId</th>\n",
              "      <th></th>\n",
              "      <th></th>\n",
              "      <th></th>\n",
              "      <th></th>\n",
              "      <th></th>\n",
              "      <th></th>\n",
              "      <th></th>\n",
              "      <th></th>\n",
              "      <th></th>\n",
              "      <th></th>\n",
              "      <th></th>\n",
              "    </tr>\n",
              "  </thead>\n",
              "  <tbody>\n",
              "    <tr>\n",
              "      <th>1</th>\n",
              "      <td>0</td>\n",
              "      <td>3</td>\n",
              "      <td>Braund, Mr. Owen Harris</td>\n",
              "      <td>male</td>\n",
              "      <td>22.0</td>\n",
              "      <td>1</td>\n",
              "      <td>0</td>\n",
              "      <td>A/5 21171</td>\n",
              "      <td>7.2500</td>\n",
              "      <td>NaN</td>\n",
              "      <td>S</td>\n",
              "    </tr>\n",
              "    <tr>\n",
              "      <th>2</th>\n",
              "      <td>1</td>\n",
              "      <td>1</td>\n",
              "      <td>Cumings, Mrs. John Bradley (Florence Briggs Th...</td>\n",
              "      <td>female</td>\n",
              "      <td>38.0</td>\n",
              "      <td>1</td>\n",
              "      <td>0</td>\n",
              "      <td>PC 17599</td>\n",
              "      <td>71.2833</td>\n",
              "      <td>C85</td>\n",
              "      <td>C</td>\n",
              "    </tr>\n",
              "    <tr>\n",
              "      <th>3</th>\n",
              "      <td>1</td>\n",
              "      <td>3</td>\n",
              "      <td>Heikkinen, Miss. Laina</td>\n",
              "      <td>female</td>\n",
              "      <td>26.0</td>\n",
              "      <td>0</td>\n",
              "      <td>0</td>\n",
              "      <td>STON/O2. 3101282</td>\n",
              "      <td>7.9250</td>\n",
              "      <td>NaN</td>\n",
              "      <td>S</td>\n",
              "    </tr>\n",
              "  </tbody>\n",
              "</table>\n",
              "</div>"
            ],
            "text/plain": [
              "             Survived  Pclass  ... Cabin Embarked\n",
              "PassengerId                    ...               \n",
              "1                   0       3  ...   NaN        S\n",
              "2                   1       1  ...   C85        C\n",
              "3                   1       3  ...   NaN        S\n",
              "\n",
              "[3 rows x 11 columns]"
            ]
          },
          "metadata": {
            "tags": []
          },
          "execution_count": 56
        }
      ]
    },
    {
      "cell_type": "markdown",
      "metadata": {
        "id": "Tk81Ki8cr9jT",
        "colab_type": "text"
      },
      "source": [
        "## Preprocessing"
      ]
    },
    {
      "cell_type": "markdown",
      "metadata": {
        "id": "Fr6oHQUkslVT",
        "colab_type": "text"
      },
      "source": [
        "### Encode Sex"
      ]
    },
    {
      "cell_type": "code",
      "metadata": {
        "id": "c19onCLpoTZx",
        "colab_type": "code",
        "colab": {
          "base_uri": "https://localhost:8080/",
          "height": 235
        },
        "outputId": "869d097e-9467-4f5a-8cda-927ca130af35"
      },
      "source": [
        "train[\"Sex_encode\"] = train[\"Sex\"].replace(\"male\", 0).replace(\"female\", 1)\n",
        "train[[\"Sex\", \"Sex_encode\"]].head()"
      ],
      "execution_count": null,
      "outputs": [
        {
          "output_type": "execute_result",
          "data": {
            "text/html": [
              "<div>\n",
              "<style scoped>\n",
              "    .dataframe tbody tr th:only-of-type {\n",
              "        vertical-align: middle;\n",
              "    }\n",
              "\n",
              "    .dataframe tbody tr th {\n",
              "        vertical-align: top;\n",
              "    }\n",
              "\n",
              "    .dataframe thead th {\n",
              "        text-align: right;\n",
              "    }\n",
              "</style>\n",
              "<table border=\"1\" class=\"dataframe\">\n",
              "  <thead>\n",
              "    <tr style=\"text-align: right;\">\n",
              "      <th></th>\n",
              "      <th>Sex</th>\n",
              "      <th>Sex_encode</th>\n",
              "    </tr>\n",
              "    <tr>\n",
              "      <th>PassengerId</th>\n",
              "      <th></th>\n",
              "      <th></th>\n",
              "    </tr>\n",
              "  </thead>\n",
              "  <tbody>\n",
              "    <tr>\n",
              "      <th>1</th>\n",
              "      <td>male</td>\n",
              "      <td>0</td>\n",
              "    </tr>\n",
              "    <tr>\n",
              "      <th>2</th>\n",
              "      <td>female</td>\n",
              "      <td>1</td>\n",
              "    </tr>\n",
              "    <tr>\n",
              "      <th>3</th>\n",
              "      <td>female</td>\n",
              "      <td>1</td>\n",
              "    </tr>\n",
              "    <tr>\n",
              "      <th>4</th>\n",
              "      <td>female</td>\n",
              "      <td>1</td>\n",
              "    </tr>\n",
              "    <tr>\n",
              "      <th>5</th>\n",
              "      <td>male</td>\n",
              "      <td>0</td>\n",
              "    </tr>\n",
              "  </tbody>\n",
              "</table>\n",
              "</div>"
            ],
            "text/plain": [
              "                Sex  Sex_encode\n",
              "PassengerId                    \n",
              "1              male           0\n",
              "2            female           1\n",
              "3            female           1\n",
              "4            female           1\n",
              "5              male           0"
            ]
          },
          "metadata": {
            "tags": []
          },
          "execution_count": 57
        }
      ]
    },
    {
      "cell_type": "code",
      "metadata": {
        "id": "uLIMtof1w_7b",
        "colab_type": "code",
        "colab": {
          "base_uri": "https://localhost:8080/",
          "height": 235
        },
        "outputId": "3faf7015-e038-46b8-f198-fbf932e6eb32"
      },
      "source": [
        "test[\"Sex_encode\"] = test[\"Sex\"].replace(\"male\", 0).replace(\"female\", 1)\n",
        "test[[\"Sex\", \"Sex_encode\"]].head()"
      ],
      "execution_count": null,
      "outputs": [
        {
          "output_type": "execute_result",
          "data": {
            "text/html": [
              "<div>\n",
              "<style scoped>\n",
              "    .dataframe tbody tr th:only-of-type {\n",
              "        vertical-align: middle;\n",
              "    }\n",
              "\n",
              "    .dataframe tbody tr th {\n",
              "        vertical-align: top;\n",
              "    }\n",
              "\n",
              "    .dataframe thead th {\n",
              "        text-align: right;\n",
              "    }\n",
              "</style>\n",
              "<table border=\"1\" class=\"dataframe\">\n",
              "  <thead>\n",
              "    <tr style=\"text-align: right;\">\n",
              "      <th></th>\n",
              "      <th>Sex</th>\n",
              "      <th>Sex_encode</th>\n",
              "    </tr>\n",
              "    <tr>\n",
              "      <th>PassengerId</th>\n",
              "      <th></th>\n",
              "      <th></th>\n",
              "    </tr>\n",
              "  </thead>\n",
              "  <tbody>\n",
              "    <tr>\n",
              "      <th>892</th>\n",
              "      <td>male</td>\n",
              "      <td>0</td>\n",
              "    </tr>\n",
              "    <tr>\n",
              "      <th>893</th>\n",
              "      <td>female</td>\n",
              "      <td>1</td>\n",
              "    </tr>\n",
              "    <tr>\n",
              "      <th>894</th>\n",
              "      <td>male</td>\n",
              "      <td>0</td>\n",
              "    </tr>\n",
              "    <tr>\n",
              "      <th>895</th>\n",
              "      <td>male</td>\n",
              "      <td>0</td>\n",
              "    </tr>\n",
              "    <tr>\n",
              "      <th>896</th>\n",
              "      <td>female</td>\n",
              "      <td>1</td>\n",
              "    </tr>\n",
              "  </tbody>\n",
              "</table>\n",
              "</div>"
            ],
            "text/plain": [
              "                Sex  Sex_encode\n",
              "PassengerId                    \n",
              "892            male           0\n",
              "893          female           1\n",
              "894            male           0\n",
              "895            male           0\n",
              "896          female           1"
            ]
          },
          "metadata": {
            "tags": []
          },
          "execution_count": 58
        }
      ]
    },
    {
      "cell_type": "markdown",
      "metadata": {
        "id": "-Mot7ysdGxGx",
        "colab_type": "text"
      },
      "source": [
        "### Encode Embarked (One Hot Encoding)"
      ]
    },
    {
      "cell_type": "markdown",
      "metadata": {
        "id": "kjCdV-zaG1rv",
        "colab_type": "text"
      },
      "source": [
        "**One Hot Encoding**\n",
        "* 경우의 수가 3가지가 넘어가는 범주형 변수 처리\n",
        "* C == [1,0,0],  S == [0,1,0],  Q ==[0,0,1]"
      ]
    },
    {
      "cell_type": "code",
      "metadata": {
        "id": "mEXDBcnBGy9X",
        "colab_type": "code",
        "colab": {
          "base_uri": "https://localhost:8080/",
          "height": 253
        },
        "outputId": "aeb7582a-7f8d-40f4-a6d0-2aa150aa2caa"
      },
      "source": [
        "train[\"Embarked_C\"] = train[\"Embarked\"] == \"C\"\n",
        "train[\"Embarked_S\"] = train[\"Embarked\"] == \"S\"\n",
        "train[\"Embarked_Q\"] = train[\"Embarked\"] == \"Q\"\n",
        "\n",
        "print(train.shape)\n",
        "train[[\"Embarked\", \"Embarked_C\", \"Embarked_Q\", \"Embarked_S\"]].head()"
      ],
      "execution_count": null,
      "outputs": [
        {
          "output_type": "stream",
          "text": [
            "(891, 15)\n"
          ],
          "name": "stdout"
        },
        {
          "output_type": "execute_result",
          "data": {
            "text/html": [
              "<div>\n",
              "<style scoped>\n",
              "    .dataframe tbody tr th:only-of-type {\n",
              "        vertical-align: middle;\n",
              "    }\n",
              "\n",
              "    .dataframe tbody tr th {\n",
              "        vertical-align: top;\n",
              "    }\n",
              "\n",
              "    .dataframe thead th {\n",
              "        text-align: right;\n",
              "    }\n",
              "</style>\n",
              "<table border=\"1\" class=\"dataframe\">\n",
              "  <thead>\n",
              "    <tr style=\"text-align: right;\">\n",
              "      <th></th>\n",
              "      <th>Embarked</th>\n",
              "      <th>Embarked_C</th>\n",
              "      <th>Embarked_Q</th>\n",
              "      <th>Embarked_S</th>\n",
              "    </tr>\n",
              "    <tr>\n",
              "      <th>PassengerId</th>\n",
              "      <th></th>\n",
              "      <th></th>\n",
              "      <th></th>\n",
              "      <th></th>\n",
              "    </tr>\n",
              "  </thead>\n",
              "  <tbody>\n",
              "    <tr>\n",
              "      <th>1</th>\n",
              "      <td>S</td>\n",
              "      <td>False</td>\n",
              "      <td>False</td>\n",
              "      <td>True</td>\n",
              "    </tr>\n",
              "    <tr>\n",
              "      <th>2</th>\n",
              "      <td>C</td>\n",
              "      <td>True</td>\n",
              "      <td>False</td>\n",
              "      <td>False</td>\n",
              "    </tr>\n",
              "    <tr>\n",
              "      <th>3</th>\n",
              "      <td>S</td>\n",
              "      <td>False</td>\n",
              "      <td>False</td>\n",
              "      <td>True</td>\n",
              "    </tr>\n",
              "    <tr>\n",
              "      <th>4</th>\n",
              "      <td>S</td>\n",
              "      <td>False</td>\n",
              "      <td>False</td>\n",
              "      <td>True</td>\n",
              "    </tr>\n",
              "    <tr>\n",
              "      <th>5</th>\n",
              "      <td>S</td>\n",
              "      <td>False</td>\n",
              "      <td>False</td>\n",
              "      <td>True</td>\n",
              "    </tr>\n",
              "  </tbody>\n",
              "</table>\n",
              "</div>"
            ],
            "text/plain": [
              "            Embarked  Embarked_C  Embarked_Q  Embarked_S\n",
              "PassengerId                                             \n",
              "1                  S       False       False        True\n",
              "2                  C        True       False       False\n",
              "3                  S       False       False        True\n",
              "4                  S       False       False        True\n",
              "5                  S       False       False        True"
            ]
          },
          "metadata": {
            "tags": []
          },
          "execution_count": 59
        }
      ]
    },
    {
      "cell_type": "code",
      "metadata": {
        "id": "6oaaHw6yHnGJ",
        "colab_type": "code",
        "colab": {
          "base_uri": "https://localhost:8080/",
          "height": 253
        },
        "outputId": "a59ef8e0-b406-430b-d6a4-08a3ec153000"
      },
      "source": [
        "test[\"Embarked_C\"] = test[\"Embarked\"] == \"C\"\n",
        "test[\"Embarked_S\"] = test[\"Embarked\"] == \"S\"\n",
        "test[\"Embarked_Q\"] = test[\"Embarked\"] == \"Q\"\n",
        "\n",
        "print(test.shape)\n",
        "test[[\"Embarked\", \"Embarked_C\", \"Embarked_Q\", \"Embarked_S\"]].head()"
      ],
      "execution_count": null,
      "outputs": [
        {
          "output_type": "stream",
          "text": [
            "(418, 14)\n"
          ],
          "name": "stdout"
        },
        {
          "output_type": "execute_result",
          "data": {
            "text/html": [
              "<div>\n",
              "<style scoped>\n",
              "    .dataframe tbody tr th:only-of-type {\n",
              "        vertical-align: middle;\n",
              "    }\n",
              "\n",
              "    .dataframe tbody tr th {\n",
              "        vertical-align: top;\n",
              "    }\n",
              "\n",
              "    .dataframe thead th {\n",
              "        text-align: right;\n",
              "    }\n",
              "</style>\n",
              "<table border=\"1\" class=\"dataframe\">\n",
              "  <thead>\n",
              "    <tr style=\"text-align: right;\">\n",
              "      <th></th>\n",
              "      <th>Embarked</th>\n",
              "      <th>Embarked_C</th>\n",
              "      <th>Embarked_Q</th>\n",
              "      <th>Embarked_S</th>\n",
              "    </tr>\n",
              "    <tr>\n",
              "      <th>PassengerId</th>\n",
              "      <th></th>\n",
              "      <th></th>\n",
              "      <th></th>\n",
              "      <th></th>\n",
              "    </tr>\n",
              "  </thead>\n",
              "  <tbody>\n",
              "    <tr>\n",
              "      <th>892</th>\n",
              "      <td>Q</td>\n",
              "      <td>False</td>\n",
              "      <td>True</td>\n",
              "      <td>False</td>\n",
              "    </tr>\n",
              "    <tr>\n",
              "      <th>893</th>\n",
              "      <td>S</td>\n",
              "      <td>False</td>\n",
              "      <td>False</td>\n",
              "      <td>True</td>\n",
              "    </tr>\n",
              "    <tr>\n",
              "      <th>894</th>\n",
              "      <td>Q</td>\n",
              "      <td>False</td>\n",
              "      <td>True</td>\n",
              "      <td>False</td>\n",
              "    </tr>\n",
              "    <tr>\n",
              "      <th>895</th>\n",
              "      <td>S</td>\n",
              "      <td>False</td>\n",
              "      <td>False</td>\n",
              "      <td>True</td>\n",
              "    </tr>\n",
              "    <tr>\n",
              "      <th>896</th>\n",
              "      <td>S</td>\n",
              "      <td>False</td>\n",
              "      <td>False</td>\n",
              "      <td>True</td>\n",
              "    </tr>\n",
              "  </tbody>\n",
              "</table>\n",
              "</div>"
            ],
            "text/plain": [
              "            Embarked  Embarked_C  Embarked_Q  Embarked_S\n",
              "PassengerId                                             \n",
              "892                Q       False        True       False\n",
              "893                S       False       False        True\n",
              "894                Q       False        True       False\n",
              "895                S       False       False        True\n",
              "896                S       False       False        True"
            ]
          },
          "metadata": {
            "tags": []
          },
          "execution_count": 61
        }
      ]
    },
    {
      "cell_type": "markdown",
      "metadata": {
        "id": "qRUgtiEMsnVB",
        "colab_type": "text"
      },
      "source": [
        "### Fill in missing Fare"
      ]
    },
    {
      "cell_type": "code",
      "metadata": {
        "id": "rtDP3EvstGPE",
        "colab_type": "code",
        "colab": {
          "base_uri": "https://localhost:8080/",
          "height": 100
        },
        "outputId": "4eb0312a-8c6e-4b7c-ee35-a86908c0ce6c"
      },
      "source": [
        "test[\"Fare\"] = test[\"Fare\"].fillna(0)   # 1개밖에 없어서 걍 0을 넣어준 것\n",
        "test[test[\"Fare\"].isnull()]"
      ],
      "execution_count": null,
      "outputs": [
        {
          "output_type": "execute_result",
          "data": {
            "text/html": [
              "<div>\n",
              "<style scoped>\n",
              "    .dataframe tbody tr th:only-of-type {\n",
              "        vertical-align: middle;\n",
              "    }\n",
              "\n",
              "    .dataframe tbody tr th {\n",
              "        vertical-align: top;\n",
              "    }\n",
              "\n",
              "    .dataframe thead th {\n",
              "        text-align: right;\n",
              "    }\n",
              "</style>\n",
              "<table border=\"1\" class=\"dataframe\">\n",
              "  <thead>\n",
              "    <tr style=\"text-align: right;\">\n",
              "      <th></th>\n",
              "      <th>Pclass</th>\n",
              "      <th>Name</th>\n",
              "      <th>Sex</th>\n",
              "      <th>Age</th>\n",
              "      <th>SibSp</th>\n",
              "      <th>Parch</th>\n",
              "      <th>Ticket</th>\n",
              "      <th>Fare</th>\n",
              "      <th>Cabin</th>\n",
              "      <th>Embarked</th>\n",
              "      <th>Sex_encode</th>\n",
              "      <th>Embarked_C</th>\n",
              "      <th>Embarked_S</th>\n",
              "      <th>Embarked_Q</th>\n",
              "    </tr>\n",
              "    <tr>\n",
              "      <th>PassengerId</th>\n",
              "      <th></th>\n",
              "      <th></th>\n",
              "      <th></th>\n",
              "      <th></th>\n",
              "      <th></th>\n",
              "      <th></th>\n",
              "      <th></th>\n",
              "      <th></th>\n",
              "      <th></th>\n",
              "      <th></th>\n",
              "      <th></th>\n",
              "      <th></th>\n",
              "      <th></th>\n",
              "      <th></th>\n",
              "    </tr>\n",
              "  </thead>\n",
              "  <tbody>\n",
              "  </tbody>\n",
              "</table>\n",
              "</div>"
            ],
            "text/plain": [
              "Empty DataFrame\n",
              "Columns: [Pclass, Name, Sex, Age, SibSp, Parch, Ticket, Fare, Cabin, Embarked, Sex_encode, Embarked_C, Embarked_S, Embarked_Q]\n",
              "Index: []"
            ]
          },
          "metadata": {
            "tags": []
          },
          "execution_count": 62
        }
      ]
    },
    {
      "cell_type": "markdown",
      "metadata": {
        "id": "Ppf_QCmLsXZa",
        "colab_type": "text"
      },
      "source": [
        "### Train"
      ]
    },
    {
      "cell_type": "markdown",
      "metadata": {
        "id": "V70WvH6YuVll",
        "colab_type": "text"
      },
      "source": [
        "**필요 데이터**\n",
        "* **Feature**: 정답 맞추는 데 도움되는 데이터 (`Pclass`, `Sex`, `Fare`, ...)\n",
        "* **Label**: 우리가 맞춰야 할 정답 (`Survived`)"
      ]
    },
    {
      "cell_type": "code",
      "metadata": {
        "id": "Dh30SVYlsg_q",
        "colab_type": "code",
        "colab": {
          "base_uri": "https://localhost:8080/",
          "height": 35
        },
        "outputId": "76832a4b-9180-4995-ee9b-4d8859f010de"
      },
      "source": [
        "feature_names = [\"Pclass\", \"Sex_encode\", \"Fare\", \"Embarked_C\", \"Embarked_Q\", \"Embarked_S\"]\n",
        "feature_names"
      ],
      "execution_count": null,
      "outputs": [
        {
          "output_type": "execute_result",
          "data": {
            "text/plain": [
              "['Pclass', 'Sex_encode', 'Fare', 'Embarked_C', 'Embarked_Q', 'Embarked_S']"
            ]
          },
          "metadata": {
            "tags": []
          },
          "execution_count": 63
        }
      ]
    },
    {
      "cell_type": "code",
      "metadata": {
        "id": "imF8A9mZuxYa",
        "colab_type": "code",
        "colab": {
          "base_uri": "https://localhost:8080/",
          "height": 253
        },
        "outputId": "ff3b6457-785e-4e1a-cdce-38e2f5695ca5"
      },
      "source": [
        "X_train = train[feature_names]\n",
        "\n",
        "print(X_train.shape)\n",
        "X_train.head()"
      ],
      "execution_count": null,
      "outputs": [
        {
          "output_type": "stream",
          "text": [
            "(891, 6)\n"
          ],
          "name": "stdout"
        },
        {
          "output_type": "execute_result",
          "data": {
            "text/html": [
              "<div>\n",
              "<style scoped>\n",
              "    .dataframe tbody tr th:only-of-type {\n",
              "        vertical-align: middle;\n",
              "    }\n",
              "\n",
              "    .dataframe tbody tr th {\n",
              "        vertical-align: top;\n",
              "    }\n",
              "\n",
              "    .dataframe thead th {\n",
              "        text-align: right;\n",
              "    }\n",
              "</style>\n",
              "<table border=\"1\" class=\"dataframe\">\n",
              "  <thead>\n",
              "    <tr style=\"text-align: right;\">\n",
              "      <th></th>\n",
              "      <th>Pclass</th>\n",
              "      <th>Sex_encode</th>\n",
              "      <th>Fare</th>\n",
              "      <th>Embarked_C</th>\n",
              "      <th>Embarked_Q</th>\n",
              "      <th>Embarked_S</th>\n",
              "    </tr>\n",
              "    <tr>\n",
              "      <th>PassengerId</th>\n",
              "      <th></th>\n",
              "      <th></th>\n",
              "      <th></th>\n",
              "      <th></th>\n",
              "      <th></th>\n",
              "      <th></th>\n",
              "    </tr>\n",
              "  </thead>\n",
              "  <tbody>\n",
              "    <tr>\n",
              "      <th>1</th>\n",
              "      <td>3</td>\n",
              "      <td>0</td>\n",
              "      <td>7.2500</td>\n",
              "      <td>False</td>\n",
              "      <td>False</td>\n",
              "      <td>True</td>\n",
              "    </tr>\n",
              "    <tr>\n",
              "      <th>2</th>\n",
              "      <td>1</td>\n",
              "      <td>1</td>\n",
              "      <td>71.2833</td>\n",
              "      <td>True</td>\n",
              "      <td>False</td>\n",
              "      <td>False</td>\n",
              "    </tr>\n",
              "    <tr>\n",
              "      <th>3</th>\n",
              "      <td>3</td>\n",
              "      <td>1</td>\n",
              "      <td>7.9250</td>\n",
              "      <td>False</td>\n",
              "      <td>False</td>\n",
              "      <td>True</td>\n",
              "    </tr>\n",
              "    <tr>\n",
              "      <th>4</th>\n",
              "      <td>1</td>\n",
              "      <td>1</td>\n",
              "      <td>53.1000</td>\n",
              "      <td>False</td>\n",
              "      <td>False</td>\n",
              "      <td>True</td>\n",
              "    </tr>\n",
              "    <tr>\n",
              "      <th>5</th>\n",
              "      <td>3</td>\n",
              "      <td>0</td>\n",
              "      <td>8.0500</td>\n",
              "      <td>False</td>\n",
              "      <td>False</td>\n",
              "      <td>True</td>\n",
              "    </tr>\n",
              "  </tbody>\n",
              "</table>\n",
              "</div>"
            ],
            "text/plain": [
              "             Pclass  Sex_encode     Fare  Embarked_C  Embarked_Q  Embarked_S\n",
              "PassengerId                                                                 \n",
              "1                 3           0   7.2500       False       False        True\n",
              "2                 1           1  71.2833        True       False       False\n",
              "3                 3           1   7.9250       False       False        True\n",
              "4                 1           1  53.1000       False       False        True\n",
              "5                 3           0   8.0500       False       False        True"
            ]
          },
          "metadata": {
            "tags": []
          },
          "execution_count": 64
        }
      ]
    },
    {
      "cell_type": "code",
      "metadata": {
        "id": "WKm4VSyDwnus",
        "colab_type": "code",
        "colab": {
          "base_uri": "https://localhost:8080/",
          "height": 253
        },
        "outputId": "91db1b2c-0680-4a86-d98e-e576e31f96b5"
      },
      "source": [
        "X_test = test[feature_names]\n",
        "\n",
        "print(X_test.shape)\n",
        "X_test.head()"
      ],
      "execution_count": null,
      "outputs": [
        {
          "output_type": "stream",
          "text": [
            "(418, 6)\n"
          ],
          "name": "stdout"
        },
        {
          "output_type": "execute_result",
          "data": {
            "text/html": [
              "<div>\n",
              "<style scoped>\n",
              "    .dataframe tbody tr th:only-of-type {\n",
              "        vertical-align: middle;\n",
              "    }\n",
              "\n",
              "    .dataframe tbody tr th {\n",
              "        vertical-align: top;\n",
              "    }\n",
              "\n",
              "    .dataframe thead th {\n",
              "        text-align: right;\n",
              "    }\n",
              "</style>\n",
              "<table border=\"1\" class=\"dataframe\">\n",
              "  <thead>\n",
              "    <tr style=\"text-align: right;\">\n",
              "      <th></th>\n",
              "      <th>Pclass</th>\n",
              "      <th>Sex_encode</th>\n",
              "      <th>Fare</th>\n",
              "      <th>Embarked_C</th>\n",
              "      <th>Embarked_Q</th>\n",
              "      <th>Embarked_S</th>\n",
              "    </tr>\n",
              "    <tr>\n",
              "      <th>PassengerId</th>\n",
              "      <th></th>\n",
              "      <th></th>\n",
              "      <th></th>\n",
              "      <th></th>\n",
              "      <th></th>\n",
              "      <th></th>\n",
              "    </tr>\n",
              "  </thead>\n",
              "  <tbody>\n",
              "    <tr>\n",
              "      <th>892</th>\n",
              "      <td>3</td>\n",
              "      <td>0</td>\n",
              "      <td>7.8292</td>\n",
              "      <td>False</td>\n",
              "      <td>True</td>\n",
              "      <td>False</td>\n",
              "    </tr>\n",
              "    <tr>\n",
              "      <th>893</th>\n",
              "      <td>3</td>\n",
              "      <td>1</td>\n",
              "      <td>7.0000</td>\n",
              "      <td>False</td>\n",
              "      <td>False</td>\n",
              "      <td>True</td>\n",
              "    </tr>\n",
              "    <tr>\n",
              "      <th>894</th>\n",
              "      <td>2</td>\n",
              "      <td>0</td>\n",
              "      <td>9.6875</td>\n",
              "      <td>False</td>\n",
              "      <td>True</td>\n",
              "      <td>False</td>\n",
              "    </tr>\n",
              "    <tr>\n",
              "      <th>895</th>\n",
              "      <td>3</td>\n",
              "      <td>0</td>\n",
              "      <td>8.6625</td>\n",
              "      <td>False</td>\n",
              "      <td>False</td>\n",
              "      <td>True</td>\n",
              "    </tr>\n",
              "    <tr>\n",
              "      <th>896</th>\n",
              "      <td>3</td>\n",
              "      <td>1</td>\n",
              "      <td>12.2875</td>\n",
              "      <td>False</td>\n",
              "      <td>False</td>\n",
              "      <td>True</td>\n",
              "    </tr>\n",
              "  </tbody>\n",
              "</table>\n",
              "</div>"
            ],
            "text/plain": [
              "             Pclass  Sex_encode     Fare  Embarked_C  Embarked_Q  Embarked_S\n",
              "PassengerId                                                                 \n",
              "892               3           0   7.8292       False        True       False\n",
              "893               3           1   7.0000       False       False        True\n",
              "894               2           0   9.6875       False        True       False\n",
              "895               3           0   8.6625       False       False        True\n",
              "896               3           1  12.2875       False       False        True"
            ]
          },
          "metadata": {
            "tags": []
          },
          "execution_count": 65
        }
      ]
    },
    {
      "cell_type": "code",
      "metadata": {
        "id": "D5r9_p6EybaV",
        "colab_type": "code",
        "colab": {
          "base_uri": "https://localhost:8080/",
          "height": 161
        },
        "outputId": "6df78070-80ce-4d44-d0ab-b862bcf9856c"
      },
      "source": [
        "label_name = \"Survived\"\n",
        "y_train = train[label_name]\n",
        "\n",
        "print(y_train.shape)\n",
        "y_train.head()"
      ],
      "execution_count": null,
      "outputs": [
        {
          "output_type": "stream",
          "text": [
            "(891,)\n"
          ],
          "name": "stdout"
        },
        {
          "output_type": "execute_result",
          "data": {
            "text/plain": [
              "PassengerId\n",
              "1    0\n",
              "2    1\n",
              "3    1\n",
              "4    1\n",
              "5    0\n",
              "Name: Survived, dtype: int64"
            ]
          },
          "metadata": {
            "tags": []
          },
          "execution_count": 66
        }
      ]
    },
    {
      "cell_type": "markdown",
      "metadata": {
        "id": "Ttg7Zqpjsiaq",
        "colab_type": "text"
      },
      "source": [
        "### Use Decision Tree"
      ]
    },
    {
      "cell_type": "markdown",
      "metadata": {
        "id": "hPbwWh9Ry86D",
        "colab_type": "text"
      },
      "source": [
        "개략적인 원리만 이해하고 구현체만 잘 갖다 쓰면 됨^^"
      ]
    },
    {
      "cell_type": "code",
      "metadata": {
        "id": "b_K0pqf5sgPR",
        "colab_type": "code",
        "colab": {
          "base_uri": "https://localhost:8080/",
          "height": 125
        },
        "outputId": "232a04a8-9d83-41e3-d943-88065bb8c11d"
      },
      "source": [
        "## scikit-learn\n",
        "from sklearn.tree import DecisionTreeClassifier\n",
        "\n",
        "## 트리모델 가져와 쓰기 위해!\n",
        "## Fare 변수는 너무 많은 가지를 만들 위험 있으므로 max_depth(최대깊이)로 제한\n",
        "model = DecisionTreeClassifier(max_depth = 5)\n",
        "model"
      ],
      "execution_count": null,
      "outputs": [
        {
          "output_type": "execute_result",
          "data": {
            "text/plain": [
              "DecisionTreeClassifier(ccp_alpha=0.0, class_weight=None, criterion='gini',\n",
              "                       max_depth=5, max_features=None, max_leaf_nodes=None,\n",
              "                       min_impurity_decrease=0.0, min_impurity_split=None,\n",
              "                       min_samples_leaf=1, min_samples_split=2,\n",
              "                       min_weight_fraction_leaf=0.0, presort='deprecated',\n",
              "                       random_state=None, splitter='best')"
            ]
          },
          "metadata": {
            "tags": []
          },
          "execution_count": 67
        }
      ]
    },
    {
      "cell_type": "code",
      "metadata": {
        "id": "Vp1bmuk4zqWf",
        "colab_type": "code",
        "colab": {
          "base_uri": "https://localhost:8080/",
          "height": 125
        },
        "outputId": "4921a09d-893a-4b21-d3fc-bf95ac5affcf"
      },
      "source": [
        "# 1) fit (데이터 사이의 패턴을 기계가 직접 분석/학습한다) -> train\n",
        "# 2) predict -> test\n",
        "model.fit(X_train, y_train)"
      ],
      "execution_count": null,
      "outputs": [
        {
          "output_type": "execute_result",
          "data": {
            "text/plain": [
              "DecisionTreeClassifier(ccp_alpha=0.0, class_weight=None, criterion='gini',\n",
              "                       max_depth=5, max_features=None, max_leaf_nodes=None,\n",
              "                       min_impurity_decrease=0.0, min_impurity_split=None,\n",
              "                       min_samples_leaf=1, min_samples_split=2,\n",
              "                       min_weight_fraction_leaf=0.0, presort='deprecated',\n",
              "                       random_state=None, splitter='best')"
            ]
          },
          "metadata": {
            "tags": []
          },
          "execution_count": 68
        }
      ]
    },
    {
      "cell_type": "code",
      "metadata": {
        "id": "BRGh_9VV0ugf",
        "colab_type": "code",
        "colab": {
          "base_uri": "https://localhost:8080/",
          "height": 53
        },
        "outputId": "801985a4-b347-436c-9919-3e12886f8ac7"
      },
      "source": [
        "prediction = model.predict(X_test)\n",
        "print(prediction.shape)\n",
        "prediction[0:5]   # 리스트와 유사한 numpy의 array 객체"
      ],
      "execution_count": null,
      "outputs": [
        {
          "output_type": "stream",
          "text": [
            "(418,)\n"
          ],
          "name": "stdout"
        },
        {
          "output_type": "execute_result",
          "data": {
            "text/plain": [
              "array([0, 0, 0, 0, 1])"
            ]
          },
          "metadata": {
            "tags": []
          },
          "execution_count": 69
        }
      ]
    },
    {
      "cell_type": "code",
      "metadata": {
        "id": "9x2mrVHw00Cj",
        "colab_type": "code",
        "colab": {
          "base_uri": "https://localhost:8080/",
          "height": 271
        },
        "outputId": "f35cd7d0-0e54-41d5-ff7c-177e7d04243b"
      },
      "source": [
        "submit = pd.read_csv(\"/content/drive/My Drive/Colab Notebooks/data/titanic/gender_submission.csv\", index_col=\"PassengerId\")\n",
        "print(submit.shape)\n",
        "\n",
        "submit[\"Survived\"] = prediction\n",
        "print(submit.shape)\n",
        "submit.head()"
      ],
      "execution_count": null,
      "outputs": [
        {
          "output_type": "stream",
          "text": [
            "(418, 1)\n",
            "(418, 1)\n"
          ],
          "name": "stdout"
        },
        {
          "output_type": "execute_result",
          "data": {
            "text/html": [
              "<div>\n",
              "<style scoped>\n",
              "    .dataframe tbody tr th:only-of-type {\n",
              "        vertical-align: middle;\n",
              "    }\n",
              "\n",
              "    .dataframe tbody tr th {\n",
              "        vertical-align: top;\n",
              "    }\n",
              "\n",
              "    .dataframe thead th {\n",
              "        text-align: right;\n",
              "    }\n",
              "</style>\n",
              "<table border=\"1\" class=\"dataframe\">\n",
              "  <thead>\n",
              "    <tr style=\"text-align: right;\">\n",
              "      <th></th>\n",
              "      <th>Survived</th>\n",
              "    </tr>\n",
              "    <tr>\n",
              "      <th>PassengerId</th>\n",
              "      <th></th>\n",
              "    </tr>\n",
              "  </thead>\n",
              "  <tbody>\n",
              "    <tr>\n",
              "      <th>892</th>\n",
              "      <td>0</td>\n",
              "    </tr>\n",
              "    <tr>\n",
              "      <th>893</th>\n",
              "      <td>0</td>\n",
              "    </tr>\n",
              "    <tr>\n",
              "      <th>894</th>\n",
              "      <td>0</td>\n",
              "    </tr>\n",
              "    <tr>\n",
              "      <th>895</th>\n",
              "      <td>0</td>\n",
              "    </tr>\n",
              "    <tr>\n",
              "      <th>896</th>\n",
              "      <td>1</td>\n",
              "    </tr>\n",
              "  </tbody>\n",
              "</table>\n",
              "</div>"
            ],
            "text/plain": [
              "             Survived\n",
              "PassengerId          \n",
              "892                 0\n",
              "893                 0\n",
              "894                 0\n",
              "895                 0\n",
              "896                 1"
            ]
          },
          "metadata": {
            "tags": []
          },
          "execution_count": 71
        }
      ]
    },
    {
      "cell_type": "code",
      "metadata": {
        "id": "CGLh_aM91iDZ",
        "colab_type": "code",
        "colab": {}
      },
      "source": [
        "submit.to_csv(\"/content/drive/My Drive/Colab Notebooks/data/titanic/decision-tree.csv\")"
      ],
      "execution_count": null,
      "outputs": []
    },
    {
      "cell_type": "markdown",
      "metadata": {
        "id": "Z9FtL2zXqh2m",
        "colab_type": "text"
      },
      "source": [
        ""
      ]
    }
  ]
}