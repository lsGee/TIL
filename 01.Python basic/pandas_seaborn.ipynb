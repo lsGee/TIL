{
  "nbformat": 4,
  "nbformat_minor": 0,
  "metadata": {
    "colab": {
      "name": "pandas_seaborn.ipynb",
      "provenance": [],
      "authorship_tag": "ABX9TyO9o+ZbCw+v2MbciWOo8NAF"
    },
    "kernelspec": {
      "name": "python3",
      "display_name": "Python 3"
    }
  },
  "cells": [
    {
      "cell_type": "code",
      "metadata": {
        "id": "LCq4lG_6jlgi",
        "colab_type": "code",
        "colab": {
          "base_uri": "https://localhost:8080/",
          "height": 73
        },
        "outputId": "56dc830d-104a-4bd2-f89c-f6c228dc8669"
      },
      "source": [
        "# 데이터 시각화 패키지 matpoltlib을 inline 출력\n",
        "# 시각화 결과를 파일이 아닌 화면에 바로 출력\n",
        "# matplotlib 기반으로 동작하는 seaborn에도 동일하게 적용\n",
        "%matplotlib inline\n",
        "\n",
        "import pandas as pd\n",
        "import seaborn as sns"
      ],
      "execution_count": null,
      "outputs": [
        {
          "output_type": "stream",
          "text": [
            "/usr/local/lib/python3.6/dist-packages/statsmodels/tools/_testing.py:19: FutureWarning: pandas.util.testing is deprecated. Use the functions in the public API at pandas.testing instead.\n",
            "  import pandas.util.testing as tm\n"
          ],
          "name": "stderr"
        }
      ]
    },
    {
      "cell_type": "code",
      "metadata": {
        "id": "freLP3t7kpnI",
        "colab_type": "code",
        "colab": {}
      },
      "source": [
        ""
      ],
      "execution_count": null,
      "outputs": []
    }
  ]
}